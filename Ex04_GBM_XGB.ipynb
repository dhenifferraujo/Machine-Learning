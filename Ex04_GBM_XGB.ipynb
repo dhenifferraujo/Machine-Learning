{
  "nbformat": 4,
  "nbformat_minor": 0,
  "metadata": {
    "accelerator": "GPU",
    "colab": {
      "name": "Ex04_GBM_XGB.ipynb",
      "provenance": [],
      "collapsed_sections": [],
      "include_colab_link": true
    },
    "kernelspec": {
      "display_name": "Python 3",
      "name": "python3"
    }
  },
  "cells": [
    {
      "cell_type": "markdown",
      "metadata": {
        "id": "view-in-github",
        "colab_type": "text"
      },
      "source": [
        "<a href=\"https://colab.research.google.com/github/dhenifferraujo/Machine-Learning/blob/main/Ex04_GBM_XGB.ipynb\" target=\"_parent\"><img src=\"https://colab.research.google.com/assets/colab-badge.svg\" alt=\"Open In Colab\"/></a>"
      ]
    },
    {
      "cell_type": "markdown",
      "metadata": {
        "id": "mGKHv1rCvyRJ"
      },
      "source": [
        "# SCC-ICMC-USP - 1o. semestre de 2021\n",
        "# SCC5871/MAI5025 - APRENDIZADO DE MÁQUINA\n",
        "# **Exercício 4**\n",
        "\n",
        "### Profa. Roseli A. F. Romero\n",
        "\n",
        "### PAE: Guilherme V. Nardari\n",
        "\n"
      ]
    },
    {
      "cell_type": "markdown",
      "metadata": {
        "id": "5W60BKvfr2pq"
      },
      "source": [
        "Considere o arquivo `houses_to_rent_v2.csv`. Esta base tem dados de imóveis para 5 cidades do Brasil. Esta base pode ser usada tanto pelo proprietário quanto pelo locatário. Pretende-se que um proprietario\n",
        "tenha uma estimativa do preço que pode alugar seu imóvel, através de seus atributos. Por outro lado, pretende-se que um locatário possa estimar se o aluguel é condizente."
      ]
    },
    {
      "cell_type": "markdown",
      "metadata": {
        "id": "7D9C-F06urva"
      },
      "source": [
        "### Questão 1 (Mesmo do ex. anterior)\n",
        " \n",
        " - Separe o conjunto em treinamento (80%) e teste (20%)\n",
        " - Verifique se é necessário um preprocessamento nos dados. Justifique o(s) tipo (s) de preprocessamento que foram feitos\n",
        " - Dica: O Sklearn não trabalha com atributos nominais em árvores de decisão"
      ]
    },
    {
      "cell_type": "code",
      "metadata": {
        "colab": {
          "base_uri": "https://localhost:8080/"
        },
        "id": "wT9Yj9lzsb8V",
        "outputId": "7e07d1bc-f477-415b-aaeb-8d3687f4e52c"
      },
      "source": [
        "from sklearn.model_selection import train_test_split\n",
        "from sklearn.metrics import mean_squared_error\n",
        "from sklearn.metrics import r2_score\n",
        "from sklearn.preprocessing import LabelEncoder\n",
        "from math import sqrt\n",
        "import pandas as pd\n",
        "import numpy as np\n",
        "\n",
        "data = pd.read_csv('houses_to_rent_v2.csv', na_values='-')\n",
        "# Vamos ignorar algumas colunas para simplificar o problema\n",
        "data = data[['city', 'rooms', 'bathroom', 'parking spaces', 'furniture', 'fire insurance (R$)', 'rent amount (R$)']]\n",
        "data = data.reset_index(drop=True)\n",
        "print(data.shape[0])\n",
        "print(data.info())"
      ],
      "execution_count": null,
      "outputs": [
        {
          "output_type": "stream",
          "text": [
            "10692\n",
            "<class 'pandas.core.frame.DataFrame'>\n",
            "RangeIndex: 10692 entries, 0 to 10691\n",
            "Data columns (total 7 columns):\n",
            " #   Column               Non-Null Count  Dtype \n",
            "---  ------               --------------  ----- \n",
            " 0   city                 10692 non-null  object\n",
            " 1   rooms                10692 non-null  int64 \n",
            " 2   bathroom             10692 non-null  int64 \n",
            " 3   parking spaces       10692 non-null  int64 \n",
            " 4   furniture            10692 non-null  object\n",
            " 5   fire insurance (R$)  10692 non-null  int64 \n",
            " 6   rent amount (R$)     10692 non-null  int64 \n",
            "dtypes: int64(5), object(2)\n",
            "memory usage: 584.8+ KB\n",
            "None\n"
          ],
          "name": "stdout"
        }
      ]
    },
    {
      "cell_type": "code",
      "metadata": {
        "colab": {
          "base_uri": "https://localhost:8080/",
          "height": 304
        },
        "id": "McfUKaIZYDRI",
        "outputId": "51a50052-daea-4c44-c71a-d7cfb5dadc4c"
      },
      "source": [
        "labels_city = set(data['city'])\n",
        "labels_furniture = set(data['furniture'].head())\n",
        "\n",
        "data.head()"
      ],
      "execution_count": null,
      "outputs": [
        {
          "output_type": "execute_result",
          "data": {
            "text/html": [
              "<div>\n",
              "<style scoped>\n",
              "    .dataframe tbody tr th:only-of-type {\n",
              "        vertical-align: middle;\n",
              "    }\n",
              "\n",
              "    .dataframe tbody tr th {\n",
              "        vertical-align: top;\n",
              "    }\n",
              "\n",
              "    .dataframe thead th {\n",
              "        text-align: right;\n",
              "    }\n",
              "</style>\n",
              "<table border=\"1\" class=\"dataframe\">\n",
              "  <thead>\n",
              "    <tr style=\"text-align: right;\">\n",
              "      <th></th>\n",
              "      <th>city</th>\n",
              "      <th>rooms</th>\n",
              "      <th>bathroom</th>\n",
              "      <th>parking spaces</th>\n",
              "      <th>furniture</th>\n",
              "      <th>fire insurance (R$)</th>\n",
              "      <th>rent amount (R$)</th>\n",
              "    </tr>\n",
              "  </thead>\n",
              "  <tbody>\n",
              "    <tr>\n",
              "      <th>0</th>\n",
              "      <td>São Paulo</td>\n",
              "      <td>2</td>\n",
              "      <td>1</td>\n",
              "      <td>1</td>\n",
              "      <td>furnished</td>\n",
              "      <td>42</td>\n",
              "      <td>3300</td>\n",
              "    </tr>\n",
              "    <tr>\n",
              "      <th>1</th>\n",
              "      <td>São Paulo</td>\n",
              "      <td>4</td>\n",
              "      <td>4</td>\n",
              "      <td>0</td>\n",
              "      <td>not furnished</td>\n",
              "      <td>63</td>\n",
              "      <td>4960</td>\n",
              "    </tr>\n",
              "    <tr>\n",
              "      <th>2</th>\n",
              "      <td>Porto Alegre</td>\n",
              "      <td>1</td>\n",
              "      <td>1</td>\n",
              "      <td>1</td>\n",
              "      <td>not furnished</td>\n",
              "      <td>41</td>\n",
              "      <td>2800</td>\n",
              "    </tr>\n",
              "    <tr>\n",
              "      <th>3</th>\n",
              "      <td>Porto Alegre</td>\n",
              "      <td>2</td>\n",
              "      <td>1</td>\n",
              "      <td>0</td>\n",
              "      <td>not furnished</td>\n",
              "      <td>17</td>\n",
              "      <td>1112</td>\n",
              "    </tr>\n",
              "    <tr>\n",
              "      <th>4</th>\n",
              "      <td>São Paulo</td>\n",
              "      <td>1</td>\n",
              "      <td>1</td>\n",
              "      <td>0</td>\n",
              "      <td>not furnished</td>\n",
              "      <td>11</td>\n",
              "      <td>800</td>\n",
              "    </tr>\n",
              "  </tbody>\n",
              "</table>\n",
              "</div>"
            ],
            "text/plain": [
              "           city  rooms  ...  fire insurance (R$)  rent amount (R$)\n",
              "0     São Paulo      2  ...                   42              3300\n",
              "1     São Paulo      4  ...                   63              4960\n",
              "2  Porto Alegre      1  ...                   41              2800\n",
              "3  Porto Alegre      2  ...                   17              1112\n",
              "4     São Paulo      1  ...                   11               800\n",
              "\n",
              "[5 rows x 7 columns]"
            ]
          },
          "metadata": {
            "tags": []
          },
          "execution_count": 5
        }
      ]
    },
    {
      "cell_type": "code",
      "metadata": {
        "colab": {
          "base_uri": "https://localhost:8080/",
          "height": 220
        },
        "id": "iJhVOjeXYKcu",
        "outputId": "1ca02111-f9cb-4a26-8b00-2f13afb63402"
      },
      "source": [
        "#Estamos utilizando o LabelEncoder do sklearn para converter os valores categóricos em valores numéricos\n",
        "\n",
        "label_encoder1 = LabelEncoder()\n",
        "data['furniture'] = label_encoder1.fit_transform(data['furniture'])\n",
        "\n",
        "label_encoder2 = LabelEncoder()\n",
        "data['city'] = label_encoder2.fit_transform(data['city'])\n",
        "\n",
        "data.head()"
      ],
      "execution_count": null,
      "outputs": [
        {
          "output_type": "execute_result",
          "data": {
            "text/html": [
              "<div>\n",
              "<style scoped>\n",
              "    .dataframe tbody tr th:only-of-type {\n",
              "        vertical-align: middle;\n",
              "    }\n",
              "\n",
              "    .dataframe tbody tr th {\n",
              "        vertical-align: top;\n",
              "    }\n",
              "\n",
              "    .dataframe thead th {\n",
              "        text-align: right;\n",
              "    }\n",
              "</style>\n",
              "<table border=\"1\" class=\"dataframe\">\n",
              "  <thead>\n",
              "    <tr style=\"text-align: right;\">\n",
              "      <th></th>\n",
              "      <th>city</th>\n",
              "      <th>rooms</th>\n",
              "      <th>bathroom</th>\n",
              "      <th>parking spaces</th>\n",
              "      <th>furniture</th>\n",
              "      <th>fire insurance (R$)</th>\n",
              "      <th>rent amount (R$)</th>\n",
              "    </tr>\n",
              "  </thead>\n",
              "  <tbody>\n",
              "    <tr>\n",
              "      <th>0</th>\n",
              "      <td>4</td>\n",
              "      <td>2</td>\n",
              "      <td>1</td>\n",
              "      <td>1</td>\n",
              "      <td>0</td>\n",
              "      <td>42</td>\n",
              "      <td>3300</td>\n",
              "    </tr>\n",
              "    <tr>\n",
              "      <th>1</th>\n",
              "      <td>4</td>\n",
              "      <td>4</td>\n",
              "      <td>4</td>\n",
              "      <td>0</td>\n",
              "      <td>1</td>\n",
              "      <td>63</td>\n",
              "      <td>4960</td>\n",
              "    </tr>\n",
              "    <tr>\n",
              "      <th>2</th>\n",
              "      <td>2</td>\n",
              "      <td>1</td>\n",
              "      <td>1</td>\n",
              "      <td>1</td>\n",
              "      <td>1</td>\n",
              "      <td>41</td>\n",
              "      <td>2800</td>\n",
              "    </tr>\n",
              "    <tr>\n",
              "      <th>3</th>\n",
              "      <td>2</td>\n",
              "      <td>2</td>\n",
              "      <td>1</td>\n",
              "      <td>0</td>\n",
              "      <td>1</td>\n",
              "      <td>17</td>\n",
              "      <td>1112</td>\n",
              "    </tr>\n",
              "    <tr>\n",
              "      <th>4</th>\n",
              "      <td>4</td>\n",
              "      <td>1</td>\n",
              "      <td>1</td>\n",
              "      <td>0</td>\n",
              "      <td>1</td>\n",
              "      <td>11</td>\n",
              "      <td>800</td>\n",
              "    </tr>\n",
              "  </tbody>\n",
              "</table>\n",
              "</div>"
            ],
            "text/plain": [
              "   city  rooms  bathroom  ...  furniture  fire insurance (R$)  rent amount (R$)\n",
              "0     4      2         1  ...          0                   42              3300\n",
              "1     4      4         4  ...          1                   63              4960\n",
              "2     2      1         1  ...          1                   41              2800\n",
              "3     2      2         1  ...          1                   17              1112\n",
              "4     4      1         1  ...          1                   11               800\n",
              "\n",
              "[5 rows x 7 columns]"
            ]
          },
          "metadata": {
            "tags": []
          },
          "execution_count": 6
        }
      ]
    },
    {
      "cell_type": "code",
      "metadata": {
        "colab": {
          "base_uri": "https://localhost:8080/"
        },
        "id": "JJBoLluPYYLu",
        "outputId": "641ae513-2154-4303-e269-43a2cf77c9ea"
      },
      "source": [
        "print(str(label_encoder1.classes_) + ' -> '  + str(set(data['furniture'].head())))\n",
        "print(str(label_encoder2.classes_) + ' -> '  + str(set(data['city'])))"
      ],
      "execution_count": null,
      "outputs": [
        {
          "output_type": "stream",
          "text": [
            "['furnished' 'not furnished'] -> {0, 1}\n",
            "['Belo Horizonte' 'Campinas' 'Porto Alegre' 'Rio de Janeiro' 'São Paulo'] -> {0, 1, 2, 3, 4}\n"
          ],
          "name": "stdout"
        }
      ]
    },
    {
      "cell_type": "code",
      "metadata": {
        "id": "ndiw3hnlYb6S"
      },
      "source": [
        "#Aqui nós estamos separando o target do dataset e separando o conjunto em treinamento (80%) e teste (20%)\n",
        "x = data.iloc[:,:-1]\n",
        "y = data.iloc[:,-1:]\n",
        "\n",
        "x_train, x_test, y_train, y_test = train_test_split(x, y, train_size=0.8, random_state=0)"
      ],
      "execution_count": null,
      "outputs": []
    },
    {
      "cell_type": "code",
      "metadata": {
        "colab": {
          "base_uri": "https://localhost:8080/"
        },
        "id": "9p1PySNbYK9Y",
        "outputId": "ae376df8-d21f-4b49-a7ac-d6c45872ce57"
      },
      "source": [
        "y_train.values.reshape(-1)"
      ],
      "execution_count": null,
      "outputs": [
        {
          "output_type": "execute_result",
          "data": {
            "text/plain": [
              "array([1450, 1580, 3400, ..., 4000, 4500, 1300])"
            ]
          },
          "metadata": {
            "tags": []
          },
          "execution_count": 9
        }
      ]
    },
    {
      "cell_type": "markdown",
      "metadata": {
        "id": "FTFk-GVUTOWu"
      },
      "source": [
        "### Questão 2\n",
        "\n",
        "Treine um modelo de regressão com o método de Gradient Boosting no conjunto de treinamento. Calcule o Mean Squared Error (MSE) e o R2 no conjunto de teste.\n",
        "\n",
        "Explore ao menos 5 configurações de hiperparâmetros, variando \n",
        "- Profundidade máxima dos estimadores\n",
        "- Nro de estimadores\n",
        "- Taxa de aprendizado\n",
        "- A fração de exemplos para treinamento dos estimadores\n",
        "- Dica: Utilize `sklearn.ensemble.GradientBoostingRegressor`"
      ]
    },
    {
      "cell_type": "code",
      "metadata": {
        "colab": {
          "base_uri": "https://localhost:8080/"
        },
        "id": "ZmJzZHwOLObo",
        "outputId": "9c38ace8-5615-4d6d-f074-ee304c32b2fc"
      },
      "source": [
        "from sklearn.ensemble import GradientBoostingRegressor\n",
        "from sklearn.model_selection import GridSearchCV\n",
        "\n",
        "parameters = {'max_depth':[4], \n",
        "              'random_state':[2], \n",
        "              'learning_rate':[0.1], \n",
        "              'n_estimators':[150,200,250, 300, 350], \n",
        "              'subsample':[ 0.5, 0.7, 0.9, 0.95, 1], \n",
        "              'max_features':[0.75, 0.8, 0.85, 0.9, 0.95] }\n",
        "\n",
        "# Instantiate gb\n",
        "model_gb = GradientBoostingRegressor()\n",
        "\n",
        "clf = GridSearchCV(model_gb, parameters, n_jobs=2, verbose=1)\n",
        "\n",
        "clf.fit(x_train, y_train.values.reshape(-1))\n",
        "\n",
        "print(clf.best_params_)\n",
        "print(clf.best_score_)\n",
        "best_gbr = clf.best_estimator_"
      ],
      "execution_count": null,
      "outputs": [
        {
          "output_type": "stream",
          "text": [
            "Fitting 5 folds for each of 125 candidates, totalling 625 fits\n"
          ],
          "name": "stdout"
        },
        {
          "output_type": "stream",
          "text": [
            "[Parallel(n_jobs=2)]: Using backend LokyBackend with 2 concurrent workers.\n",
            "[Parallel(n_jobs=2)]: Done  46 tasks      | elapsed:   17.5s\n",
            "[Parallel(n_jobs=2)]: Done 196 tasks      | elapsed:  1.6min\n",
            "[Parallel(n_jobs=2)]: Done 446 tasks      | elapsed:  3.9min\n",
            "[Parallel(n_jobs=2)]: Done 625 out of 625 | elapsed:  5.8min finished\n"
          ],
          "name": "stderr"
        },
        {
          "output_type": "stream",
          "text": [
            "{'learning_rate': 0.1, 'max_depth': 4, 'max_features': 0.85, 'n_estimators': 250, 'random_state': 2, 'subsample': 0.95}\n",
            "0.9873006594789248\n"
          ],
          "name": "stdout"
        }
      ]
    },
    {
      "cell_type": "code",
      "metadata": {
        "colab": {
          "base_uri": "https://localhost:8080/"
        },
        "id": "Nb19BQroaZOr",
        "outputId": "60de702c-c629-4f87-8ab0-91f28b268c07"
      },
      "source": [
        "y_regression1 = best_gbr.predict(x_test)\n",
        "\n",
        "mse = sqrt(mean_squared_error( y_test, y_regression1))\n",
        "\n",
        "print('MSE: '+str(mse))\n",
        "print('R2: '+str(best_gbr.score(x_test, y_test)))"
      ],
      "execution_count": null,
      "outputs": [
        {
          "output_type": "stream",
          "text": [
            "MSE: 473.89907573037306\n",
            "R2: 0.9825684914655469\n"
          ],
          "name": "stdout"
        }
      ]
    },
    {
      "cell_type": "markdown",
      "metadata": {
        "id": "JJ5PK5QYTR4B"
      },
      "source": [
        "### Questão 3\n",
        "\n",
        "Treine um modelo de regressão com o método XGBoost no conjunto de treino. Calcule o Mean Squared Error (MSE) e o R2 no conjunto de teste.\n",
        "\n",
        "- Dica: Utilize `xgboost.XGBRegressor`"
      ]
    },
    {
      "cell_type": "code",
      "metadata": {
        "id": "gGfDa5pfS9VY",
        "colab": {
          "base_uri": "https://localhost:8080/"
        },
        "outputId": "a5e47cd5-a4cf-422c-9ec2-b6d77d123f75"
      },
      "source": [
        "import xgboost as xgb\n",
        "\n",
        "\n",
        "xgbr = xgb.XGBRegressor(verbosity=0)\n",
        "\n",
        "xgbr.fit(x_train, y_train)\n",
        "\n",
        "\n",
        "y_regression2 = xgbr.predict(x_test)\n",
        "\n",
        "mse = sqrt(mean_squared_error( y_test, y_regression1))\n",
        "\n",
        "print('MSE: '+str(mse))\n",
        "print('R2: '+str(xgbr.score(x_test, y_test)))"
      ],
      "execution_count": null,
      "outputs": [
        {
          "output_type": "stream",
          "text": [
            "MSE: 473.89907573037306\n",
            "R2: 0.9805709543413166\n"
          ],
          "name": "stdout"
        }
      ]
    },
    {
      "cell_type": "markdown",
      "metadata": {
        "id": "J16NUNU14ru7"
      },
      "source": [
        "### Questão 4\n",
        "\n",
        "Compare seus resultados com os modelos do exercício anterior (DT e RF). Qual se saiu melhor? Por que você acredita que este foi o melhor método?\n",
        "\n",
        "- Dica: Cuidado para usar o mesmo train/test split em todos os modelos para que a comparação faça sentido. Para isso você pode treinar os modelos da semana passada nesse notebook ou utilizar o mesmo `random_state` na função `train_test_split` nos dois notebooks.\n",
        "\n",
        "\n"
      ]
    },
    {
      "cell_type": "markdown",
      "metadata": {
        "id": "N1Xnzv8e5IuR"
      },
      "source": [
        "#### Resposta: "
      ]
    },
    {
      "cell_type": "code",
      "metadata": {
        "id": "-384xyWahdSE",
        "colab": {
          "base_uri": "https://localhost:8080/"
        },
        "outputId": "26959fd8-fed3-465e-bcb7-ce4871e2f41a"
      },
      "source": [
        "#Treinando um modelo de regressão com Árvore de Decisão (DT) no conjunto de treino\n",
        "\n",
        "from sklearn import tree\n",
        "\n",
        "modeloDTR = tree.DecisionTreeRegressor(random_state=0)\n",
        "\n",
        "modeloDTR.fit(x_train, y_train)\n",
        "\n",
        "y_regression = modeloDTR.predict(x_test)\n",
        "\n",
        "print('Resultados usando o método de Árvore de Decisão:')\n",
        "\n",
        "#Calculando o r² no conjunto de teste\n",
        "r2_test = modeloDTR.score(x_test, y_test)\n",
        "print('R2 no conjunto de teste é: %.4f' % r2_test)\n",
        "\n",
        "#Calculando MSE no conjunto de teste\n",
        "mse = sqrt(mean_squared_error( y_test, y_regression1))\n",
        "print('MSE no conjunto de teste é: %.4f' % mse)"
      ],
      "execution_count": null,
      "outputs": [
        {
          "output_type": "stream",
          "text": [
            "Resultados usando o método de Árvore de Decisão:\n",
            "R2 no conjunto de teste é: 0.9749\n",
            "MSE no conjunto de teste é: 473.8991\n"
          ],
          "name": "stdout"
        }
      ]
    },
    {
      "cell_type": "code",
      "metadata": {
        "id": "1aGwz2IUjQfX",
        "colab": {
          "base_uri": "https://localhost:8080/"
        },
        "outputId": "defca498-3b68-4349-fd8c-34f4e6c48b44"
      },
      "source": [
        "#Treinando modelo de regressão com o Random Forest (RF) no conjunto de treino\n",
        "\n",
        "from sklearn.ensemble import RandomForestRegressor\n",
        "import sys\n",
        "\n",
        "modelRF = RandomForestRegressor(random_state=0)\n",
        "\n",
        "modelRF.fit(x_train, y_train)\n",
        "\n",
        "print('Resultados usando o método Random Forest:')\n",
        "\n",
        "#Calculando R²\n",
        "r2_test = modelRF.score(x_test, y_test)\n",
        "print('R2 no conjunto de teste é: %.4f' % r2_test)\n",
        "\n",
        "y_modelRFession = modelRF.predict(x_test)\n",
        "\n",
        "#Calculando MSE\n",
        "mse = sqrt(mean_squared_error( y_test, y_regression1))\n",
        "print('MSE no conjunto de teste é: %.4f' % mse)\n",
        "\n"
      ],
      "execution_count": null,
      "outputs": [
        {
          "output_type": "stream",
          "text": [
            "/usr/local/lib/python3.7/dist-packages/ipykernel_launcher.py:8: DataConversionWarning: A column-vector y was passed when a 1d array was expected. Please change the shape of y to (n_samples,), for example using ravel().\n",
            "  \n"
          ],
          "name": "stderr"
        },
        {
          "output_type": "stream",
          "text": [
            "Resultados usando o método Random Forest:\n",
            "R2 no conjunto de teste é: 0.9778\n",
            "MSE no conjunto de teste é: 473.8991\n"
          ],
          "name": "stdout"
        }
      ]
    },
    {
      "cell_type": "markdown",
      "metadata": {
        "id": "ZS-7DKdIrV8E"
      },
      "source": [
        "**Análise Comparativa:**\n",
        "Segundo os nossos resultados, as técnicas que obtiveram uma melhor performance com o dataset houses_to_rent_v2.csv foram as técnicas de Boosting. A métrica MSE teve o resultado bem aproximado nas técnicas comparadas. Já o R² obteve melhores resultados nas técnicas de Boosting, chegando a 0.98. Nós acreditamos que os métodos Boosting alcançaram melhores resultado devido ao fato deles terem a capacidade de lidar com os valores ausentes internamente (não precisaram de um tratamento separado para os recursos), enquanto que as técnicas DT e RF precisaram de um tratamento antes de serem treinadas, ou seja, precisaram de um tratamento separado para lidar com os valores ausentes no dataset. Enfim, as técnicas Boosting sabem lidar melhor a seleção de features. "
      ]
    },
    {
      "cell_type": "markdown",
      "metadata": {
        "id": "M_SjANzd5gdQ"
      },
      "source": [
        "### Questão 5\n",
        "\n",
        "Verifique a importância de cada feature para o resultado final utilizando o melhor modelo. O que isso diz sobre o problema que estamos tentando resolver?"
      ]
    },
    {
      "cell_type": "code",
      "metadata": {
        "id": "L64gHHJG3mF_",
        "colab": {
          "base_uri": "https://localhost:8080/",
          "height": 203
        },
        "outputId": "e565a0c8-d0b6-494b-862b-45869e0735de"
      },
      "source": [
        "\n",
        "labels_city = set(data['city'])\n",
        "labels_furniture = set(data['furniture'].head())\n",
        "label_bathroom = set(data['bathroom'].head())\n",
        "\n",
        "data.head()\n"
      ],
      "execution_count": null,
      "outputs": [
        {
          "output_type": "execute_result",
          "data": {
            "text/html": [
              "<div>\n",
              "<style scoped>\n",
              "    .dataframe tbody tr th:only-of-type {\n",
              "        vertical-align: middle;\n",
              "    }\n",
              "\n",
              "    .dataframe tbody tr th {\n",
              "        vertical-align: top;\n",
              "    }\n",
              "\n",
              "    .dataframe thead th {\n",
              "        text-align: right;\n",
              "    }\n",
              "</style>\n",
              "<table border=\"1\" class=\"dataframe\">\n",
              "  <thead>\n",
              "    <tr style=\"text-align: right;\">\n",
              "      <th></th>\n",
              "      <th>city</th>\n",
              "      <th>rooms</th>\n",
              "      <th>bathroom</th>\n",
              "      <th>parking spaces</th>\n",
              "      <th>furniture</th>\n",
              "      <th>fire insurance (R$)</th>\n",
              "      <th>rent amount (R$)</th>\n",
              "    </tr>\n",
              "  </thead>\n",
              "  <tbody>\n",
              "    <tr>\n",
              "      <th>0</th>\n",
              "      <td>4</td>\n",
              "      <td>2</td>\n",
              "      <td>1</td>\n",
              "      <td>1</td>\n",
              "      <td>0</td>\n",
              "      <td>42</td>\n",
              "      <td>3300</td>\n",
              "    </tr>\n",
              "    <tr>\n",
              "      <th>1</th>\n",
              "      <td>4</td>\n",
              "      <td>4</td>\n",
              "      <td>4</td>\n",
              "      <td>0</td>\n",
              "      <td>1</td>\n",
              "      <td>63</td>\n",
              "      <td>4960</td>\n",
              "    </tr>\n",
              "    <tr>\n",
              "      <th>2</th>\n",
              "      <td>2</td>\n",
              "      <td>1</td>\n",
              "      <td>1</td>\n",
              "      <td>1</td>\n",
              "      <td>1</td>\n",
              "      <td>41</td>\n",
              "      <td>2800</td>\n",
              "    </tr>\n",
              "    <tr>\n",
              "      <th>3</th>\n",
              "      <td>2</td>\n",
              "      <td>2</td>\n",
              "      <td>1</td>\n",
              "      <td>0</td>\n",
              "      <td>1</td>\n",
              "      <td>17</td>\n",
              "      <td>1112</td>\n",
              "    </tr>\n",
              "    <tr>\n",
              "      <th>4</th>\n",
              "      <td>4</td>\n",
              "      <td>1</td>\n",
              "      <td>1</td>\n",
              "      <td>0</td>\n",
              "      <td>1</td>\n",
              "      <td>11</td>\n",
              "      <td>800</td>\n",
              "    </tr>\n",
              "  </tbody>\n",
              "</table>\n",
              "</div>"
            ],
            "text/plain": [
              "   city  rooms  bathroom  ...  furniture  fire insurance (R$)  rent amount (R$)\n",
              "0     4      2         1  ...          0                   42              3300\n",
              "1     4      4         4  ...          1                   63              4960\n",
              "2     2      1         1  ...          1                   41              2800\n",
              "3     2      2         1  ...          1                   17              1112\n",
              "4     4      1         1  ...          1                   11               800\n",
              "\n",
              "[5 rows x 7 columns]"
            ]
          },
          "metadata": {
            "tags": []
          },
          "execution_count": 50
        }
      ]
    },
    {
      "cell_type": "code",
      "metadata": {
        "colab": {
          "base_uri": "https://localhost:8080/"
        },
        "id": "9mGAmXTJhcch",
        "outputId": "8fcb0851-8ec2-40a5-ad46-8081b7434ea9"
      },
      "source": [
        "#feature mais informativa\n",
        "\n",
        "for feature,importancia in zip(data.columns,best_gbr.feature_importances_):\n",
        "    print(\"{}: {}\".format(feature, importancia))"
      ],
      "execution_count": null,
      "outputs": [
        {
          "output_type": "stream",
          "text": [
            "city: 0.004645987264516276\n",
            "rooms: 0.0010829178747352335\n",
            "bathroom: 0.07309731648251537\n",
            "parking spaces: 0.0013196179024424657\n",
            "furniture: 0.0004137162058250249\n",
            "fire insurance (R$): 0.9194404442699656\n"
          ],
          "name": "stdout"
        }
      ]
    },
    {
      "cell_type": "markdown",
      "metadata": {
        "id": "zxduARPT17-u"
      },
      "source": [
        "Segundo os nossos testes o melhor modelo foi usando o método **Gradient Boosting**. Notamos que a cidade de São Paulo possui em média alugueis mais caros entre os locais analisados, os valores vão entre 800 a \n",
        "4.960 reais. Além disso, as Feature relacionadas a mobília (Furniture), quantidade de quartos (bathroom) e número de vagas de estacionamento (parking spaces) possuem uma certa influência no valor final do aluguel. Porém, os nossos testes detectaram que a feature mais importante e que mais influencia no valor final do aluguel é a taxa de incêndio (fire insurance R$). "
      ]
    }
  ]
}