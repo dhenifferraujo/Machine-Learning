{
 "cells": [
  {
   "cell_type": "markdown",
   "id": "hollywood-picnic",
   "metadata": {},
   "source": [
    "Ao invés de usar a função fetch_mldata() (que está absoleta), eu irei usar a função fetch_openml(). No entanto, ela retorna o dataset Mnist não classificado, enquando que o fetch_mldata() retornou o conjunto de dados classificado por destino (o conjunto de treinamento e de teste foram classificados separadamente). Em geral, isso é bom, mas se eu quiser obter os mesmos resultados de antes, precisarei classificar o conjunto de dados usando a seguinte função:"
   ]
  },
  {
   "cell_type": "code",
   "execution_count": 72,
   "id": "charitable-peoples",
   "metadata": {},
   "outputs": [],
   "source": [
    "#Para plotar figuras bonitas\n",
    "%matplotlib inline\n",
    "import matplotlib as mpl\n",
    "import os\n",
    "import matplotlib.pyplot as plt\n",
    "mpl.rc('axes', labelsize=14)\n",
    "mpl.rc('xtick', labelsize=12)\n",
    "mpl.rc('ytick', labelsize=12)"
   ]
  },
  {
   "cell_type": "code",
   "execution_count": 2,
   "id": "alleged-february",
   "metadata": {},
   "outputs": [],
   "source": [
    "import numpy as np\n",
    "def sort_by_target(mnist):\n",
    "    reorder_train = np.array(sorted([(target, i) for i, target in enumerate(mnist.target[:60000])]))[:, 1]\n",
    "    reorder_test = np.array(sorted([(target, i) for i, target in enumerate(mnist.target[60000:])]))[:, 1]\n",
    "    mnist.data[:60000] = mnist.data[reorder_train]\n",
    "    mnist.target[:60000] = mnist.target[reorder_train]\n",
    "    mnist.data[60000:] = mnist.data[reorder_test + 60000]\n",
    "    mnist.target[60000:] = mnist.target[reorder_test + 60000]"
   ]
  },
  {
   "cell_type": "code",
   "execution_count": 3,
   "id": "metric-mechanics",
   "metadata": {},
   "outputs": [
    {
     "data": {
      "text/plain": [
       "{'data': array([[0., 0., 0., ..., 0., 0., 0.],\n",
       "        [0., 0., 0., ..., 0., 0., 0.],\n",
       "        [0., 0., 0., ..., 0., 0., 0.],\n",
       "        ...,\n",
       "        [0., 0., 0., ..., 0., 0., 0.],\n",
       "        [0., 0., 0., ..., 0., 0., 0.],\n",
       "        [0., 0., 0., ..., 0., 0., 0.]]),\n",
       " 'target': array([0, 0, 0, ..., 9, 9, 9], dtype=int8),\n",
       " 'frame': None,\n",
       " 'categories': {},\n",
       " 'feature_names': ['pixel1',\n",
       "  'pixel2',\n",
       "  'pixel3',\n",
       "  'pixel4',\n",
       "  'pixel5',\n",
       "  'pixel6',\n",
       "  'pixel7',\n",
       "  'pixel8',\n",
       "  'pixel9',\n",
       "  'pixel10',\n",
       "  'pixel11',\n",
       "  'pixel12',\n",
       "  'pixel13',\n",
       "  'pixel14',\n",
       "  'pixel15',\n",
       "  'pixel16',\n",
       "  'pixel17',\n",
       "  'pixel18',\n",
       "  'pixel19',\n",
       "  'pixel20',\n",
       "  'pixel21',\n",
       "  'pixel22',\n",
       "  'pixel23',\n",
       "  'pixel24',\n",
       "  'pixel25',\n",
       "  'pixel26',\n",
       "  'pixel27',\n",
       "  'pixel28',\n",
       "  'pixel29',\n",
       "  'pixel30',\n",
       "  'pixel31',\n",
       "  'pixel32',\n",
       "  'pixel33',\n",
       "  'pixel34',\n",
       "  'pixel35',\n",
       "  'pixel36',\n",
       "  'pixel37',\n",
       "  'pixel38',\n",
       "  'pixel39',\n",
       "  'pixel40',\n",
       "  'pixel41',\n",
       "  'pixel42',\n",
       "  'pixel43',\n",
       "  'pixel44',\n",
       "  'pixel45',\n",
       "  'pixel46',\n",
       "  'pixel47',\n",
       "  'pixel48',\n",
       "  'pixel49',\n",
       "  'pixel50',\n",
       "  'pixel51',\n",
       "  'pixel52',\n",
       "  'pixel53',\n",
       "  'pixel54',\n",
       "  'pixel55',\n",
       "  'pixel56',\n",
       "  'pixel57',\n",
       "  'pixel58',\n",
       "  'pixel59',\n",
       "  'pixel60',\n",
       "  'pixel61',\n",
       "  'pixel62',\n",
       "  'pixel63',\n",
       "  'pixel64',\n",
       "  'pixel65',\n",
       "  'pixel66',\n",
       "  'pixel67',\n",
       "  'pixel68',\n",
       "  'pixel69',\n",
       "  'pixel70',\n",
       "  'pixel71',\n",
       "  'pixel72',\n",
       "  'pixel73',\n",
       "  'pixel74',\n",
       "  'pixel75',\n",
       "  'pixel76',\n",
       "  'pixel77',\n",
       "  'pixel78',\n",
       "  'pixel79',\n",
       "  'pixel80',\n",
       "  'pixel81',\n",
       "  'pixel82',\n",
       "  'pixel83',\n",
       "  'pixel84',\n",
       "  'pixel85',\n",
       "  'pixel86',\n",
       "  'pixel87',\n",
       "  'pixel88',\n",
       "  'pixel89',\n",
       "  'pixel90',\n",
       "  'pixel91',\n",
       "  'pixel92',\n",
       "  'pixel93',\n",
       "  'pixel94',\n",
       "  'pixel95',\n",
       "  'pixel96',\n",
       "  'pixel97',\n",
       "  'pixel98',\n",
       "  'pixel99',\n",
       "  'pixel100',\n",
       "  'pixel101',\n",
       "  'pixel102',\n",
       "  'pixel103',\n",
       "  'pixel104',\n",
       "  'pixel105',\n",
       "  'pixel106',\n",
       "  'pixel107',\n",
       "  'pixel108',\n",
       "  'pixel109',\n",
       "  'pixel110',\n",
       "  'pixel111',\n",
       "  'pixel112',\n",
       "  'pixel113',\n",
       "  'pixel114',\n",
       "  'pixel115',\n",
       "  'pixel116',\n",
       "  'pixel117',\n",
       "  'pixel118',\n",
       "  'pixel119',\n",
       "  'pixel120',\n",
       "  'pixel121',\n",
       "  'pixel122',\n",
       "  'pixel123',\n",
       "  'pixel124',\n",
       "  'pixel125',\n",
       "  'pixel126',\n",
       "  'pixel127',\n",
       "  'pixel128',\n",
       "  'pixel129',\n",
       "  'pixel130',\n",
       "  'pixel131',\n",
       "  'pixel132',\n",
       "  'pixel133',\n",
       "  'pixel134',\n",
       "  'pixel135',\n",
       "  'pixel136',\n",
       "  'pixel137',\n",
       "  'pixel138',\n",
       "  'pixel139',\n",
       "  'pixel140',\n",
       "  'pixel141',\n",
       "  'pixel142',\n",
       "  'pixel143',\n",
       "  'pixel144',\n",
       "  'pixel145',\n",
       "  'pixel146',\n",
       "  'pixel147',\n",
       "  'pixel148',\n",
       "  'pixel149',\n",
       "  'pixel150',\n",
       "  'pixel151',\n",
       "  'pixel152',\n",
       "  'pixel153',\n",
       "  'pixel154',\n",
       "  'pixel155',\n",
       "  'pixel156',\n",
       "  'pixel157',\n",
       "  'pixel158',\n",
       "  'pixel159',\n",
       "  'pixel160',\n",
       "  'pixel161',\n",
       "  'pixel162',\n",
       "  'pixel163',\n",
       "  'pixel164',\n",
       "  'pixel165',\n",
       "  'pixel166',\n",
       "  'pixel167',\n",
       "  'pixel168',\n",
       "  'pixel169',\n",
       "  'pixel170',\n",
       "  'pixel171',\n",
       "  'pixel172',\n",
       "  'pixel173',\n",
       "  'pixel174',\n",
       "  'pixel175',\n",
       "  'pixel176',\n",
       "  'pixel177',\n",
       "  'pixel178',\n",
       "  'pixel179',\n",
       "  'pixel180',\n",
       "  'pixel181',\n",
       "  'pixel182',\n",
       "  'pixel183',\n",
       "  'pixel184',\n",
       "  'pixel185',\n",
       "  'pixel186',\n",
       "  'pixel187',\n",
       "  'pixel188',\n",
       "  'pixel189',\n",
       "  'pixel190',\n",
       "  'pixel191',\n",
       "  'pixel192',\n",
       "  'pixel193',\n",
       "  'pixel194',\n",
       "  'pixel195',\n",
       "  'pixel196',\n",
       "  'pixel197',\n",
       "  'pixel198',\n",
       "  'pixel199',\n",
       "  'pixel200',\n",
       "  'pixel201',\n",
       "  'pixel202',\n",
       "  'pixel203',\n",
       "  'pixel204',\n",
       "  'pixel205',\n",
       "  'pixel206',\n",
       "  'pixel207',\n",
       "  'pixel208',\n",
       "  'pixel209',\n",
       "  'pixel210',\n",
       "  'pixel211',\n",
       "  'pixel212',\n",
       "  'pixel213',\n",
       "  'pixel214',\n",
       "  'pixel215',\n",
       "  'pixel216',\n",
       "  'pixel217',\n",
       "  'pixel218',\n",
       "  'pixel219',\n",
       "  'pixel220',\n",
       "  'pixel221',\n",
       "  'pixel222',\n",
       "  'pixel223',\n",
       "  'pixel224',\n",
       "  'pixel225',\n",
       "  'pixel226',\n",
       "  'pixel227',\n",
       "  'pixel228',\n",
       "  'pixel229',\n",
       "  'pixel230',\n",
       "  'pixel231',\n",
       "  'pixel232',\n",
       "  'pixel233',\n",
       "  'pixel234',\n",
       "  'pixel235',\n",
       "  'pixel236',\n",
       "  'pixel237',\n",
       "  'pixel238',\n",
       "  'pixel239',\n",
       "  'pixel240',\n",
       "  'pixel241',\n",
       "  'pixel242',\n",
       "  'pixel243',\n",
       "  'pixel244',\n",
       "  'pixel245',\n",
       "  'pixel246',\n",
       "  'pixel247',\n",
       "  'pixel248',\n",
       "  'pixel249',\n",
       "  'pixel250',\n",
       "  'pixel251',\n",
       "  'pixel252',\n",
       "  'pixel253',\n",
       "  'pixel254',\n",
       "  'pixel255',\n",
       "  'pixel256',\n",
       "  'pixel257',\n",
       "  'pixel258',\n",
       "  'pixel259',\n",
       "  'pixel260',\n",
       "  'pixel261',\n",
       "  'pixel262',\n",
       "  'pixel263',\n",
       "  'pixel264',\n",
       "  'pixel265',\n",
       "  'pixel266',\n",
       "  'pixel267',\n",
       "  'pixel268',\n",
       "  'pixel269',\n",
       "  'pixel270',\n",
       "  'pixel271',\n",
       "  'pixel272',\n",
       "  'pixel273',\n",
       "  'pixel274',\n",
       "  'pixel275',\n",
       "  'pixel276',\n",
       "  'pixel277',\n",
       "  'pixel278',\n",
       "  'pixel279',\n",
       "  'pixel280',\n",
       "  'pixel281',\n",
       "  'pixel282',\n",
       "  'pixel283',\n",
       "  'pixel284',\n",
       "  'pixel285',\n",
       "  'pixel286',\n",
       "  'pixel287',\n",
       "  'pixel288',\n",
       "  'pixel289',\n",
       "  'pixel290',\n",
       "  'pixel291',\n",
       "  'pixel292',\n",
       "  'pixel293',\n",
       "  'pixel294',\n",
       "  'pixel295',\n",
       "  'pixel296',\n",
       "  'pixel297',\n",
       "  'pixel298',\n",
       "  'pixel299',\n",
       "  'pixel300',\n",
       "  'pixel301',\n",
       "  'pixel302',\n",
       "  'pixel303',\n",
       "  'pixel304',\n",
       "  'pixel305',\n",
       "  'pixel306',\n",
       "  'pixel307',\n",
       "  'pixel308',\n",
       "  'pixel309',\n",
       "  'pixel310',\n",
       "  'pixel311',\n",
       "  'pixel312',\n",
       "  'pixel313',\n",
       "  'pixel314',\n",
       "  'pixel315',\n",
       "  'pixel316',\n",
       "  'pixel317',\n",
       "  'pixel318',\n",
       "  'pixel319',\n",
       "  'pixel320',\n",
       "  'pixel321',\n",
       "  'pixel322',\n",
       "  'pixel323',\n",
       "  'pixel324',\n",
       "  'pixel325',\n",
       "  'pixel326',\n",
       "  'pixel327',\n",
       "  'pixel328',\n",
       "  'pixel329',\n",
       "  'pixel330',\n",
       "  'pixel331',\n",
       "  'pixel332',\n",
       "  'pixel333',\n",
       "  'pixel334',\n",
       "  'pixel335',\n",
       "  'pixel336',\n",
       "  'pixel337',\n",
       "  'pixel338',\n",
       "  'pixel339',\n",
       "  'pixel340',\n",
       "  'pixel341',\n",
       "  'pixel342',\n",
       "  'pixel343',\n",
       "  'pixel344',\n",
       "  'pixel345',\n",
       "  'pixel346',\n",
       "  'pixel347',\n",
       "  'pixel348',\n",
       "  'pixel349',\n",
       "  'pixel350',\n",
       "  'pixel351',\n",
       "  'pixel352',\n",
       "  'pixel353',\n",
       "  'pixel354',\n",
       "  'pixel355',\n",
       "  'pixel356',\n",
       "  'pixel357',\n",
       "  'pixel358',\n",
       "  'pixel359',\n",
       "  'pixel360',\n",
       "  'pixel361',\n",
       "  'pixel362',\n",
       "  'pixel363',\n",
       "  'pixel364',\n",
       "  'pixel365',\n",
       "  'pixel366',\n",
       "  'pixel367',\n",
       "  'pixel368',\n",
       "  'pixel369',\n",
       "  'pixel370',\n",
       "  'pixel371',\n",
       "  'pixel372',\n",
       "  'pixel373',\n",
       "  'pixel374',\n",
       "  'pixel375',\n",
       "  'pixel376',\n",
       "  'pixel377',\n",
       "  'pixel378',\n",
       "  'pixel379',\n",
       "  'pixel380',\n",
       "  'pixel381',\n",
       "  'pixel382',\n",
       "  'pixel383',\n",
       "  'pixel384',\n",
       "  'pixel385',\n",
       "  'pixel386',\n",
       "  'pixel387',\n",
       "  'pixel388',\n",
       "  'pixel389',\n",
       "  'pixel390',\n",
       "  'pixel391',\n",
       "  'pixel392',\n",
       "  'pixel393',\n",
       "  'pixel394',\n",
       "  'pixel395',\n",
       "  'pixel396',\n",
       "  'pixel397',\n",
       "  'pixel398',\n",
       "  'pixel399',\n",
       "  'pixel400',\n",
       "  'pixel401',\n",
       "  'pixel402',\n",
       "  'pixel403',\n",
       "  'pixel404',\n",
       "  'pixel405',\n",
       "  'pixel406',\n",
       "  'pixel407',\n",
       "  'pixel408',\n",
       "  'pixel409',\n",
       "  'pixel410',\n",
       "  'pixel411',\n",
       "  'pixel412',\n",
       "  'pixel413',\n",
       "  'pixel414',\n",
       "  'pixel415',\n",
       "  'pixel416',\n",
       "  'pixel417',\n",
       "  'pixel418',\n",
       "  'pixel419',\n",
       "  'pixel420',\n",
       "  'pixel421',\n",
       "  'pixel422',\n",
       "  'pixel423',\n",
       "  'pixel424',\n",
       "  'pixel425',\n",
       "  'pixel426',\n",
       "  'pixel427',\n",
       "  'pixel428',\n",
       "  'pixel429',\n",
       "  'pixel430',\n",
       "  'pixel431',\n",
       "  'pixel432',\n",
       "  'pixel433',\n",
       "  'pixel434',\n",
       "  'pixel435',\n",
       "  'pixel436',\n",
       "  'pixel437',\n",
       "  'pixel438',\n",
       "  'pixel439',\n",
       "  'pixel440',\n",
       "  'pixel441',\n",
       "  'pixel442',\n",
       "  'pixel443',\n",
       "  'pixel444',\n",
       "  'pixel445',\n",
       "  'pixel446',\n",
       "  'pixel447',\n",
       "  'pixel448',\n",
       "  'pixel449',\n",
       "  'pixel450',\n",
       "  'pixel451',\n",
       "  'pixel452',\n",
       "  'pixel453',\n",
       "  'pixel454',\n",
       "  'pixel455',\n",
       "  'pixel456',\n",
       "  'pixel457',\n",
       "  'pixel458',\n",
       "  'pixel459',\n",
       "  'pixel460',\n",
       "  'pixel461',\n",
       "  'pixel462',\n",
       "  'pixel463',\n",
       "  'pixel464',\n",
       "  'pixel465',\n",
       "  'pixel466',\n",
       "  'pixel467',\n",
       "  'pixel468',\n",
       "  'pixel469',\n",
       "  'pixel470',\n",
       "  'pixel471',\n",
       "  'pixel472',\n",
       "  'pixel473',\n",
       "  'pixel474',\n",
       "  'pixel475',\n",
       "  'pixel476',\n",
       "  'pixel477',\n",
       "  'pixel478',\n",
       "  'pixel479',\n",
       "  'pixel480',\n",
       "  'pixel481',\n",
       "  'pixel482',\n",
       "  'pixel483',\n",
       "  'pixel484',\n",
       "  'pixel485',\n",
       "  'pixel486',\n",
       "  'pixel487',\n",
       "  'pixel488',\n",
       "  'pixel489',\n",
       "  'pixel490',\n",
       "  'pixel491',\n",
       "  'pixel492',\n",
       "  'pixel493',\n",
       "  'pixel494',\n",
       "  'pixel495',\n",
       "  'pixel496',\n",
       "  'pixel497',\n",
       "  'pixel498',\n",
       "  'pixel499',\n",
       "  'pixel500',\n",
       "  'pixel501',\n",
       "  'pixel502',\n",
       "  'pixel503',\n",
       "  'pixel504',\n",
       "  'pixel505',\n",
       "  'pixel506',\n",
       "  'pixel507',\n",
       "  'pixel508',\n",
       "  'pixel509',\n",
       "  'pixel510',\n",
       "  'pixel511',\n",
       "  'pixel512',\n",
       "  'pixel513',\n",
       "  'pixel514',\n",
       "  'pixel515',\n",
       "  'pixel516',\n",
       "  'pixel517',\n",
       "  'pixel518',\n",
       "  'pixel519',\n",
       "  'pixel520',\n",
       "  'pixel521',\n",
       "  'pixel522',\n",
       "  'pixel523',\n",
       "  'pixel524',\n",
       "  'pixel525',\n",
       "  'pixel526',\n",
       "  'pixel527',\n",
       "  'pixel528',\n",
       "  'pixel529',\n",
       "  'pixel530',\n",
       "  'pixel531',\n",
       "  'pixel532',\n",
       "  'pixel533',\n",
       "  'pixel534',\n",
       "  'pixel535',\n",
       "  'pixel536',\n",
       "  'pixel537',\n",
       "  'pixel538',\n",
       "  'pixel539',\n",
       "  'pixel540',\n",
       "  'pixel541',\n",
       "  'pixel542',\n",
       "  'pixel543',\n",
       "  'pixel544',\n",
       "  'pixel545',\n",
       "  'pixel546',\n",
       "  'pixel547',\n",
       "  'pixel548',\n",
       "  'pixel549',\n",
       "  'pixel550',\n",
       "  'pixel551',\n",
       "  'pixel552',\n",
       "  'pixel553',\n",
       "  'pixel554',\n",
       "  'pixel555',\n",
       "  'pixel556',\n",
       "  'pixel557',\n",
       "  'pixel558',\n",
       "  'pixel559',\n",
       "  'pixel560',\n",
       "  'pixel561',\n",
       "  'pixel562',\n",
       "  'pixel563',\n",
       "  'pixel564',\n",
       "  'pixel565',\n",
       "  'pixel566',\n",
       "  'pixel567',\n",
       "  'pixel568',\n",
       "  'pixel569',\n",
       "  'pixel570',\n",
       "  'pixel571',\n",
       "  'pixel572',\n",
       "  'pixel573',\n",
       "  'pixel574',\n",
       "  'pixel575',\n",
       "  'pixel576',\n",
       "  'pixel577',\n",
       "  'pixel578',\n",
       "  'pixel579',\n",
       "  'pixel580',\n",
       "  'pixel581',\n",
       "  'pixel582',\n",
       "  'pixel583',\n",
       "  'pixel584',\n",
       "  'pixel585',\n",
       "  'pixel586',\n",
       "  'pixel587',\n",
       "  'pixel588',\n",
       "  'pixel589',\n",
       "  'pixel590',\n",
       "  'pixel591',\n",
       "  'pixel592',\n",
       "  'pixel593',\n",
       "  'pixel594',\n",
       "  'pixel595',\n",
       "  'pixel596',\n",
       "  'pixel597',\n",
       "  'pixel598',\n",
       "  'pixel599',\n",
       "  'pixel600',\n",
       "  'pixel601',\n",
       "  'pixel602',\n",
       "  'pixel603',\n",
       "  'pixel604',\n",
       "  'pixel605',\n",
       "  'pixel606',\n",
       "  'pixel607',\n",
       "  'pixel608',\n",
       "  'pixel609',\n",
       "  'pixel610',\n",
       "  'pixel611',\n",
       "  'pixel612',\n",
       "  'pixel613',\n",
       "  'pixel614',\n",
       "  'pixel615',\n",
       "  'pixel616',\n",
       "  'pixel617',\n",
       "  'pixel618',\n",
       "  'pixel619',\n",
       "  'pixel620',\n",
       "  'pixel621',\n",
       "  'pixel622',\n",
       "  'pixel623',\n",
       "  'pixel624',\n",
       "  'pixel625',\n",
       "  'pixel626',\n",
       "  'pixel627',\n",
       "  'pixel628',\n",
       "  'pixel629',\n",
       "  'pixel630',\n",
       "  'pixel631',\n",
       "  'pixel632',\n",
       "  'pixel633',\n",
       "  'pixel634',\n",
       "  'pixel635',\n",
       "  'pixel636',\n",
       "  'pixel637',\n",
       "  'pixel638',\n",
       "  'pixel639',\n",
       "  'pixel640',\n",
       "  'pixel641',\n",
       "  'pixel642',\n",
       "  'pixel643',\n",
       "  'pixel644',\n",
       "  'pixel645',\n",
       "  'pixel646',\n",
       "  'pixel647',\n",
       "  'pixel648',\n",
       "  'pixel649',\n",
       "  'pixel650',\n",
       "  'pixel651',\n",
       "  'pixel652',\n",
       "  'pixel653',\n",
       "  'pixel654',\n",
       "  'pixel655',\n",
       "  'pixel656',\n",
       "  'pixel657',\n",
       "  'pixel658',\n",
       "  'pixel659',\n",
       "  'pixel660',\n",
       "  'pixel661',\n",
       "  'pixel662',\n",
       "  'pixel663',\n",
       "  'pixel664',\n",
       "  'pixel665',\n",
       "  'pixel666',\n",
       "  'pixel667',\n",
       "  'pixel668',\n",
       "  'pixel669',\n",
       "  'pixel670',\n",
       "  'pixel671',\n",
       "  'pixel672',\n",
       "  'pixel673',\n",
       "  'pixel674',\n",
       "  'pixel675',\n",
       "  'pixel676',\n",
       "  'pixel677',\n",
       "  'pixel678',\n",
       "  'pixel679',\n",
       "  'pixel680',\n",
       "  'pixel681',\n",
       "  'pixel682',\n",
       "  'pixel683',\n",
       "  'pixel684',\n",
       "  'pixel685',\n",
       "  'pixel686',\n",
       "  'pixel687',\n",
       "  'pixel688',\n",
       "  'pixel689',\n",
       "  'pixel690',\n",
       "  'pixel691',\n",
       "  'pixel692',\n",
       "  'pixel693',\n",
       "  'pixel694',\n",
       "  'pixel695',\n",
       "  'pixel696',\n",
       "  'pixel697',\n",
       "  'pixel698',\n",
       "  'pixel699',\n",
       "  'pixel700',\n",
       "  'pixel701',\n",
       "  'pixel702',\n",
       "  'pixel703',\n",
       "  'pixel704',\n",
       "  'pixel705',\n",
       "  'pixel706',\n",
       "  'pixel707',\n",
       "  'pixel708',\n",
       "  'pixel709',\n",
       "  'pixel710',\n",
       "  'pixel711',\n",
       "  'pixel712',\n",
       "  'pixel713',\n",
       "  'pixel714',\n",
       "  'pixel715',\n",
       "  'pixel716',\n",
       "  'pixel717',\n",
       "  'pixel718',\n",
       "  'pixel719',\n",
       "  'pixel720',\n",
       "  'pixel721',\n",
       "  'pixel722',\n",
       "  'pixel723',\n",
       "  'pixel724',\n",
       "  'pixel725',\n",
       "  'pixel726',\n",
       "  'pixel727',\n",
       "  'pixel728',\n",
       "  'pixel729',\n",
       "  'pixel730',\n",
       "  'pixel731',\n",
       "  'pixel732',\n",
       "  'pixel733',\n",
       "  'pixel734',\n",
       "  'pixel735',\n",
       "  'pixel736',\n",
       "  'pixel737',\n",
       "  'pixel738',\n",
       "  'pixel739',\n",
       "  'pixel740',\n",
       "  'pixel741',\n",
       "  'pixel742',\n",
       "  'pixel743',\n",
       "  'pixel744',\n",
       "  'pixel745',\n",
       "  'pixel746',\n",
       "  'pixel747',\n",
       "  'pixel748',\n",
       "  'pixel749',\n",
       "  'pixel750',\n",
       "  'pixel751',\n",
       "  'pixel752',\n",
       "  'pixel753',\n",
       "  'pixel754',\n",
       "  'pixel755',\n",
       "  'pixel756',\n",
       "  'pixel757',\n",
       "  'pixel758',\n",
       "  'pixel759',\n",
       "  'pixel760',\n",
       "  'pixel761',\n",
       "  'pixel762',\n",
       "  'pixel763',\n",
       "  'pixel764',\n",
       "  'pixel765',\n",
       "  'pixel766',\n",
       "  'pixel767',\n",
       "  'pixel768',\n",
       "  'pixel769',\n",
       "  'pixel770',\n",
       "  'pixel771',\n",
       "  'pixel772',\n",
       "  'pixel773',\n",
       "  'pixel774',\n",
       "  'pixel775',\n",
       "  'pixel776',\n",
       "  'pixel777',\n",
       "  'pixel778',\n",
       "  'pixel779',\n",
       "  'pixel780',\n",
       "  'pixel781',\n",
       "  'pixel782',\n",
       "  'pixel783',\n",
       "  'pixel784'],\n",
       " 'target_names': ['class'],\n",
       " 'DESCR': \"**Author**: Yann LeCun, Corinna Cortes, Christopher J.C. Burges  \\n**Source**: [MNIST Website](http://yann.lecun.com/exdb/mnist/) - Date unknown  \\n**Please cite**:  \\n\\nThe MNIST database of handwritten digits with 784 features, raw data available at: http://yann.lecun.com/exdb/mnist/. It can be split in a training set of the first 60,000 examples, and a test set of 10,000 examples  \\n\\nIt is a subset of a larger set available from NIST. The digits have been size-normalized and centered in a fixed-size image. It is a good database for people who want to try learning techniques and pattern recognition methods on real-world data while spending minimal efforts on preprocessing and formatting. The original black and white (bilevel) images from NIST were size normalized to fit in a 20x20 pixel box while preserving their aspect ratio. The resulting images contain grey levels as a result of the anti-aliasing technique used by the normalization algorithm. the images were centered in a 28x28 image by computing the center of mass of the pixels, and translating the image so as to position this point at the center of the 28x28 field.  \\n\\nWith some classification methods (particularly template-based methods, such as SVM and K-nearest neighbors), the error rate improves when the digits are centered by bounding box rather than center of mass. If you do this kind of pre-processing, you should report it in your publications. The MNIST database was constructed from NIST's NIST originally designated SD-3 as their training set and SD-1 as their test set. However, SD-3 is much cleaner and easier to recognize than SD-1. The reason for this can be found on the fact that SD-3 was collected among Census Bureau employees, while SD-1 was collected among high-school students. Drawing sensible conclusions from learning experiments requires that the result be independent of the choice of training set and test among the complete set of samples. Therefore it was necessary to build a new database by mixing NIST's datasets.  \\n\\nThe MNIST training set is composed of 30,000 patterns from SD-3 and 30,000 patterns from SD-1. Our test set was composed of 5,000 patterns from SD-3 and 5,000 patterns from SD-1. The 60,000 pattern training set contained examples from approximately 250 writers. We made sure that the sets of writers of the training set and test set were disjoint. SD-1 contains 58,527 digit images written by 500 different writers. In contrast to SD-3, where blocks of data from each writer appeared in sequence, the data in SD-1 is scrambled. Writer identities for SD-1 is available and we used this information to unscramble the writers. We then split SD-1 in two: characters written by the first 250 writers went into our new training set. The remaining 250 writers were placed in our test set. Thus we had two sets with nearly 30,000 examples each. The new training set was completed with enough examples from SD-3, starting at pattern # 0, to make a full set of 60,000 training patterns. Similarly, the new test set was completed with SD-3 examples starting at pattern # 35,000 to make a full set with 60,000 test patterns. Only a subset of 10,000 test images (5,000 from SD-1 and 5,000 from SD-3) is available on this site. The full 60,000 sample training set is available.\\n\\nDownloaded from openml.org.\",\n",
       " 'details': {'id': '554',\n",
       "  'name': 'mnist_784',\n",
       "  'version': '1',\n",
       "  'format': 'ARFF',\n",
       "  'upload_date': '2014-09-29T03:28:38',\n",
       "  'licence': 'Public',\n",
       "  'url': 'https://www.openml.org/data/v1/download/52667/mnist_784.arff',\n",
       "  'file_id': '52667',\n",
       "  'default_target_attribute': 'class',\n",
       "  'tag': ['AzurePilot',\n",
       "   'OpenML-CC18',\n",
       "   'OpenML100',\n",
       "   'study_1',\n",
       "   'study_123',\n",
       "   'study_41',\n",
       "   'study_99',\n",
       "   'vision'],\n",
       "  'visibility': 'public',\n",
       "  'status': 'active',\n",
       "  'processing_date': '2020-11-20 20:12:09',\n",
       "  'md5_checksum': '0298d579eb1b86163de7723944c7e495'},\n",
       " 'url': 'https://www.openml.org/d/554'}"
      ]
     },
     "execution_count": 3,
     "metadata": {},
     "output_type": "execute_result"
    }
   ],
   "source": [
    "####### CARREGANDO O DATASET########\n",
    "#Código antigo. A função fetch_mldata() está absoleto desde o Scikit-Learn 0.20. No lugar dessa função eu tenho que usar fetch_openml()\n",
    "#from sklearn.datasets import fetch_mldata\n",
    "#minist = fetch_mldata('MNIST original')\n",
    "#mnist\n",
    "\n",
    "#Código novo. Usando a nova função fetch_openml()\n",
    "\n",
    "from sklearn.datasets import fetch_openml\n",
    "mnist = fetch_openml('mnist_784', version=1, cache=True, as_frame=False)\n",
    "mnist.target = mnist.target.astype(np.int8) # fetch_openml() returns targets as strings\n",
    "sort_by_target(mnist) # fetch_openml() returns an unsorted dataset\n",
    "mnist"
   ]
  },
  {
   "cell_type": "code",
   "execution_count": 4,
   "id": "incident-claim",
   "metadata": {},
   "outputs": [
    {
     "data": {
      "text/plain": [
       "(70000, 784)"
      ]
     },
     "execution_count": 4,
     "metadata": {},
     "output_type": "execute_result"
    }
   ],
   "source": [
    "mnist.data.shape"
   ]
  },
  {
   "cell_type": "code",
   "execution_count": 5,
   "id": "entire-maple",
   "metadata": {},
   "outputs": [],
   "source": [
    "X, y = mnist[\"data\"], mnist[\"target\"]"
   ]
  },
  {
   "cell_type": "code",
   "execution_count": 6,
   "id": "mental-knitting",
   "metadata": {},
   "outputs": [
    {
     "data": {
      "text/plain": [
       "(70000, 784)"
      ]
     },
     "execution_count": 6,
     "metadata": {},
     "output_type": "execute_result"
    }
   ],
   "source": [
    "X.shape"
   ]
  },
  {
   "cell_type": "code",
   "execution_count": 7,
   "id": "primary-pendant",
   "metadata": {},
   "outputs": [
    {
     "data": {
      "text/plain": [
       "(70000,)"
      ]
     },
     "execution_count": 7,
     "metadata": {},
     "output_type": "execute_result"
    }
   ],
   "source": [
    "y.shape"
   ]
  },
  {
   "cell_type": "code",
   "execution_count": 8,
   "id": "swiss-penny",
   "metadata": {},
   "outputs": [
    {
     "data": {
      "text/plain": [
       "784"
      ]
     },
     "execution_count": 8,
     "metadata": {},
     "output_type": "execute_result"
    }
   ],
   "source": [
    "28*28"
   ]
  },
  {
   "cell_type": "markdown",
   "id": "complicated-deputy",
   "metadata": {},
   "source": [
    "Há 70,000 imagens, e cada imagem tem 784 features (características, recursos). Isso se deve ao fato de cada imagem é 28 x 28 pixels, e cada feature representa a intensidade de um pixel, de 0 (branco) a 255 (preto). Para olhar um dígito do dataset. Eu preciso pegar o vetor de feature de uma instância, remodelá-lo para uma matriz 28 x 28 e exibí-lo usando a função imshow() do Matplotlib: "
   ]
  },
  {
   "cell_type": "code",
   "execution_count": 9,
   "id": "exposed-columbus",
   "metadata": {},
   "outputs": [
    {
     "data": {
      "image/png": "[encoded data removed]",
      "text/plain": [
       "<Figure size 432x288 with 1 Axes>"
      ]
     },
     "metadata": {
      "needs_background": "light"
     },
     "output_type": "display_data"
    }
   ],
   "source": [
    "#%matplotlib inline\n",
    "#import matplotlib as mpl\n",
    "#import matplotlib.pyplot as plt\n",
    "#Como eu já importei essas libs na primeira célula, eu não preciso mais importar aqui. \n",
    "\n",
    "some_digit = X[36000]\n",
    "some_digit_image = some_digit.reshape(28, 28)\n",
    "\n",
    "plt.imshow(some_digit_image, cmap = mpl.cm.binary,\n",
    "           interpolation=\"nearest\")\n",
    "plt.axis(\"off\")\n",
    "\n",
    "#save_fig(\"some_digit_plot\") # seu eu quisesse salvar a imagem #\n",
    "plt.show()"
   ]
  },
  {
   "cell_type": "code",
   "execution_count": 73,
   "id": "productive-copper",
   "metadata": {},
   "outputs": [],
   "source": [
    "def plot_digit(data):\n",
    "    image = data.reshape(28, 28)\n",
    "    plt.imshow(image, cmap = mpl.cm.binary,\n",
    "               interpolation=\"nearest\")\n",
    "    plt.axis(\"off\")"
   ]
  },
  {
   "cell_type": "code",
   "execution_count": 10,
   "id": "aggressive-grade",
   "metadata": {},
   "outputs": [
    {
     "data": {
      "text/plain": [
       "5"
      ]
     },
     "execution_count": 10,
     "metadata": {},
     "output_type": "execute_result"
    }
   ],
   "source": [
    "y[36000]"
   ]
  },
  {
   "cell_type": "code",
   "execution_count": 11,
   "id": "cleared-serum",
   "metadata": {},
   "outputs": [],
   "source": [
    "# Código extra para mostrar uma fileira (row) de 10 para cada dígito\n",
    "\n",
    "def plot_digits(instances, images_per_row=10, **options):\n",
    "    size = 28\n",
    "    images_per_row = min(len(instances), images_per_row)\n",
    "    images = [instance.reshape(size,size) for instance in instances]\n",
    "    n_rows = (len(instances) - 1) // images_per_row + 1\n",
    "    row_images = []\n",
    "    n_empty = n_rows * images_per_row - len(instances)\n",
    "    images.append(np.zeros((size, size * n_empty)))\n",
    "    for row in range(n_rows):\n",
    "        rimages = images[row * images_per_row : (row + 1) * images_per_row]\n",
    "        row_images.append(np.concatenate(rimages, axis=1))\n",
    "    image = np.concatenate(row_images, axis=0)\n",
    "    plt.imshow(image, cmap = mpl.cm.binary, **options)\n",
    "    plt.axis(\"off\")"
   ]
  },
  {
   "cell_type": "code",
   "execution_count": 12,
   "id": "moved-projector",
   "metadata": {},
   "outputs": [
    {
     "data": {
      "image/png": "[encoded data removed]",
      "text/plain": [
       "<Figure size 648x648 with 1 Axes>"
      ]
     },
     "metadata": {
      "needs_background": "light"
     },
     "output_type": "display_data"
    }
   ],
   "source": [
    "\n",
    "plt.figure(figsize=(9,9))\n",
    "example_images = np.r_[X[:12000:600], X[13000:30600:600], X[30600:60000:590]]\n",
    "plot_digits(example_images, images_per_row=10)\n",
    "#save_fig(\"more_digits_plot\")\n",
    "plt.show()"
   ]
  },
  {
   "cell_type": "markdown",
   "id": "metric-humanity",
   "metadata": {},
   "source": [
    "**Obs:** Sempre tem que criar um conjunto de teste e colocá-lo de lado antes de inspecionar os dados de perto. \n",
    "O dataset Mnist já está dividido em um conjunto de treinamento(os primeiros 60.000 imagens) e um conjunto de teste (as últimas 10.000 imagens): "
   ]
  },
  {
   "cell_type": "code",
   "execution_count": 13,
   "id": "quantitative-saint",
   "metadata": {},
   "outputs": [],
   "source": [
    "X_train, X_test, y_train, y_test = X[:60000], X[60000:], y[:60000], y[60000:]"
   ]
  },
  {
   "cell_type": "markdown",
   "id": "biological-tongue",
   "metadata": {},
   "source": [
    "Agora eu vou embaralhar o dataset, isso garantirá que todas as \"dobras\" da cross-validation serão semelhantes, ou seja, que não falte alguns dígitos em alguma \"dobra ou fold\". \n",
    "\n",
    "**Cross Validation**: é uma técnica muito utilizada para avaliação de desempenho de modelos de aprendizado de máquina. Consiste em particionar os dados em conjuntos (partes), onde um conjunto é utilizado para treino e outro conjunto para teste e avaliação do desempenho do modelo. A utilização da CV tem altas chances de detectar se o seu modelo está sobreajustado aos seus dados de treinamento, ou seja, sofrendo ***Overfitting***."
   ]
  },
  {
   "cell_type": "code",
   "execution_count": 14,
   "id": "adolescent-johnston",
   "metadata": {},
   "outputs": [],
   "source": [
    "import numpy as np\n",
    "\n",
    "shuffle_index = np.random.permutation(60000)\n",
    "X_train, y_train = X_train[shuffle_index], y_train[shuffle_index]"
   ]
  },
  {
   "cell_type": "markdown",
   "id": "cardiac-partnership",
   "metadata": {},
   "source": [
    "# Training a Binary Classifier"
   ]
  },
  {
   "cell_type": "markdown",
   "id": "beneficial-blues",
   "metadata": {},
   "source": [
    "Agora vou tentar identificar apenas um dígito, por exemplo, o número 5. Este \"detector de 5\" será um exemplo de ***classificador binário***, capaz de distinguir entre apenas duas classes, 5 e não-5. A seguir vou criar os vetores de destino para esta tarefa de classificação:"
   ]
  },
  {
   "cell_type": "code",
   "execution_count": 15,
   "id": "adolescent-serbia",
   "metadata": {},
   "outputs": [],
   "source": [
    "y_train_5 = (y_train == 5) #Verdadeiro para todos os 5. Falso para todos os outros dígitos.\n",
    "y_test_5 = (y_test == 5)"
   ]
  },
  {
   "cell_type": "markdown",
   "id": "promising-pizza",
   "metadata": {},
   "source": [
    "Agora eu irei escolher um classificador e treiná-lo. Irei usar um classificador ***Stochastic Gradient Descent (SGD)***, usando a classe ***SGDClassifier*** do Scikit-Learn. Este classificador tem a vantagem de ser capaz de lidar com conjuntos de dados muito grandes com eficiência. Isso ocorre em parte porque o SGD lida com instâncias de treinamento de forma independente, uma de cada vez. A seguir vou criar um ***SGDClassifier*** e treiná-lo em todo o conjunto de treinamento: "
   ]
  },
  {
   "cell_type": "markdown",
   "id": "textile-penalty",
   "metadata": {},
   "source": [
    "**Obs:** Como alguns parâmetros tem um valor diferente em versões futuras do Sckit-Learn, e avisos são emitidos se não forem definidos explicitamente. É por isso que defini ***max_iter=5*** e ***tol=-np.infty***, para eu obter os mesmos resultados do livro e evitar os avisos. "
   ]
  },
  {
   "cell_type": "code",
   "execution_count": 16,
   "id": "satisfactory-structure",
   "metadata": {},
   "outputs": [
    {
     "data": {
      "text/plain": [
       "SGDClassifier(max_iter=5, random_state=42, tol=-inf)"
      ]
     },
     "execution_count": 16,
     "metadata": {},
     "output_type": "execute_result"
    }
   ],
   "source": [
    "from sklearn.linear_model import SGDClassifier\n",
    "\n",
    "sgd_clf = SGDClassifier(max_iter=5, tol=-np.infty, random_state=42)\n",
    "sgd_clf.fit(X_train, y_train_5)"
   ]
  },
  {
   "cell_type": "markdown",
   "id": "steady-challenge",
   "metadata": {},
   "source": [
    "**Obs:** O ***SGDClassifier*** depende da aleatoriedade durante o treinamento (por isso o nome \"estocástico\"). Ou seja, se quiser resultados reproduzíveis, deve-se definir o parâmetro ***random_state***. "
   ]
  },
  {
   "cell_type": "markdown",
   "id": "periodic-melbourne",
   "metadata": {},
   "source": [
    "Agora eu posso usá-lo para detectar imagens do número 5:"
   ]
  },
  {
   "cell_type": "code",
   "execution_count": 17,
   "id": "legitimate-ranch",
   "metadata": {},
   "outputs": [
    {
     "data": {
      "text/plain": [
       "array([ True])"
      ]
     },
     "execution_count": 17,
     "metadata": {},
     "output_type": "execute_result"
    }
   ],
   "source": [
    "sgd_clf.predict([some_digit])"
   ]
  },
  {
   "cell_type": "markdown",
   "id": "textile-princess",
   "metadata": {},
   "source": [
    "**Obs:** O classificador adivinhou que a imagem representa um 5 (true). Ele acertou. Agora, vou avaliar o desempenho deste modelo:"
   ]
  },
  {
   "cell_type": "markdown",
   "id": "quality-coordinator",
   "metadata": {},
   "source": [
    "# Performance Measures"
   ]
  },
  {
   "cell_type": "markdown",
   "id": "exposed-zoning",
   "metadata": {},
   "source": [
    "Uma boa maneira de avaliar um modelo é usar a cross-validation:"
   ]
  },
  {
   "cell_type": "markdown",
   "id": "apart-architecture",
   "metadata": {},
   "source": [
    "**Obs:** Eu precisarei de mais controle sobre o processo de **cross validation** do que o ***cross_val_score()*** e funções semelhantes fornecem. Nesses casos, eu mesmo posso implementar a cross-validation. O código a seguir faz praticamente a mesma coisa que o código ***cross_val_score()*** anterior  e imprime o mesmo resultado:"
   ]
  },
  {
   "cell_type": "markdown",
   "id": "potential-communist",
   "metadata": {},
   "source": [
    "**Obs:** A classe StratifiedKFold executa a amostragem estratificada para produzir \"dobras\" que contêm uma representativa de cada classe. A cada iteração, o código cria um clone do classificador, treina esse clone nas dobras de treinamento e faz previsões na dobra de teste. Em seguida, ele conta o número de previsões corretas e produz a proporção de previsões corretas."
   ]
  },
  {
   "cell_type": "code",
   "execution_count": 18,
   "id": "another-listing",
   "metadata": {},
   "outputs": [
    {
     "name": "stdout",
     "output_type": "stream",
     "text": [
      "0.93045\n",
      "0.95805\n",
      "0.9664\n"
     ]
    }
   ],
   "source": [
    "from sklearn.model_selection import StratifiedKFold\n",
    "from sklearn.base import clone\n",
    "\n",
    "skfolds = StratifiedKFold(n_splits=3, random_state=42, shuffle=True)\n",
    "\n",
    "for train_index, test_index in skfolds.split(X_train, y_train_5):\n",
    "    clone_clf = clone(sgd_clf)\n",
    "    X_train_folds = X_train[train_index]\n",
    "    y_train_folds = (y_train_5[train_index])\n",
    "    X_test_fold = X_train[test_index]\n",
    "    y_test_fold = (y_train_5[test_index])\n",
    "    \n",
    "    clone_clf.fit(X_train_folds, y_train_folds)\n",
    "    y_pred = clone_clf.predict(X_test_fold)\n",
    "    n_correct = sum(y_pred == y_test_fold)\n",
    "    print(n_correct / len(y_pred)) # imprime a predição na tela\n"
   ]
  },
  {
   "cell_type": "markdown",
   "id": "twelve-society",
   "metadata": {},
   "source": [
    "Agora vou usar a função ***cross_val_score()*** para avaliar o modelo **SGDClassifier** usando K-fold cross-validation, com três dobras. Lembrando que a K-fold cross-validation significa dividir o conjunto de treinament em dobras K (neste caso, três) e, em seguida, fazer previsões e avaliá-los em cada dobra usando um modelo treinado nas dobras restantes: "
   ]
  },
  {
   "cell_type": "code",
   "execution_count": 19,
   "id": "bored-puzzle",
   "metadata": {},
   "outputs": [
    {
     "data": {
      "text/plain": [
       "array([0.94955, 0.9354 , 0.9519 ])"
      ]
     },
     "execution_count": 19,
     "metadata": {},
     "output_type": "execute_result"
    }
   ],
   "source": [
    "from sklearn.model_selection import cross_val_score\n",
    "cross_val_score(sgd_clf, X_train, y_train_5, cv=3, scoring=\"accuracy\")"
   ]
  },
  {
   "cell_type": "markdown",
   "id": "waiting-printer",
   "metadata": {},
   "source": [
    "Como é possível ver na célula acima, a acurácia alcançou mais de 95%. "
   ]
  },
  {
   "cell_type": "markdown",
   "id": "advance-advice",
   "metadata": {},
   "source": [
    "A seguir vamos dar uma olhada em um classificador \"muito idiota\" que apenas classifica cada imagem na classe \"not-5\":"
   ]
  },
  {
   "cell_type": "code",
   "execution_count": 20,
   "id": "shared-eating",
   "metadata": {},
   "outputs": [],
   "source": [
    "from sklearn.base import BaseEstimator\n",
    "\n",
    "class Never5Classifier(BaseEstimator):\n",
    "    def fit(self, X, y=None):\n",
    "        pass\n",
    "    def predict(self, X):\n",
    "        return np.zeros((len(X), 1), dtype=bool)"
   ]
  },
  {
   "cell_type": "markdown",
   "id": "assigned-ultimate",
   "metadata": {},
   "source": [
    "A seguir podemos ver a precisão desse modelo:\n"
   ]
  },
  {
   "cell_type": "code",
   "execution_count": 21,
   "id": "superior-worcester",
   "metadata": {},
   "outputs": [
    {
     "data": {
      "text/plain": [
       "array([0.91125, 0.91   , 0.9077 ])"
      ]
     },
     "execution_count": 21,
     "metadata": {},
     "output_type": "execute_result"
    }
   ],
   "source": [
    "never_5_clf = Never5Classifier()\n",
    "cross_val_score(never_5_clf, X_train, y_train_5, cv=3, scoring=\"accuracy\")"
   ]
  },
  {
   "cell_type": "markdown",
   "id": "infinite-italy",
   "metadata": {},
   "source": [
    "Como é possível observar, teve mais de 90% de precisão. Isso ocorre simplesmente porque apenas cerca de 10% das imagens são 5, então se você sempre adivinhar que uma imagem não é um 5, você estará certo cerca de 90% das vezes. LOL\n",
    "\n",
    "Isso demonstra porque a precisão geralmente não é a medida de desempenho preferida para classificadores, especialmente quando está lidando com conjuntos de dados distorcidos (ou seja, quando algumas classes são muito mais frequentes do que outras). "
   ]
  },
  {
   "cell_type": "markdown",
   "id": "central-latex",
   "metadata": {},
   "source": [
    "# Confusion Matrix"
   ]
  },
  {
   "cell_type": "markdown",
   "id": "regional-postage",
   "metadata": {},
   "source": [
    "Uma maneira muito melhor de avaliar o desempenho de um classificador é examinar a matriz de confusão. A ideia geral é contar o número de vezes que instâncias da classe A são classificadas como classe B. Por exemplo, para saber o número de vezes que o classificador confundiu imagens de 5 com 3, você procuraria na 5ª linha e na 3ª coluna da matriz de confusão.\n",
    "Para calcular a matriz de confusão, primeiro é necessário ter um conjunto de previsões, para que possam ser comparados aos alvos reais. Eu poderia fazer previsões sobre o conjunto de teste, mas vou mantê-lo intocado por enquanto (para que eu possa usar o conjunto de teste apenas no final do seu projeto, assim que tiver um classificador que está pronto para lançar). Em vez disso, vou usar a função ***cross_val_predict ()***:"
   ]
  },
  {
   "cell_type": "code",
   "execution_count": 22,
   "id": "directed-somewhere",
   "metadata": {},
   "outputs": [],
   "source": [
    "from sklearn.model_selection import cross_val_predict\n",
    "\n",
    "y_train_pred = cross_val_predict(sgd_clf, X_train, y_train_5, cv=3)"
   ]
  },
  {
   "cell_type": "markdown",
   "id": "expected-debate",
   "metadata": {},
   "source": [
    "**Obs:** Assim como a função ***cross_val_score()***, a ***cross_val_predict()*** realiza a K-fold cross-validation, mas em vez de retornar as pontuações de avaliação, ela retorna as previsões feitas em cada dobra de teste. Isso significa que você obtém uma previsão limpa para cada instância no conjunto de treinamento (\"limpo\" significa que a previsão é feita por um modelo que nunca viu os dados durante o treinamento)."
   ]
  },
  {
   "cell_type": "markdown",
   "id": "still-occupation",
   "metadata": {},
   "source": [
    "Agora está pronto para obter a matriz de confusão usando a função ***confused_matrix()***. Basta passar as classes alvo ***(y_train_5)*** e as classes previstas ***(y_train_pred)***. "
   ]
  },
  {
   "cell_type": "code",
   "execution_count": 23,
   "id": "instant-australian",
   "metadata": {},
   "outputs": [
    {
     "data": {
      "text/plain": [
       "array([[52022,  2557],\n",
       "       [  706,  4715]], dtype=int64)"
      ]
     },
     "execution_count": 23,
     "metadata": {},
     "output_type": "execute_result"
    }
   ],
   "source": [
    "from sklearn.metrics import confusion_matrix\n",
    "confusion_matrix(y_train_5, y_train_pred)"
   ]
  },
  {
   "cell_type": "markdown",
   "id": "german-stack",
   "metadata": {},
   "source": [
    "**Obs:** Cada **linha** em uma matriz de confusão representa uma **classe real**, enquanto cada **coluna** representa uma **classe prevista**. A primeira linha desta matriz considera imagens não-5 (**a classe negativa** ): 54.159 delas foram classificadas corretamente como não 5s (chamadas de negativas verdadeiras), enquanto as 420 retantes foram classificadas erroneamente como 5s (falsos positivos). A segunda linha considera as imagens de 5s (**a classe positiva**): 1.875 foram erroneamente classificadas como não 5s (**falsos negativos**), enquanto as 3.546 restantes foram classificadas corretamente como 5s (**verdadeiros positivos**). Um classificador perfeito teria apenas verdadeiros positivos e verdadeiros\n",
    "negativos, então sua matriz de confusão teria valores diferentes de zero apenas em sua diagonal principal (superior esquerdo para inferior direito):"
   ]
  },
  {
   "cell_type": "code",
   "execution_count": 24,
   "id": "prescribed-headset",
   "metadata": {},
   "outputs": [],
   "source": [
    "y_train_perfect_predictions = y_train_5"
   ]
  },
  {
   "cell_type": "code",
   "execution_count": 25,
   "id": "medical-vietnam",
   "metadata": {},
   "outputs": [
    {
     "data": {
      "text/plain": [
       "array([[54579,     0],\n",
       "       [    0,  5421]], dtype=int64)"
      ]
     },
     "execution_count": 25,
     "metadata": {},
     "output_type": "execute_result"
    }
   ],
   "source": [
    "confusion_matrix(y_train_5, y_train_perfect_predictions)"
   ]
  },
  {
   "cell_type": "markdown",
   "id": "documented-disease",
   "metadata": {},
   "source": [
    "A matriz de confusão fornece muitas informações, mas às vezes eu posso preferir uma métrica mais concisa. Um aspecto interessante de se observar é a precisão das previsões positivas. Chamado de **precisão do classificador**. \n",
    "O Scikit-Learn fornece várias funções para calcular as métricas do classificador, incluindo **precisão e recall**:"
   ]
  },
  {
   "cell_type": "code",
   "execution_count": 26,
   "id": "typical-navigator",
   "metadata": {},
   "outputs": [
    {
     "data": {
      "text/plain": [
       "0.6483773377337734"
      ]
     },
     "execution_count": 26,
     "metadata": {},
     "output_type": "execute_result"
    }
   ],
   "source": [
    "from sklearn.metrics import precision_score, recall_score\n",
    "\n",
    "precision_score(y_train_5, y_train_pred) # == 4230 / (4230 + 1227)"
   ]
  },
  {
   "cell_type": "code",
   "execution_count": 27,
   "id": "early-caution",
   "metadata": {},
   "outputs": [
    {
     "data": {
      "text/plain": [
       "0.8697657258808338"
      ]
     },
     "execution_count": 27,
     "metadata": {},
     "output_type": "execute_result"
    }
   ],
   "source": [
    "recall_score(y_train_5, y_train_pred) # == 4230 / (4230 + 1191)"
   ]
  },
  {
   "cell_type": "markdown",
   "id": "coupled-commander",
   "metadata": {},
   "source": [
    "**Obs:** Quando o detector de 5 afirma que uma imagem representa 5, está correto apenas 77% (0.7751511819681144) das vezes. Além disso, ele detecta apenas 78% (0.7802988378527946) dos 5s. "
   ]
  },
  {
   "cell_type": "markdown",
   "id": "angry-hawaii",
   "metadata": {},
   "source": [
    "Muitas vezes, é conveniente combinar precisão e recall em uma única métrica chamada **F1 Score**, em particular se você precisar de uma maneira simples de comparar dois classificadores. A F1 Score é a média harmônica de precisão e recall. Enquanto a média regular trata todos os valores igualmente, a média harmônica dá muito mais peso aos valores baixos. Como resultado, o classificador só obterá uma pontuação alta de F1 se o recall e a precisão forem altos.\n",
    "\n",
    "Para calcular a **F1 Score**, basta chamar a função ***f1_score()***:"
   ]
  },
  {
   "cell_type": "code",
   "execution_count": 28,
   "id": "entitled-saskatchewan",
   "metadata": {},
   "outputs": [
    {
     "data": {
      "text/plain": [
       "0.74292917356023"
      ]
     },
     "execution_count": 28,
     "metadata": {},
     "output_type": "execute_result"
    }
   ],
   "source": [
    "from sklearn.metrics import f1_score\n",
    "f1_score(y_train_5, y_train_pred)"
   ]
  },
  {
   "cell_type": "markdown",
   "id": "downtown-definition",
   "metadata": {},
   "source": [
    "**Precision/Recall Tradeoff**: \n",
    "\n",
    "**Threshold**:\n",
    "\n",
    "O Scikit-Learn não permite que você defina o **threshold** (limite) diretamente, mas dá acesso às pontuações de decisão que usa para fazer previsões. Em vez de chamar o método ***predict ()*** do classificador, você pode chamar seu método ***decision_function ()***, que retorna uma pontuação para cada instância e, em seguida, fazer previsões com base nessas pontuações usando qualquer limite que você quiser:"
   ]
  },
  {
   "cell_type": "code",
   "execution_count": 29,
   "id": "ordinary-hampton",
   "metadata": {},
   "outputs": [
    {
     "data": {
      "text/plain": [
       "array([92487.31998671])"
      ]
     },
     "execution_count": 29,
     "metadata": {},
     "output_type": "execute_result"
    }
   ],
   "source": [
    "y_scores = sgd_clf.decision_function([some_digit])\n",
    "y_scores"
   ]
  },
  {
   "cell_type": "code",
   "execution_count": 30,
   "id": "aboriginal-vietnam",
   "metadata": {},
   "outputs": [],
   "source": [
    "threshold = 0\n",
    "y_some_digit_pred = (y_scores > threshold)"
   ]
  },
  {
   "cell_type": "code",
   "execution_count": 31,
   "id": "sweet-amino",
   "metadata": {},
   "outputs": [
    {
     "data": {
      "text/plain": [
       "array([ True])"
      ]
     },
     "execution_count": 31,
     "metadata": {},
     "output_type": "execute_result"
    }
   ],
   "source": [
    "y_some_digit_pred"
   ]
  },
  {
   "cell_type": "markdown",
   "id": "growing-check",
   "metadata": {},
   "source": [
    "O **SGDClassifier** usa um limite igual a 0, então o código anterior retorna o mesmo resultado que o método ***predict ()*** (ou seja, True). Vamos aumentar o limite:"
   ]
  },
  {
   "cell_type": "code",
   "execution_count": 32,
   "id": "hourly-metabolism",
   "metadata": {},
   "outputs": [
    {
     "data": {
      "text/plain": [
       "array([False])"
      ]
     },
     "execution_count": 32,
     "metadata": {},
     "output_type": "execute_result"
    }
   ],
   "source": [
    "threshold = 200000\n",
    "y_some_digit_pred = (y_scores > threshold)\n",
    "y_some_digit_pred"
   ]
  },
  {
   "cell_type": "markdown",
   "id": "unlimited-detective",
   "metadata": {},
   "source": [
    "Isso confirma que aumentar o threshold (limite) diminui a recuperação. A imagem realmente representa um 5, e o classificador o detecta quando o limite é 0, mas não o detecta quando o limite é aumentado para 200.000."
   ]
  },
  {
   "cell_type": "markdown",
   "id": "constant-certificate",
   "metadata": {},
   "source": [
    "Para eu decidir qual limite usar, eu preciso obter as pontuações de todas as instâncias no conjunto de treinamento usando a função ***cross_val_predict()*** novamente, mas desta vez especificando que desejo retornar pontuações de decisão em vez de previsões.: "
   ]
  },
  {
   "cell_type": "code",
   "execution_count": 33,
   "id": "unnecessary-pearl",
   "metadata": {},
   "outputs": [],
   "source": [
    "y_scores = cross_val_predict(sgd_clf, X_train, y_train_5, cv=3,\n",
    "                             method= \"decision_function\")"
   ]
  },
  {
   "cell_type": "markdown",
   "id": "final-automation",
   "metadata": {},
   "source": [
    "Agora, com essas pontuações, eu posso calcular a precisão e recuperar todos os limites (threshold) possíveis usando a função ***precision_recall_curve()***:"
   ]
  },
  {
   "cell_type": "code",
   "execution_count": 34,
   "id": "associate-incident",
   "metadata": {},
   "outputs": [],
   "source": [
    "from sklearn.metrics import precision_recall_curve\n",
    "\n",
    "precisions, recalls, thresholds = precision_recall_curve(y_train_5, y_scores)"
   ]
  },
  {
   "cell_type": "markdown",
   "id": "progressive-wichita",
   "metadata": {},
   "source": [
    "Agora, eu posso representar graficamente (plotar) a precisão e a recuperação (recall) do valor limite (threshold) usando o Matplotlib:"
   ]
  },
  {
   "cell_type": "code",
   "execution_count": 35,
   "id": "perfect-salad",
   "metadata": {},
   "outputs": [
    {
     "data": {
      "image/png": "[encoded data removed]",
      "text/plain": [
       "<Figure size 432x288 with 1 Axes>"
      ]
     },
     "metadata": {
      "needs_background": "light"
     },
     "output_type": "display_data"
    }
   ],
   "source": [
    "def plot_precision_recall_vs_threshold(precisions, recalls, thresholds):\n",
    "    plt.plot(thresholds, precisions[:-1], \"b--\", label=\"Precision\")\n",
    "    plt.plot(thresholds, recalls[:-1], \"g-\", label=\"Recall\")\n",
    "    plt.xlabel(\"Threshold\")\n",
    "    plt.legend(loc=\"upper left\")\n",
    "    plt.ylim([0, 1])\n",
    "    \n",
    "plot_precision_recall_vs_threshold(precisions, recalls, thresholds)\n",
    "plt.show()"
   ]
  },
  {
   "cell_type": "markdown",
   "id": "cardiac-veteran",
   "metadata": {},
   "source": [
    "**Obs:** Agora eu posso simplesmente selecionar o valor limite que oferece a melhor compensação de precisão/recall para a minha tarefa. Outra maneira de selecionar uma boa compensação de precisão/recall é traçar a precisão diretamente em relação ao recall, como mostra a seguir:"
   ]
  },
  {
   "cell_type": "code",
   "execution_count": 36,
   "id": "physical-azerbaijan",
   "metadata": {},
   "outputs": [
    {
     "data": {
      "text/plain": [
       "True"
      ]
     },
     "execution_count": 36,
     "metadata": {},
     "output_type": "execute_result"
    }
   ],
   "source": [
    "(y_train_pred == (y_scores > 0)).all()"
   ]
  },
  {
   "cell_type": "markdown",
   "id": "attended-thomas",
   "metadata": {},
   "source": [
    "**Obs:** Então, supondo que eu decida almejar 90% de precisão. Eu olho para o primeiro gráfico (ampliando um pouco) e descubro que preciso usar um limite (threshold) de cerca de 70.000. Para fazer previsões (no conjunto de treinamento por enquanto), em vez de chamar a previsão do método classificador ***predict()***, você pode simplesmente executar este código:"
   ]
  },
  {
   "cell_type": "code",
   "execution_count": 37,
   "id": "suspended-platinum",
   "metadata": {},
   "outputs": [],
   "source": [
    "y_train_pred_90 = (y_scores > 70000)"
   ]
  },
  {
   "cell_type": "markdown",
   "id": "chicken-fight",
   "metadata": {},
   "source": [
    "Então eu verifico a precisão e a recuperação (recall) dessas previsões:"
   ]
  },
  {
   "cell_type": "code",
   "execution_count": 38,
   "id": "crucial-swing",
   "metadata": {},
   "outputs": [
    {
     "data": {
      "text/plain": [
       "0.7762631770265358"
      ]
     },
     "execution_count": 38,
     "metadata": {},
     "output_type": "execute_result"
    }
   ],
   "source": [
    "precision_score(y_train_5, y_train_pred_90)"
   ]
  },
  {
   "cell_type": "code",
   "execution_count": 39,
   "id": "individual-chinese",
   "metadata": {},
   "outputs": [
    {
     "data": {
      "text/plain": [
       "0.7878620180778454"
      ]
     },
     "execution_count": 39,
     "metadata": {},
     "output_type": "execute_result"
    }
   ],
   "source": [
    "recall_score(y_train_5, y_train_pred_90)"
   ]
  },
  {
   "cell_type": "code",
   "execution_count": 40,
   "id": "alive-junction",
   "metadata": {},
   "outputs": [
    {
     "data": {
      "image/png": "[encoded data removed]",
      "text/plain": [
       "<Figure size 576x432 with 1 Axes>"
      ]
     },
     "metadata": {
      "needs_background": "light"
     },
     "output_type": "display_data"
    }
   ],
   "source": [
    "def plot_precision_vs_recall(precisions, recalls):\n",
    "    plt.plot(recalls, precisions, \"b-\", linewidth=2)\n",
    "    plt.xlabel(\"Recall\", fontsize=16)\n",
    "    plt.ylabel(\"Precision\", fontsize=16)\n",
    "    plt.axis([0, 1, 0, 1])\n",
    "    \n",
    "plt.figure(figsize=(8, 6))\n",
    "plot_precision_vs_recall(precisions, recalls)\n",
    "#save_fig(\"precision_vs_recall_plot\")\n",
    "plt.show()"
   ]
  },
  {
   "cell_type": "markdown",
   "id": "vocal-resort",
   "metadata": {},
   "source": [
    "# The ROC Curve"
   ]
  },
  {
   "cell_type": "markdown",
   "id": "personal-riverside",
   "metadata": {},
   "source": [
    "A **ROC Curve** é outras ferramenta comum usada com classificadores binários. É muito semelhante à curva de precisão/Recall curve (curva rechamada), mas em vez de traçar a precisão versus recall, a curva ROC traça a **taxa positiva verdadeira** (outro nome para recall) em relação à **taxa de falsos positivos**. o **FPR** é a proporção de ocorrências negativas classificadas incorretamente como positivas. É igual a um menos a taxa **negativa verdadeira**,\n",
    "que é a proporção de instâncias negativas que são classificadas corretamente como negativas. O **TNR** também é chamado de especificidade. Portanto, a curva ROC representa a **sensibilidade** (recall) versus 1 - **especificidade**.\n",
    "\n",
    "**Obs:** Para plotar a curva ROC, você primeiro precisa calcular o **TPR** e **FPR** para vários valores de limite, usando a função ***roc_curve ()***:"
   ]
  },
  {
   "cell_type": "code",
   "execution_count": 41,
   "id": "coordinated-plastic",
   "metadata": {},
   "outputs": [],
   "source": [
    "from sklearn.metrics import roc_curve\n",
    "\n",
    "fpr, tpr, thresholds = roc_curve(y_train_5, y_scores)"
   ]
  },
  {
   "cell_type": "markdown",
   "id": "scientific-anniversary",
   "metadata": {},
   "source": [
    "Então é possível representar graficamente o **FPR** contra o **TPR** usando Matplotlib. O código a seguir produz o gráfico:"
   ]
  },
  {
   "cell_type": "code",
   "execution_count": 42,
   "id": "appropriate-swaziland",
   "metadata": {},
   "outputs": [
    {
     "data": {
      "image/png": "[encoded data removed]",
      "text/plain": [
       "<Figure size 576x432 with 1 Axes>"
      ]
     },
     "metadata": {
      "needs_background": "light"
     },
     "output_type": "display_data"
    }
   ],
   "source": [
    "def plot_roc_curve(fpr, tpr, label=None):\n",
    "    plt.plot(fpr, tpr, linewidth=2, label=label)\n",
    "    plt.plot([0, 1], [0, 1], 'k--')\n",
    "    plt.axis([0, 1, 0, 1])\n",
    "    plt.xlabel('False Positive Rate', fontsize=16)\n",
    "    plt.ylabel('True Positive Rate', fontsize=16)\n",
    "\n",
    "plt.figure(figsize=(8, 6))   \n",
    "plot_roc_curve(fpr, tpr)\n",
    "#save_fig(\"roc_curve_plot\")\n",
    "plt.show()"
   ]
  },
  {
   "cell_type": "markdown",
   "id": "patient-cemetery",
   "metadata": {},
   "source": [
    "Uma outra maneira de comparar os classificadores é medir a área sob/embaixo da curva **(AUC)**. Um classificador perfeito terá um ROC AUC igual a 1, enquanto um classificador puramente aleatório terá um ROC AUC igual a 0,5. O Scikit-Learn fornece uma função para calcular o **ROC AUC**:"
   ]
  },
  {
   "cell_type": "code",
   "execution_count": 43,
   "id": "abroad-albert",
   "metadata": {},
   "outputs": [
    {
     "data": {
      "text/plain": [
       "0.9639136024685531"
      ]
     },
     "execution_count": 43,
     "metadata": {},
     "output_type": "execute_result"
    }
   ],
   "source": [
    "from sklearn.metrics import roc_auc_score\n",
    "roc_auc_score(y_train_5, y_scores)"
   ]
  },
  {
   "cell_type": "markdown",
   "id": "collectible-romance",
   "metadata": {},
   "source": [
    "Agora eu vou treinar um **RandomForestClassifier** e comprar sua curva **ROC** e a pontuação **ROC AUC** com o **SGDClassifier**. Primeiro, eu preciso obter pontuações para cada instância no conjunto de treinamento. Mas, devido à maneira como funciona, a **RandomForestClassifier** não tem um método ***decision_function()***. Em vez disso, ele tem um método ***predict_proba()***. Os classificadores Sckit-Learn geralmente têm um ou outro. O método ***Predict_proba()*** retorna uma matriz contendo uma linha por instância e uma coluna por classe, cada uma contendo a probabilidade de que a instância dada pertence a dada classe (por exemplo, 70% de chance de que a imagem represente 5): "
   ]
  },
  {
   "cell_type": "markdown",
   "id": "whole-compensation",
   "metadata": {},
   "source": [
    "**Obs:** Defini n_estimators = 10 para evitar um aviso sobre o fato de que seu valor padrão será definido como 100 no Scikit-Learn 0.22."
   ]
  },
  {
   "cell_type": "code",
   "execution_count": 44,
   "id": "current-leonard",
   "metadata": {},
   "outputs": [],
   "source": [
    "from sklearn.ensemble import RandomForestClassifier\n",
    "\n",
    "forest_clf = RandomForestClassifier(n_estimators=10, random_state=42)\n",
    "y_probas_forest = cross_val_predict(forest_clf, X_train, y_train_5, cv=3,\n",
    "                                    method=\"predict_proba\")"
   ]
  },
  {
   "cell_type": "markdown",
   "id": "criminal-lyric",
   "metadata": {},
   "source": [
    "**Obs**: Para traçar uma curva ROC, eu preciso de pontuações, não de probabilidades. Uma solução simples é usar a probabilidade da classe positiva como pontuação: \n"
   ]
  },
  {
   "cell_type": "code",
   "execution_count": 45,
   "id": "endangered-laser",
   "metadata": {},
   "outputs": [],
   "source": [
    "y_scores_forest = y_probas_forest[:, 1] # score = proba of positive class\n",
    "fpr_forest, tpr_forest, thresholds_forest = roc_curve(y_train_5, y_scores_forest)"
   ]
  },
  {
   "cell_type": "markdown",
   "id": "complicated-salon",
   "metadata": {},
   "source": [
    "Agora está pronto para plotar a curva **ROC**. É útil traçar a primeira curva ROC também para ver como eles se comparam. "
   ]
  },
  {
   "cell_type": "code",
   "execution_count": 46,
   "id": "ambient-retailer",
   "metadata": {},
   "outputs": [
    {
     "data": {
      "image/png": "[encoded data removed]",
      "text/plain": [
       "<Figure size 576x432 with 1 Axes>"
      ]
     },
     "metadata": {
      "needs_background": "light"
     },
     "output_type": "display_data"
    }
   ],
   "source": [
    "plt.figure(figsize=(8, 6))\n",
    "plt.plot(fpr, tpr, \"b:\", linewidth=2, label=\"SGD\")\n",
    "plot_roc_curve(fpr_forest, tpr_forest, \"Random Forest\")\n",
    "plt.legend(loc=\"lower right\", fontsize=16)\n",
    "plt.show()"
   ]
  },
  {
   "cell_type": "markdown",
   "id": "informed-logan",
   "metadata": {},
   "source": [
    "Como é possível ver na figura anterior, a curva ROC de **RandomForestClassifier** parece muito melhor do que a de **SGDClassifier**: ela se aproxima muito do canto superior esquerdo. Como resultado, sua pontuação ROC AUC também é significativamente melhor: "
   ]
  },
  {
   "cell_type": "code",
   "execution_count": 47,
   "id": "guilty-indicator",
   "metadata": {},
   "outputs": [
    {
     "data": {
      "text/plain": [
       "0.9930542405899556"
      ]
     },
     "execution_count": 47,
     "metadata": {},
     "output_type": "execute_result"
    }
   ],
   "source": [
    "roc_auc_score(y_train_5, y_scores_forest)"
   ]
  },
  {
   "cell_type": "markdown",
   "id": "flush-vermont",
   "metadata": {},
   "source": [
    "# Multiclass Classification"
   ]
  },
  {
   "cell_type": "markdown",
   "id": "maritime-hampshire",
   "metadata": {},
   "source": [
    "**Obs**: Enquanto os **classificadores binários** distinguem entre duas classes, os **classificadores multiclasse** (também chamados de classificadores multinomiais) podem **distinguir entre mais de duas classes.**"
   ]
  },
  {
   "cell_type": "markdown",
   "id": "responsible-equipment",
   "metadata": {},
   "source": [
    "**Obs**: O Scikit-Learn detecta quando você tenta usar um algoritmo de classificação binária para uma tarefa de classificação multiclasse e executa o OvA automaticamente (exceto para classificadores SVM para os quais usa OvO). Vou tentar isso com o SGDClassifier:"
   ]
  },
  {
   "cell_type": "code",
   "execution_count": 48,
   "id": "reasonable-suspect",
   "metadata": {},
   "outputs": [
    {
     "data": {
      "text/plain": [
       "array([5], dtype=int8)"
      ]
     },
     "execution_count": 48,
     "metadata": {},
     "output_type": "execute_result"
    }
   ],
   "source": [
    "sgd_clf.fit(X_train, y_train) #y_train, not y_train_5\n",
    "sgd_clf.predict([some_digit])"
   ]
  },
  {
   "cell_type": "markdown",
   "id": "lesser-minister",
   "metadata": {},
   "source": [
    "**Obs:** Este código passado treina o **SGDClassifier** no conjunto de treinamento usando as classes de destino originais de 0 a 9 **(y_train)**, em vez das classes de destino 5 versus todas **(y_train_5)**. Em seguida, ele faz uma previsão (uma correta neste caso). O Scikit-Learn realmente treinou 10 classificadores binários, obteve suas pontuações de decisão para a imagem e selecionou a classe com a pontuação mais alta."
   ]
  },
  {
   "cell_type": "markdown",
   "id": "planned-sarah",
   "metadata": {},
   "source": [
    "A seguir, irie chamar o método ***decision_function()***. Em vez de retornar apenas uma pontuação por instância, agora retorna 10 pontuações, uma por classe: \n"
   ]
  },
  {
   "cell_type": "code",
   "execution_count": 49,
   "id": "statewide-petersburg",
   "metadata": {},
   "outputs": [
    {
     "data": {
      "text/plain": [
       "array([[-202945.08731519, -529915.77164725, -302546.04753897,\n",
       "        -199252.47827159, -487703.04298779,  -74239.05190996,\n",
       "        -747481.93922629, -262079.15022395, -655339.5891142 ,\n",
       "        -649275.94761227]])"
      ]
     },
     "execution_count": 49,
     "metadata": {},
     "output_type": "execute_result"
    }
   ],
   "source": [
    "some_digit_scores = sgd_clf.decision_function([some_digit])\n",
    "some_digit_scores"
   ]
  },
  {
   "cell_type": "code",
   "execution_count": 50,
   "id": "brief-vocabulary",
   "metadata": {},
   "outputs": [
    {
     "data": {
      "text/plain": [
       "array([[-202945.08731519, -529915.77164725, -302546.04753897,\n",
       "        -199252.47827159, -487703.04298779,  -74239.05190996,\n",
       "        -747481.93922629, -262079.15022395, -655339.5891142 ,\n",
       "        -649275.94761227]])"
      ]
     },
     "execution_count": 50,
     "metadata": {},
     "output_type": "execute_result"
    }
   ],
   "source": [
    "some_digit_scores = sgd_clf.decision_function([some_digit])\n",
    "some_digit_scores"
   ]
  },
  {
   "cell_type": "markdown",
   "id": "dedicated-pickup",
   "metadata": {},
   "source": [
    "**Obs:** A pontuação mais alta é de fato aquela correspondente à classe 5:"
   ]
  },
  {
   "cell_type": "code",
   "execution_count": 51,
   "id": "according-superintendent",
   "metadata": {},
   "outputs": [
    {
     "data": {
      "text/plain": [
       "5"
      ]
     },
     "execution_count": 51,
     "metadata": {},
     "output_type": "execute_result"
    }
   ],
   "source": [
    "np.argmax(some_digit_scores)\n"
   ]
  },
  {
   "cell_type": "code",
   "execution_count": 52,
   "id": "rocky-burner",
   "metadata": {},
   "outputs": [
    {
     "data": {
      "text/plain": [
       "array([0, 1, 2, 3, 4, 5, 6, 7, 8, 9], dtype=int8)"
      ]
     },
     "execution_count": 52,
     "metadata": {},
     "output_type": "execute_result"
    }
   ],
   "source": [
    "sgd_clf.classes_"
   ]
  },
  {
   "cell_type": "code",
   "execution_count": 53,
   "id": "parental-cambodia",
   "metadata": {},
   "outputs": [
    {
     "data": {
      "text/plain": [
       "5"
      ]
     },
     "execution_count": 53,
     "metadata": {},
     "output_type": "execute_result"
    }
   ],
   "source": [
    "sgd_clf.classes_[5]"
   ]
  },
  {
   "cell_type": "markdown",
   "id": "vocal-apache",
   "metadata": {},
   "source": [
    "Para forçar o ScikitLearn a usar um contra **(one-versus-one)** um ou um contra todos **(one-versus-all)**, você pode usar as classes **OneVsOneClassifier** ou **OneVsRestClassifier**. Basta criar uma instância e passar um classificador binário para seu construtor. Por exemplo, este código cria um classificador multiclasse usando a estratégia **OvO**, com base em um **SGDClassifier**:"
   ]
  },
  {
   "cell_type": "code",
   "execution_count": 54,
   "id": "composite-allah",
   "metadata": {},
   "outputs": [
    {
     "data": {
      "text/plain": [
       "array([5], dtype=int8)"
      ]
     },
     "execution_count": 54,
     "metadata": {},
     "output_type": "execute_result"
    }
   ],
   "source": [
    "from sklearn.multiclass import OneVsOneClassifier\n",
    "ovo_clf = OneVsOneClassifier(SGDClassifier(max_iter=5, tol=-np.infty, \n",
    "                                           random_state=42))\n",
    "ovo_clf.fit(X_train, y_train)\n",
    "ovo_clf.predict([some_digit])"
   ]
  },
  {
   "cell_type": "code",
   "execution_count": 55,
   "id": "vietnamese-forestry",
   "metadata": {},
   "outputs": [
    {
     "data": {
      "text/plain": [
       "45"
      ]
     },
     "execution_count": 55,
     "metadata": {},
     "output_type": "execute_result"
    }
   ],
   "source": [
    "len(ovo_clf.estimators_)"
   ]
  },
  {
   "cell_type": "markdown",
   "id": "approximate-reverse",
   "metadata": {},
   "source": [
    "Treinar um **RandomForestClassifier é tão fácil** parece tão fácil: "
   ]
  },
  {
   "cell_type": "code",
   "execution_count": 56,
   "id": "metric-stable",
   "metadata": {},
   "outputs": [
    {
     "data": {
      "text/plain": [
       "array([5], dtype=int8)"
      ]
     },
     "execution_count": 56,
     "metadata": {},
     "output_type": "execute_result"
    }
   ],
   "source": [
    "forest_clf.fit(X_train, y_train)\n",
    "forest_clf.predict([some_digit])"
   ]
  },
  {
   "cell_type": "markdown",
   "id": "educated-being",
   "metadata": {},
   "source": [
    "**Obs**: Desta vez, o Scikit-Learn não precisou executar **OvA** ou **OvO** porque os classificadores **Random Forest** podem classificar diretamente as instâncias em várias classes. Você pode chamar **predict_proba ()** para obter a lista de probabilidades que o classificador atribuiu a cada instância de cada classe:"
   ]
  },
  {
   "cell_type": "code",
   "execution_count": 57,
   "id": "improving-effects",
   "metadata": {},
   "outputs": [
    {
     "data": {
      "text/plain": [
       "array([[0., 0., 0., 0., 0., 1., 0., 0., 0., 0.]])"
      ]
     },
     "execution_count": 57,
     "metadata": {},
     "output_type": "execute_result"
    }
   ],
   "source": [
    "forest_clf.predict_proba([some_digit])"
   ]
  },
  {
   "cell_type": "markdown",
   "id": "sapphire-spouse",
   "metadata": {},
   "source": [
    "É possível ver que o classificador está bastante confiante sobre sua previsão: o 0.8 no 5º índice na matriz significa que o modelo estima uma probabilidade de 80% de que a imagem represente um 5. Ele também pensa que a imagem poderia ser 0 ou um 3 (10% de chance cada)."
   ]
  },
  {
   "cell_type": "markdown",
   "id": "danish-pearl",
   "metadata": {},
   "source": [
    "Agora eu vou avaliar a precisão do **SGDClassifier** usando a função ***cross_val_score ()***: \n"
   ]
  },
  {
   "cell_type": "code",
   "execution_count": 58,
   "id": "forbidden-control",
   "metadata": {},
   "outputs": [
    {
     "data": {
      "text/plain": [
       "array([0.87105, 0.85575, 0.87595])"
      ]
     },
     "execution_count": 58,
     "metadata": {},
     "output_type": "execute_result"
    }
   ],
   "source": [
    "cross_val_score(sgd_clf, X_train, y_train, cv=3, scoring=\"accuracy\")"
   ]
  },
  {
   "cell_type": "markdown",
   "id": "amazing-monaco",
   "metadata": {},
   "source": [
    "Ele chega a mais de 84% em todas as dobras de teste. Se eu usasse um classificador aleatório, obteria 10% de precisão, portanto, essa não é uma pontuação tão ruim, mas eu ainda pode fazer muito melhor. Por exemplo,\n",
    "simplesmente dimensionar as entradas aumenta a precisão acima 90%:"
   ]
  },
  {
   "cell_type": "code",
   "execution_count": 59,
   "id": "altered-rebate",
   "metadata": {},
   "outputs": [
    {
     "data": {
      "text/plain": [
       "array([0.91135, 0.9077 , 0.9108 ])"
      ]
     },
     "execution_count": 59,
     "metadata": {},
     "output_type": "execute_result"
    }
   ],
   "source": [
    "from sklearn.preprocessing import StandardScaler\n",
    "scaler = StandardScaler()\n",
    "X_train_scaled = scaler.fit_transform(X_train.astype(np.float64))\n",
    "cross_val_score(sgd_clf, X_train_scaled, y_train, cv=3, scoring=\"accuracy\")"
   ]
  },
  {
   "cell_type": "markdown",
   "id": "animated-aquarium",
   "metadata": {},
   "source": [
    "# Error Analysis"
   ]
  },
  {
   "cell_type": "markdown",
   "id": "informal-october",
   "metadata": {},
   "source": [
    "**Obs:** Claro, se este fosse um projeto real, eu seguiria as etapas na lista de verificação do projeto de Aprendizado de Máquina (consulte o Apêndice B): explorando as opções de preparação de dados, tentando\n",
    "vários modelos, listando os melhores e ajustando seus hiperparâmetros usando **GridSearchCV** e automatizando o máximo possível, como eu fiz no\n",
    "capítulo anterior. Aqui, presumiremos que você encontrou um modelo promissor e deseja encontrar maneiras de melhorá-lo. Uma maneira de fazer isso é analisar os tipos de erros que comete.\n",
    "\n",
    "Primeiro, eu posso olhar para a matriz de confusão. Eu preciso fazer previsões usando a função ***cross_val_predict ()***, em seguida, chamar a função ***confused_matrix ()***, assim como fiz antes:"
   ]
  },
  {
   "cell_type": "code",
   "execution_count": 60,
   "id": "personalized-cabinet",
   "metadata": {},
   "outputs": [
    {
     "data": {
      "text/plain": [
       "array([[5726,    2,   20,    9,   10,   55,   44,    9,   43,    5],\n",
       "       [   1, 6487,   42,   28,    5,   48,    7,   11,   96,   17],\n",
       "       [  58,   39, 5289,  107,   80,   26,   97,   65,  176,   21],\n",
       "       [  46,   37,  139, 5336,    2,  224,   37,   56,  158,   96],\n",
       "       [  20,   26,   33,    8, 5383,    9,   48,   30,   72,  213],\n",
       "       [  72,   46,   30,  180,   66, 4605,  111,   30,  177,  104],\n",
       "       [  38,   19,   36,    2,   38,   87, 5646,    7,   44,    1],\n",
       "       [  25,   19,   65,   27,   51,   11,    6, 5818,   16,  227],\n",
       "       [  51,  158,   68,  145,   14,  156,   57,   31, 5029,  142],\n",
       "       [  42,   30,   28,   86,  159,   33,    2,  208,   83, 5278]],\n",
       "      dtype=int64)"
      ]
     },
     "execution_count": 60,
     "metadata": {},
     "output_type": "execute_result"
    }
   ],
   "source": [
    "y_train_pred = cross_val_predict(sgd_clf, X_train_scaled, y_train, cv=3)\n",
    "conf_mx = confusion_matrix(y_train, y_train_pred)\n",
    "conf_mx"
   ]
  },
  {
   "cell_type": "markdown",
   "id": "secure-belize",
   "metadata": {},
   "source": [
    "É possível observar que são muitos números na matriz anterior. Muitas vezes é mais conveniente olhar para uma representação de imagem\n",
    "da matriz de confusão, usando a função ***matshow ()*** de **Matplotlib**:"
   ]
  },
  {
   "cell_type": "code",
   "execution_count": 61,
   "id": "decreased-involvement",
   "metadata": {},
   "outputs": [],
   "source": [
    "def plot_confusion_matrix(matrix):\n",
    "    \"\"\"Se você prefere cores e uma barra de cores\"\"\"\n",
    "    fig = plt.figure(figsize=(8,8))\n",
    "    ax = fig.add_subplot(111)\n",
    "    cax = ax.matshow(matrix)\n",
    "    fig.colorbar(cax)"
   ]
  },
  {
   "cell_type": "code",
   "execution_count": 62,
   "id": "bacterial-platform",
   "metadata": {},
   "outputs": [
    {
     "data": {
      "image/png": "[encoded data removed]",
      "text/plain": [
       "<Figure size 288x288 with 1 Axes>"
      ]
     },
     "metadata": {
      "needs_background": "light"
     },
     "output_type": "display_data"
    }
   ],
   "source": [
    "plt.matshow(conf_mx, cmap=plt.cm.gray)\n",
    "#save_fig(\"confusion_matrix_plot\", tight_layout=False)\n",
    "plt.show()"
   ]
  },
  {
   "cell_type": "markdown",
   "id": "terminal-grove",
   "metadata": {},
   "source": [
    "**Obs**: Esta matriz de confusão parece bastante boa, uma vez que a maioria das imagens estão na diagonal principal, o que significa que foram classificadas corretamente. O 5s parece um pouco mais escuro que o outros dígitos, o que pode significar que há menos imagens de 5s no conjunto de dados ou que o classificador não tem um desempenho tão bom em 5s quanto em outros dígitos. Na verdade, você pode verificar que ambos são o caso."
   ]
  },
  {
   "cell_type": "markdown",
   "id": "imposed-procurement",
   "metadata": {},
   "source": [
    "Agora, vou focar nos erros. Primeiro, eu preciso dividir cada valor na matriz de confusão pelo número de imagens na classe correspondente, para que eu possa comparar as taxas de erro em vez do número absoluto de erros (o que faria com que classes abundantes parecessem injustamente ruim):"
   ]
  },
  {
   "cell_type": "code",
   "execution_count": 63,
   "id": "liquid-volleyball",
   "metadata": {},
   "outputs": [],
   "source": [
    "row_sums = conf_mx.sum(axis=1, keepdims=True)\n",
    "norm_conf_mx = conf_mx / row_sums"
   ]
  },
  {
   "cell_type": "markdown",
   "id": "guilty-novel",
   "metadata": {},
   "source": [
    "Agora vou preencher a diagonal com zeros para manter apenas os erros, e vou representar graficamente o resultado:"
   ]
  },
  {
   "cell_type": "code",
   "execution_count": 64,
   "id": "norwegian-optics",
   "metadata": {},
   "outputs": [
    {
     "data": {
      "image/png": "[encoded data removed]",
      "text/plain": [
       "<Figure size 288x288 with 1 Axes>"
      ]
     },
     "metadata": {
      "needs_background": "light"
     },
     "output_type": "display_data"
    }
   ],
   "source": [
    "np.fill_diagonal(norm_conf_mx, 0)\n",
    "plt.matshow(norm_conf_mx, cmap=plt.cm.gray)\n",
    "#save_fig(\"confusion_matrix_errors_plot\", tight_layout=False)\n",
    "plt.show()"
   ]
  },
  {
   "cell_type": "markdown",
   "id": "solved-alias",
   "metadata": {},
   "source": [
    "Agora é possível ver claramente os tipos de erros que o classificador comete. Lembrando que as linhas representam as classes reais, enquanto as colunas representam as classes previstas. As colunas para as classes 8 e 9 são bastante claras, o que indica que muitas imagens foram classificadas incorretamente como 8s ou 9s. Da mesma forma, as linhas das classes 8 e 9 também são bastante claras, informando que 8s e 9s costumam ser confundidos com outros dígitos. Por outro lado, algumas linhas são muito escuras, como a linha 1: isso significa que a maioria dos 1s está classificada corretamente (alguns estão confusos com 8s, mas isso é tudo). Observe que os erros não são perfeitamente simétricos; por exemplo, há mais 5s classificados incorretamente como 8s do que o inverso."
   ]
  },
  {
   "cell_type": "markdown",
   "id": "adapted-contributor",
   "metadata": {},
   "source": [
    "Olhando para este enredo, parece que meus esforços devem ser gastos em melhorar a classificação de 8s e 9s, bem como corrigir a confusão 3/5 específica. Por exemplo, eu posso tentar coletar mais dados de treinamento para esses dígitos. Ou posso criar novos recursos que ajudem o classificador - por exemplo, escrever um algoritmo para contar o número de loops fechados (por exemplo, 8 tem dois, 6 tem um, 5 tem nenhum). Ou posso pré-processar as imagens (por exemplo, usando Scikit-Image, Pillow ou OpenCV) para fazer alguns padrões se destacarem mais, como loops fechados."
   ]
  },
  {
   "cell_type": "markdown",
   "id": "personal-raise",
   "metadata": {},
   "source": [
    "**Obs**: Analisar erros individuais também pode ser uma boa maneira de obter insights sobre o que meu classificador está fazendo e por que está falhando, mas é mais difícil e demorado.\n",
    "Por exemplo, vou traçar exemplos de 3s e 5s:"
   ]
  },
  {
   "cell_type": "code",
   "execution_count": 65,
   "id": "invisible-threshold",
   "metadata": {},
   "outputs": [
    {
     "data": {
      "image/png": "[encoded data removed]",
      "text/plain": [
       "<Figure size 576x576 with 4 Axes>"
      ]
     },
     "metadata": {
      "needs_background": "light"
     },
     "output_type": "display_data"
    }
   ],
   "source": [
    "cl_a, cl_b = 3, 5\n",
    "X_aa = X_train[(y_train == cl_a) & (y_train_pred == cl_a)]\n",
    "X_ab = X_train[(y_train == cl_a) & (y_train_pred == cl_b)]\n",
    "X_ba = X_train[(y_train == cl_b) & (y_train_pred == cl_a)]\n",
    "X_bb = X_train[(y_train == cl_b) & (y_train_pred == cl_b)]\n",
    "\n",
    "plt.figure(figsize=(8,8))\n",
    "plt.subplot(221); plot_digits(X_aa[:25], images_per_row=5)\n",
    "plt.subplot(222); plot_digits(X_ab[:25], images_per_row=5)\n",
    "plt.subplot(223); plot_digits(X_ba[:25], images_per_row=5)\n",
    "plt.subplot(224); plot_digits(X_bb[:25], images_per_row=5)\n",
    "#save_fig(\"error_analysis_digits_plot\")\n",
    "plt.show()"
   ]
  },
  {
   "cell_type": "markdown",
   "id": "chemical-parish",
   "metadata": {},
   "source": [
    "**Obs**: Os dois blocos 5 × 5 à esquerda mostram dígitos classificados como 3s e os dois blocos 5 × 5 à direita mostram imagens classificadas como 5s. Alguns dos dígitos que o classificador errou (ou seja, nos blocos inferior esquerdo e superior direito) estão tão mal escritos que até mesmo um humano teria problemas para classificá-los (por exemplo, o 5 na 8ª linha e a 1ª coluna verdadeiramente parece um 3). No entanto, a maioria das imagens classificadas incorretamente parecem erros óbvios para nós, e é difícil entender por que o classificador cometeu os erros que cometeu. A razão é que usamos um **SGDClassifier** simples, que é um modelo linear. Tudo o que faz é atribuir um peso por classe para cada pixel e, quando vê uma nova imagem, apenas soma as intensidades de pixel ponderadas para obter uma pontuação para cada classe. Portanto, como 3s e 5s diferem apenas por alguns pixels, este modelo os confundirá facilmente.\n",
    "\n",
    "A principal diferença entre 3s e 5s é a posição da pequena linha que une a linha superior ao arco inferior. Se você desenhar um 3 com a junção ligeiramente deslocada para a esquerda, o classificador pode classificá-lo como 5 e vice-versa. Em outras palavras, esse classificador é bastante sensível ao deslocamento e rotação da imagem. Então, uma maneira de reduzir a confusão 3/5 seria pré-processar as imagens para garantir que fiquem bem centralizadas e não muito giradas. Isso provavelmente ajudará a reduzir outros erros também."
   ]
  },
  {
   "cell_type": "markdown",
   "id": "blind-lecture",
   "metadata": {},
   "source": [
    "# Multilabel Classification\n"
   ]
  },
  {
   "cell_type": "markdown",
   "id": "affecting-inclusion",
   "metadata": {},
   "source": [
    "**obs**: sistema de classificação que produz múltiplos rótulos binários são chamados de sistema de classificação multilabel. Por exemplo, um sistema que reconhece vários rostos em uma foto. \n",
    "\n",
    "Não entraremos em reconhecimento facial ainda, mas vamos ver um exemplo mais simples, apenas para fins de ilustração:"
   ]
  },
  {
   "cell_type": "code",
   "execution_count": 66,
   "id": "hidden-shakespeare",
   "metadata": {},
   "outputs": [
    {
     "data": {
      "text/plain": [
       "KNeighborsClassifier()"
      ]
     },
     "execution_count": 66,
     "metadata": {},
     "output_type": "execute_result"
    }
   ],
   "source": [
    "from sklearn.neighbors import KNeighborsClassifier\n",
    "\n",
    "y_train_large = (y_train >= 7)\n",
    "y_train_odd = (y_train % 2 == 1)\n",
    "y_multilabel = np.c_[y_train_large, y_train_odd]\n",
    "\n",
    "knn_clf = KNeighborsClassifier()\n",
    "knn_clf.fit(X_train, y_multilabel)"
   ]
  },
  {
   "cell_type": "markdown",
   "id": "cultural-school",
   "metadata": {},
   "source": [
    "**Obs**: Este código cria uma matriz **y_multilabel** contendo dois rótulos de destino para cada imagem de dígito: o primeiro indica se o dígito é grande ou não (7, 8 ou 9) e o segundo indica se é ou não estranho. As próximas linhas criam uma instância **KNeighborsClassifier** (que oferece suporte à classificação multilabel, mas nem todos os classificadores fazem) e a treinamos usando a matriz de alvos múltiplos. Agora você pode fazer uma previsão e perceber que ela produz dois rótulos:"
   ]
  },
  {
   "cell_type": "code",
   "execution_count": 67,
   "id": "cubic-street",
   "metadata": {},
   "outputs": [
    {
     "data": {
      "text/plain": [
       "array([[False,  True]])"
      ]
     },
     "execution_count": 67,
     "metadata": {},
     "output_type": "execute_result"
    }
   ],
   "source": [
    "knn_clf.predict([some_digit])"
   ]
  },
  {
   "cell_type": "markdown",
   "id": "inner-answer",
   "metadata": {},
   "source": [
    "Ele acertou! O dígito 5 realmente não é grande (Falso) e ímpar (Verdadeiro). Existem muitas maneiras de avaliar um **classificador multilabel**, e selecionar a métrica correta realmente depende do seu projeto. Por exemplo, uma abordagem é medir a **F1 score** para cada rótulo individual (ou qualquer outra métrica classificadora binária discutida anteriormente) e, em seguida, simplesmente calcular a pontuação média. Este código calcula a pontuação F1 média em todos os rótulos:"
   ]
  },
  {
   "cell_type": "code",
   "execution_count": 68,
   "id": "presidential-parts",
   "metadata": {},
   "outputs": [
    {
     "data": {
      "text/plain": [
       "0.977353548454318"
      ]
     },
     "execution_count": 68,
     "metadata": {},
     "output_type": "execute_result"
    }
   ],
   "source": [
    "y_train_knn_pred = cross_val_predict(knn_clf, X_train, y_multilabel, cv=3, n_jobs=-1)\n",
    "f1_score(y_multilabel, y_train_knn_pred, average=\"macro\")"
   ]
  },
  {
   "cell_type": "markdown",
   "id": "communist-potato",
   "metadata": {},
   "source": [
    "# Multioutput Classification"
   ]
  },
  {
   "cell_type": "markdown",
   "id": "respective-secretary",
   "metadata": {},
   "source": [
    "A chamada **Classificação de múltiplas saídas** é simplesmente uma generalização da classificação multilabel, onde cada rótulo pode ser multiclasse (ou seja, pode ter mais de dois valores possíveis). \n"
   ]
  },
  {
   "cell_type": "markdown",
   "id": "preceding-click",
   "metadata": {},
   "source": [
    "Para exemplificar isso, será construído um sistema que remove ruídos das imagens. Ele terá como entrada uma imagem de dígito ruidosa e (com sorte) produzirá uma imagem de dígito limpa, representada como uma matriz de intensidades de pixel, assim como as imagens MNIST. Observe que o\n",
    "a saída do classificador é multilabel (um rótulo por pixel) e cada rótulo pode ter vários valores (faixas de intensidade de pixel de 0 a 255). É, portanto, um exemplo de uma saída múltipla sistema de classificação. "
   ]
  },
  {
   "cell_type": "markdown",
   "id": "disabled-springfield",
   "metadata": {},
   "source": [
    "A seguir vou começar criando os conjuntos de treinamento e teste, pegando as imagens MNIST e adicionando ruído às suas intensidades de pixel. Para tanto, irei usar a função ***randint()*** do Numpy. As imagens alvo serão as imagens originais: "
   ]
  },
  {
   "cell_type": "code",
   "execution_count": 76,
   "id": "vietnamese-curve",
   "metadata": {},
   "outputs": [],
   "source": [
    "import numpy as np\n",
    "noise = np.random.randint(0, 100, (len(X_train), 784))\n",
    "X_train_mod = X_train + noise\n",
    "noise = np.random.randint(0, 100, (len(X_test), 784))\n",
    "X_test_mod = X_test + noise\n",
    "y_train_mod = X_train\n",
    "y_test_mod = X_test"
   ]
  },
  {
   "cell_type": "markdown",
   "id": "running-monitoring",
   "metadata": {},
   "source": [
    "A seguir, vou dar uma olhada em uma imagem do conjunto de teste:"
   ]
  },
  {
   "cell_type": "code",
   "execution_count": 77,
   "id": "historical-valve",
   "metadata": {},
   "outputs": [
    {
     "data": {
      "image/png": "[encoded data removed]",
      "text/plain": [
       "<Figure size 432x288 with 2 Axes>"
      ]
     },
     "metadata": {
      "needs_background": "light"
     },
     "output_type": "display_data"
    }
   ],
   "source": [
    "some_index = 5500\n",
    "plt.subplot(121); plot_digit(X_test_mod[some_index])\n",
    "plt.subplot(122); plot_digit(y_test_mod[some_index])\n",
    "#save_fig(\"noisy_digit_example_plot\")\n",
    "plt.show()"
   ]
  },
  {
   "cell_type": "code",
   "execution_count": 75,
   "id": "respected-majority",
   "metadata": {},
   "outputs": [
    {
     "data": {
      "image/png": "[encoded data removed]",
      "text/plain": [
       "<Figure size 432x288 with 1 Axes>"
      ]
     },
     "metadata": {
      "needs_background": "light"
     },
     "output_type": "display_data"
    }
   ],
   "source": [
    "knn_clf.fit(X_train_mod, y_train_mod)\n",
    "clean_digit = knn_clf.predict([X_test_mod[some_index]])\n",
    "plot_digit(clean_digit)\n",
    "#save_fig(\"cleaned_digit_example_plot\")"
   ]
  },
  {
   "cell_type": "code",
   "execution_count": null,
   "id": "political-consistency",
   "metadata": {},
   "outputs": [],
   "source": []
  }
 ],
 "metadata": {
  "kernelspec": {
   "display_name": "Python 3",
   "language": "python",
   "name": "python3"
  },
  "language_info": {
   "codemirror_mode": {
    "name": "ipython",
    "version": 3
   },
   "file_extension": ".py",
   "mimetype": "text/x-python",
   "name": "python",
   "nbconvert_exporter": "python",
   "pygments_lexer": "ipython3",
   "version": "3.8.6rc1"
  }
 },
 "nbformat": 4,
 "nbformat_minor": 5
}
