{
  "nbformat": 4,
  "nbformat_minor": 0,
  "metadata": {
    "colab": {
      "name": "ANN_Iris.ipynb",
      "provenance": [],
      "collapsed_sections": [],
      "authorship_tag": "ABX9TyNmAU8rXnE/wRkuJmBs4ZnY",
      "include_colab_link": true
    },
    "kernelspec": {
      "name": "python3",
      "display_name": "Python 3"
    }
  },
  "cells": [
    {
      "cell_type": "markdown",
      "metadata": {
        "id": "view-in-github",
        "colab_type": "text"
      },
      "source": [
        "<a href=\"https://colab.research.google.com/github/dhenifferraujo/Machine-Learning/blob/main/ANN_Iris.ipynb\" target=\"_parent\"><img src=\"https://colab.research.google.com/assets/colab-badge.svg\" alt=\"Open In Colab\"/></a>"
      ]
    },
    {
      "cell_type": "code",
      "metadata": {
        "id": "aOaBbjl8-6lD"
      },
      "source": [
        "#Aqui eu importei a biblioteca tensorflow e dei um \"apelido\" para ela de 'tf'\n",
        "import tensorflow as tf"
      ],
      "execution_count": null,
      "outputs": []
    },
    {
      "cell_type": "code",
      "metadata": {
        "id": "eP3IABn8_vM8"
      },
      "source": [
        "#Criação do modelo sequencial\n",
        "#O modelo sequencial permite inserir camadas em série, onde o output da primeira camada serve como input da segunda, e assim por diante.\n",
        "rede = tf.keras.models.Sequential()"
      ],
      "execution_count": null,
      "outputs": []
    },
    {
      "cell_type": "code",
      "metadata": {
        "id": "O8uq38EGA0La"
      },
      "source": [
        "#Adicionando camadas densas (totalmente conectadas). A seguir estou colocando o endereço delas, assim como as suas características.\n",
        "#Units são os neurônios, input_shape são as entradas, activation é a função de ativação.\n",
        "#A função de ativação decide se um neurônio da camada é disparado ou não. \n",
        "rede.add(tf.keras.layers.Dense(units=10, input_shape=(4,),activation='sigmoid')) #Essa é a primeira camada\n",
        "rede.add(tf.keras.layers.Dense(units=16, activation='sigmoid')) #Não precisei dizer quantas entradas essa segunda camada tem, porque ela já vai usar as 10 entradas da camada anterior automaticamente\n",
        "rede.add(tf.keras.layers.Dense(units=3, activation='softmax')) #Terceira camada"
      ],
      "execution_count": null,
      "outputs": []
    },
    {
      "cell_type": "code",
      "metadata": {
        "id": "8HLUk6bPHnMM"
      },
      "source": [
        "#Aprendizado de redes neurais\n",
        "#A compilação serve para validar e finalizar a estrutura da rede neural. Ela recebe 3 parâmetros: loss, optmizer e metrics.\n",
        "#Optimizer: define como os pesos da rede neural são atualizados.\n",
        "#loss: calcula a diferença entre os dados de teste e os dados de validação.\n",
        "#metrics: são as métricas que devem ser guardadas para avaliação. \n",
        "rede.compile(loss = 'sparse_categorical_crossentropy', optimizer= 'adam', metrics='accuracy')"
      ],
      "execution_count": null,
      "outputs": []
    },
    {
      "cell_type": "code",
      "metadata": {
        "id": "hI33aN2MuJbc"
      },
      "source": [
        "#Treinamento, Resultados e Validação\n",
        "#Coloquei o nome do meu banco de dados de 'banco'\n",
        "from sklearn.datasets import load_iris\n",
        "banco = load_iris()\n"
      ],
      "execution_count": null,
      "outputs": []
    },
    {
      "cell_type": "code",
      "metadata": {
        "colab": {
          "base_uri": "https://localhost:8080/"
        },
        "id": "ueHeNvZQueIw",
        "outputId": "df7d45e0-aa4f-4ae9-d014-7d9908684daf"
      },
      "source": [
        "banco.keys()"
      ],
      "execution_count": null,
      "outputs": [
        {
          "output_type": "execute_result",
          "data": {
            "text/plain": [
              "dict_keys(['data', 'target', 'target_names', 'DESCR', 'feature_names', 'filename'])"
            ]
          },
          "metadata": {
            "tags": []
          },
          "execution_count": 41
        }
      ]
    },
    {
      "cell_type": "code",
      "metadata": {
        "colab": {
          "base_uri": "https://localhost:8080/"
        },
        "id": "LLivAipWum4t",
        "outputId": "ab17d4e4-11c3-4249-b2ff-46c61b207952"
      },
      "source": [
        "#Na 'data' eu posso ver as dimensões das flores\n",
        "banco['data'] [37]"
      ],
      "execution_count": null,
      "outputs": [
        {
          "output_type": "execute_result",
          "data": {
            "text/plain": [
              "array([4.9, 3.6, 1.4, 0.1])"
            ]
          },
          "metadata": {
            "tags": []
          },
          "execution_count": 42
        }
      ]
    },
    {
      "cell_type": "code",
      "metadata": {
        "colab": {
          "base_uri": "https://localhost:8080/"
        },
        "id": "pwGAr2DuvURz",
        "outputId": "172e8eca-5671-44ad-b856-b31b203fbf18"
      },
      "source": [
        "#Para saber qual dimensão é cada\n",
        "banco['feature_names']"
      ],
      "execution_count": null,
      "outputs": [
        {
          "output_type": "execute_result",
          "data": {
            "text/plain": [
              "['sepal length (cm)',\n",
              " 'sepal width (cm)',\n",
              " 'petal length (cm)',\n",
              " 'petal width (cm)']"
            ]
          },
          "metadata": {
            "tags": []
          },
          "execution_count": 43
        }
      ]
    },
    {
      "cell_type": "code",
      "metadata": {
        "colab": {
          "base_uri": "https://localhost:8080/"
        },
        "id": "naU-0mINvKkN",
        "outputId": "f52e3342-1eb7-49ca-bd34-4e7f5c5a0895"
      },
      "source": [
        "#Na key target posso encontrar qual flor está relacionada com as dimensões que encontro na key 'data'\n",
        "banco['target'][37]"
      ],
      "execution_count": null,
      "outputs": [
        {
          "output_type": "execute_result",
          "data": {
            "text/plain": [
              "0"
            ]
          },
          "metadata": {
            "tags": []
          },
          "execution_count": 44
        }
      ]
    },
    {
      "cell_type": "code",
      "metadata": {
        "colab": {
          "base_uri": "https://localhost:8080/"
        },
        "id": "S2nj36FZwox4",
        "outputId": "0b02f83c-8460-4b26-b495-945f1cba07ce"
      },
      "source": [
        "#Na key target eu consigo descobrir qual é a ordem certa dos nomes\n",
        "banco['target_names']"
      ],
      "execution_count": null,
      "outputs": [
        {
          "output_type": "execute_result",
          "data": {
            "text/plain": [
              "array(['setosa', 'versicolor', 'virginica'], dtype='<U10')"
            ]
          },
          "metadata": {
            "tags": []
          },
          "execution_count": 45
        }
      ]
    },
    {
      "cell_type": "code",
      "metadata": {
        "id": "v_kGRz5GxYMr"
      },
      "source": [
        "#Agora vou salvar os dados mais importantes: 'data' e 'target' em duas variáveis: o 'x' e o 'y', o x (banco) será a dimensão das flores vão ser os dados de entrada\n",
        "#Já o 'y' que são os tipos de flores vão ser os dados de saída que eu quero atingir \n",
        "#Pode-se pensar no x como sendo as perguntas e o y como sendo as respostas\n",
        "x = banco['data']\n",
        "y = banco['target']"
      ],
      "execution_count": null,
      "outputs": []
    },
    {
      "cell_type": "code",
      "metadata": {
        "id": "-XQHyUiFz-9d"
      },
      "source": [
        "#Se eu uso esse bloco todo para a rede estudar, não vai sobrar nenhuma pergunta para poder testar a rede, então para isso vou separar esse bloco em dois grupos:\n",
        "#O primeira chamado de 'treino' (como se fosse o exercício) e o segundo de 'teste' (como se fosse a prova)"
      ],
      "execution_count": null,
      "outputs": []
    },
    {
      "cell_type": "code",
      "metadata": {
        "id": "cKCr6YxW0lye"
      },
      "source": [
        "#No sklearn existe uma função para separar o banco em duas partes: 'treino' e 'teste'. Essa função se chama 'train_test_split'\n",
        "from sklearn.model_selection import train_test_split"
      ],
      "execution_count": null,
      "outputs": []
    },
    {
      "cell_type": "code",
      "metadata": {
        "id": "T6dKkwcP1LdB"
      },
      "source": [
        "#Essa função terá 3 entradas: x, y, e test_size. A terceira vai determinar qual o tamanho do teste. Nesse caso o tamanho do teste é 20%\n",
        "#Essa função têm quatro saídas: as perguntas do treino; as perguntas do teste; as respostas do treino e as respostas do teste. \n",
        "x_train, x_test, y_train, y_test = train_test_split(x, y, test_size=0.2)\n"
      ],
      "execution_count": null,
      "outputs": []
    },
    {
      "cell_type": "code",
      "metadata": {
        "colab": {
          "base_uri": "https://localhost:8080/"
        },
        "id": "bJddIl8S231g",
        "outputId": "bb0f8d2f-d6ab-4eee-f7ac-265452f44e92"
      },
      "source": [
        "#Aqui é como se eu colocasse a rede sem estudar para fazer a prova, pra ver como ela se sai. Para isso vou usar a função 'evaluate'\n",
        "#Com a métrica acurácia dá pra ver que ela só tá acertando pouco mais de 30% da prova, ou seja, ela está chutando as respostas.\n",
        "rede.evaluate(x_test, y_test)"
      ],
      "execution_count": null,
      "outputs": [
        {
          "output_type": "stream",
          "text": [
            "1/1 [==============================] - 0s 175ms/step - loss: 1.2157 - accuracy: 0.2333\n"
          ],
          "name": "stdout"
        },
        {
          "output_type": "execute_result",
          "data": {
            "text/plain": [
              "[1.2157082557678223, 0.23333333432674408]"
            ]
          },
          "metadata": {
            "tags": []
          },
          "execution_count": 50
        }
      ]
    },
    {
      "cell_type": "code",
      "metadata": {
        "colab": {
          "base_uri": "https://localhost:8080/"
        },
        "id": "NR9eGL2s32c1",
        "outputId": "ce34b9f5-59df-4345-dee6-1c0bdf258ea1"
      },
      "source": [
        "#Na função anterior ficou claro que a rede precisa estudar, para isso vou dar para ela a 'lista de exercícios' (x_train e y_train), o número de vezes que ela irá fazer essa lista, \n",
        "#e por último irei dar o x_teste e y_test como forma de avaliação da rede\n",
        "#A função fit retorna um histórico de métricas. Com isso posso verificar a precisão de nosso algoritmo\n",
        "r = rede.fit(x_train, y_train, epochs = 150, validation_data=(x_test, y_test))"
      ],
      "execution_count": null,
      "outputs": [
        {
          "output_type": "stream",
          "text": [
            "Epoch 1/150\n",
            "4/4 [==============================] - 0s 34ms/step - loss: 1.1262 - accuracy: 0.3583 - val_loss: 1.1986 - val_accuracy: 0.2333\n",
            "Epoch 2/150\n",
            "4/4 [==============================] - 0s 18ms/step - loss: 1.1180 - accuracy: 0.3583 - val_loss: 1.1825 - val_accuracy: 0.2333\n",
            "Epoch 3/150\n",
            "4/4 [==============================] - 0s 16ms/step - loss: 1.1101 - accuracy: 0.3583 - val_loss: 1.1674 - val_accuracy: 0.2333\n",
            "Epoch 4/150\n",
            "4/4 [==============================] - 0s 19ms/step - loss: 1.1014 - accuracy: 0.3583 - val_loss: 1.1557 - val_accuracy: 0.2333\n",
            "Epoch 5/150\n",
            "4/4 [==============================] - 0s 16ms/step - loss: 1.0950 - accuracy: 0.3583 - val_loss: 1.1453 - val_accuracy: 0.2333\n",
            "Epoch 6/150\n",
            "4/4 [==============================] - 0s 17ms/step - loss: 1.0905 - accuracy: 0.3667 - val_loss: 1.1345 - val_accuracy: 0.2667\n",
            "Epoch 7/150\n",
            "4/4 [==============================] - 0s 16ms/step - loss: 1.0847 - accuracy: 0.3917 - val_loss: 1.1256 - val_accuracy: 0.4000\n",
            "Epoch 8/150\n",
            "4/4 [==============================] - 0s 16ms/step - loss: 1.0805 - accuracy: 0.5417 - val_loss: 1.1168 - val_accuracy: 0.5667\n",
            "Epoch 9/150\n",
            "4/4 [==============================] - 0s 15ms/step - loss: 1.0764 - accuracy: 0.6167 - val_loss: 1.1091 - val_accuracy: 0.5667\n",
            "Epoch 10/150\n",
            "4/4 [==============================] - 0s 15ms/step - loss: 1.0726 - accuracy: 0.6500 - val_loss: 1.1017 - val_accuracy: 0.5667\n",
            "Epoch 11/150\n",
            "4/4 [==============================] - 0s 15ms/step - loss: 1.0689 - accuracy: 0.6917 - val_loss: 1.0950 - val_accuracy: 0.5667\n",
            "Epoch 12/150\n",
            "4/4 [==============================] - 0s 15ms/step - loss: 1.0649 - accuracy: 0.6917 - val_loss: 1.0900 - val_accuracy: 0.5667\n",
            "Epoch 13/150\n",
            "4/4 [==============================] - 0s 15ms/step - loss: 1.0616 - accuracy: 0.6917 - val_loss: 1.0848 - val_accuracy: 0.5667\n",
            "Epoch 14/150\n",
            "4/4 [==============================] - 0s 15ms/step - loss: 1.0578 - accuracy: 0.6917 - val_loss: 1.0804 - val_accuracy: 0.5667\n",
            "Epoch 15/150\n",
            "4/4 [==============================] - 0s 18ms/step - loss: 1.0541 - accuracy: 0.6917 - val_loss: 1.0759 - val_accuracy: 0.5667\n",
            "Epoch 16/150\n",
            "4/4 [==============================] - 0s 16ms/step - loss: 1.0504 - accuracy: 0.6917 - val_loss: 1.0721 - val_accuracy: 0.5667\n",
            "Epoch 17/150\n",
            "4/4 [==============================] - 0s 15ms/step - loss: 1.0465 - accuracy: 0.6917 - val_loss: 1.0678 - val_accuracy: 0.5667\n",
            "Epoch 18/150\n",
            "4/4 [==============================] - 0s 14ms/step - loss: 1.0425 - accuracy: 0.6917 - val_loss: 1.0634 - val_accuracy: 0.5667\n",
            "Epoch 19/150\n",
            "4/4 [==============================] - 0s 15ms/step - loss: 1.0384 - accuracy: 0.6917 - val_loss: 1.0591 - val_accuracy: 0.5667\n",
            "Epoch 20/150\n",
            "4/4 [==============================] - 0s 15ms/step - loss: 1.0343 - accuracy: 0.6917 - val_loss: 1.0554 - val_accuracy: 0.5667\n",
            "Epoch 21/150\n",
            "4/4 [==============================] - 0s 15ms/step - loss: 1.0302 - accuracy: 0.6917 - val_loss: 1.0524 - val_accuracy: 0.5667\n",
            "Epoch 22/150\n",
            "4/4 [==============================] - 0s 16ms/step - loss: 1.0256 - accuracy: 0.6917 - val_loss: 1.0482 - val_accuracy: 0.5667\n",
            "Epoch 23/150\n",
            "4/4 [==============================] - 0s 17ms/step - loss: 1.0209 - accuracy: 0.6917 - val_loss: 1.0443 - val_accuracy: 0.5667\n",
            "Epoch 24/150\n",
            "4/4 [==============================] - 0s 15ms/step - loss: 1.0164 - accuracy: 0.6917 - val_loss: 1.0407 - val_accuracy: 0.5667\n",
            "Epoch 25/150\n",
            "4/4 [==============================] - 0s 16ms/step - loss: 1.0114 - accuracy: 0.6917 - val_loss: 1.0372 - val_accuracy: 0.5667\n",
            "Epoch 26/150\n",
            "4/4 [==============================] - 0s 15ms/step - loss: 1.0065 - accuracy: 0.6917 - val_loss: 1.0330 - val_accuracy: 0.5667\n",
            "Epoch 27/150\n",
            "4/4 [==============================] - 0s 16ms/step - loss: 1.0012 - accuracy: 0.6917 - val_loss: 1.0283 - val_accuracy: 0.5667\n",
            "Epoch 28/150\n",
            "4/4 [==============================] - 0s 17ms/step - loss: 0.9962 - accuracy: 0.6917 - val_loss: 1.0242 - val_accuracy: 0.5667\n",
            "Epoch 29/150\n",
            "4/4 [==============================] - 0s 15ms/step - loss: 0.9908 - accuracy: 0.6917 - val_loss: 1.0197 - val_accuracy: 0.5667\n",
            "Epoch 30/150\n",
            "4/4 [==============================] - 0s 15ms/step - loss: 0.9853 - accuracy: 0.6917 - val_loss: 1.0156 - val_accuracy: 0.5667\n",
            "Epoch 31/150\n",
            "4/4 [==============================] - 0s 15ms/step - loss: 0.9795 - accuracy: 0.6917 - val_loss: 1.0106 - val_accuracy: 0.5667\n",
            "Epoch 32/150\n",
            "4/4 [==============================] - 0s 15ms/step - loss: 0.9737 - accuracy: 0.6917 - val_loss: 1.0054 - val_accuracy: 0.5667\n",
            "Epoch 33/150\n",
            "4/4 [==============================] - 0s 15ms/step - loss: 0.9680 - accuracy: 0.6917 - val_loss: 1.0007 - val_accuracy: 0.5667\n",
            "Epoch 34/150\n",
            "4/4 [==============================] - 0s 17ms/step - loss: 0.9621 - accuracy: 0.6917 - val_loss: 0.9949 - val_accuracy: 0.5667\n",
            "Epoch 35/150\n",
            "4/4 [==============================] - 0s 16ms/step - loss: 0.9557 - accuracy: 0.6917 - val_loss: 0.9900 - val_accuracy: 0.5667\n",
            "Epoch 36/150\n",
            "4/4 [==============================] - 0s 15ms/step - loss: 0.9495 - accuracy: 0.6917 - val_loss: 0.9849 - val_accuracy: 0.5667\n",
            "Epoch 37/150\n",
            "4/4 [==============================] - 0s 15ms/step - loss: 0.9429 - accuracy: 0.6917 - val_loss: 0.9789 - val_accuracy: 0.5667\n",
            "Epoch 38/150\n",
            "4/4 [==============================] - 0s 16ms/step - loss: 0.9363 - accuracy: 0.6917 - val_loss: 0.9728 - val_accuracy: 0.5667\n",
            "Epoch 39/150\n",
            "4/4 [==============================] - 0s 16ms/step - loss: 0.9299 - accuracy: 0.6917 - val_loss: 0.9668 - val_accuracy: 0.5667\n",
            "Epoch 40/150\n",
            "4/4 [==============================] - 0s 15ms/step - loss: 0.9226 - accuracy: 0.6917 - val_loss: 0.9610 - val_accuracy: 0.5667\n",
            "Epoch 41/150\n",
            "4/4 [==============================] - 0s 16ms/step - loss: 0.9154 - accuracy: 0.6917 - val_loss: 0.9545 - val_accuracy: 0.5667\n",
            "Epoch 42/150\n",
            "4/4 [==============================] - 0s 17ms/step - loss: 0.9082 - accuracy: 0.6917 - val_loss: 0.9485 - val_accuracy: 0.5667\n",
            "Epoch 43/150\n",
            "4/4 [==============================] - 0s 16ms/step - loss: 0.9008 - accuracy: 0.6917 - val_loss: 0.9419 - val_accuracy: 0.5667\n",
            "Epoch 44/150\n",
            "4/4 [==============================] - 0s 16ms/step - loss: 0.8933 - accuracy: 0.6917 - val_loss: 0.9357 - val_accuracy: 0.5667\n",
            "Epoch 45/150\n",
            "4/4 [==============================] - 0s 16ms/step - loss: 0.8854 - accuracy: 0.6917 - val_loss: 0.9289 - val_accuracy: 0.5667\n",
            "Epoch 46/150\n",
            "4/4 [==============================] - 0s 17ms/step - loss: 0.8777 - accuracy: 0.6917 - val_loss: 0.9228 - val_accuracy: 0.5667\n",
            "Epoch 47/150\n",
            "4/4 [==============================] - 0s 16ms/step - loss: 0.8701 - accuracy: 0.6917 - val_loss: 0.9165 - val_accuracy: 0.5667\n",
            "Epoch 48/150\n",
            "4/4 [==============================] - 0s 15ms/step - loss: 0.8617 - accuracy: 0.6917 - val_loss: 0.9093 - val_accuracy: 0.5667\n",
            "Epoch 49/150\n",
            "4/4 [==============================] - 0s 16ms/step - loss: 0.8535 - accuracy: 0.6917 - val_loss: 0.9026 - val_accuracy: 0.5667\n",
            "Epoch 50/150\n",
            "4/4 [==============================] - 0s 15ms/step - loss: 0.8451 - accuracy: 0.6917 - val_loss: 0.8952 - val_accuracy: 0.5667\n",
            "Epoch 51/150\n",
            "4/4 [==============================] - 0s 14ms/step - loss: 0.8366 - accuracy: 0.6917 - val_loss: 0.8877 - val_accuracy: 0.5667\n",
            "Epoch 52/150\n",
            "4/4 [==============================] - 0s 16ms/step - loss: 0.8282 - accuracy: 0.6917 - val_loss: 0.8802 - val_accuracy: 0.5667\n",
            "Epoch 53/150\n",
            "4/4 [==============================] - 0s 16ms/step - loss: 0.8197 - accuracy: 0.6917 - val_loss: 0.8725 - val_accuracy: 0.5667\n",
            "Epoch 54/150\n",
            "4/4 [==============================] - 0s 18ms/step - loss: 0.8108 - accuracy: 0.6917 - val_loss: 0.8648 - val_accuracy: 0.5667\n",
            "Epoch 55/150\n",
            "4/4 [==============================] - 0s 17ms/step - loss: 0.8021 - accuracy: 0.6917 - val_loss: 0.8570 - val_accuracy: 0.5667\n",
            "Epoch 56/150\n",
            "4/4 [==============================] - 0s 15ms/step - loss: 0.7933 - accuracy: 0.6917 - val_loss: 0.8495 - val_accuracy: 0.5667\n",
            "Epoch 57/150\n",
            "4/4 [==============================] - 0s 15ms/step - loss: 0.7844 - accuracy: 0.6917 - val_loss: 0.8417 - val_accuracy: 0.5667\n",
            "Epoch 58/150\n",
            "4/4 [==============================] - 0s 15ms/step - loss: 0.7754 - accuracy: 0.6917 - val_loss: 0.8333 - val_accuracy: 0.5667\n",
            "Epoch 59/150\n",
            "4/4 [==============================] - 0s 15ms/step - loss: 0.7665 - accuracy: 0.6917 - val_loss: 0.8253 - val_accuracy: 0.5667\n",
            "Epoch 60/150\n",
            "4/4 [==============================] - 0s 17ms/step - loss: 0.7579 - accuracy: 0.6917 - val_loss: 0.8176 - val_accuracy: 0.5667\n",
            "Epoch 61/150\n",
            "4/4 [==============================] - 0s 15ms/step - loss: 0.7488 - accuracy: 0.6917 - val_loss: 0.8103 - val_accuracy: 0.5667\n",
            "Epoch 62/150\n",
            "4/4 [==============================] - 0s 15ms/step - loss: 0.7401 - accuracy: 0.6917 - val_loss: 0.8034 - val_accuracy: 0.5667\n",
            "Epoch 63/150\n",
            "4/4 [==============================] - 0s 14ms/step - loss: 0.7312 - accuracy: 0.6917 - val_loss: 0.7962 - val_accuracy: 0.5667\n",
            "Epoch 64/150\n",
            "4/4 [==============================] - 0s 14ms/step - loss: 0.7225 - accuracy: 0.6917 - val_loss: 0.7885 - val_accuracy: 0.5667\n",
            "Epoch 65/150\n",
            "4/4 [==============================] - 0s 15ms/step - loss: 0.7138 - accuracy: 0.6917 - val_loss: 0.7804 - val_accuracy: 0.5667\n",
            "Epoch 66/150\n",
            "4/4 [==============================] - 0s 16ms/step - loss: 0.7055 - accuracy: 0.7000 - val_loss: 0.7731 - val_accuracy: 0.5667\n",
            "Epoch 67/150\n",
            "4/4 [==============================] - 0s 17ms/step - loss: 0.6968 - accuracy: 0.7000 - val_loss: 0.7650 - val_accuracy: 0.6000\n",
            "Epoch 68/150\n",
            "4/4 [==============================] - 0s 17ms/step - loss: 0.6884 - accuracy: 0.7000 - val_loss: 0.7567 - val_accuracy: 0.6000\n",
            "Epoch 69/150\n",
            "4/4 [==============================] - 0s 15ms/step - loss: 0.6802 - accuracy: 0.7000 - val_loss: 0.7492 - val_accuracy: 0.6000\n",
            "Epoch 70/150\n",
            "4/4 [==============================] - 0s 16ms/step - loss: 0.6722 - accuracy: 0.7083 - val_loss: 0.7405 - val_accuracy: 0.6333\n",
            "Epoch 71/150\n",
            "4/4 [==============================] - 0s 15ms/step - loss: 0.6640 - accuracy: 0.7167 - val_loss: 0.7329 - val_accuracy: 0.6333\n",
            "Epoch 72/150\n",
            "4/4 [==============================] - 0s 15ms/step - loss: 0.6562 - accuracy: 0.7167 - val_loss: 0.7255 - val_accuracy: 0.6333\n",
            "Epoch 73/150\n",
            "4/4 [==============================] - 0s 17ms/step - loss: 0.6484 - accuracy: 0.7250 - val_loss: 0.7183 - val_accuracy: 0.6333\n",
            "Epoch 74/150\n",
            "4/4 [==============================] - 0s 16ms/step - loss: 0.6409 - accuracy: 0.7250 - val_loss: 0.7118 - val_accuracy: 0.6333\n",
            "Epoch 75/150\n",
            "4/4 [==============================] - 0s 15ms/step - loss: 0.6334 - accuracy: 0.7250 - val_loss: 0.7053 - val_accuracy: 0.6333\n",
            "Epoch 76/150\n",
            "4/4 [==============================] - 0s 15ms/step - loss: 0.6261 - accuracy: 0.7167 - val_loss: 0.6986 - val_accuracy: 0.6333\n",
            "Epoch 77/150\n",
            "4/4 [==============================] - 0s 15ms/step - loss: 0.6189 - accuracy: 0.7250 - val_loss: 0.6920 - val_accuracy: 0.6333\n",
            "Epoch 78/150\n",
            "4/4 [==============================] - 0s 16ms/step - loss: 0.6120 - accuracy: 0.7250 - val_loss: 0.6857 - val_accuracy: 0.6333\n",
            "Epoch 79/150\n",
            "4/4 [==============================] - 0s 17ms/step - loss: 0.6053 - accuracy: 0.7250 - val_loss: 0.6790 - val_accuracy: 0.6333\n",
            "Epoch 80/150\n",
            "4/4 [==============================] - 0s 16ms/step - loss: 0.5987 - accuracy: 0.7333 - val_loss: 0.6728 - val_accuracy: 0.6333\n",
            "Epoch 81/150\n",
            "4/4 [==============================] - 0s 14ms/step - loss: 0.5922 - accuracy: 0.7333 - val_loss: 0.6670 - val_accuracy: 0.6333\n",
            "Epoch 82/150\n",
            "4/4 [==============================] - 0s 16ms/step - loss: 0.5864 - accuracy: 0.7417 - val_loss: 0.6619 - val_accuracy: 0.6333\n",
            "Epoch 83/150\n",
            "4/4 [==============================] - 0s 14ms/step - loss: 0.5799 - accuracy: 0.7417 - val_loss: 0.6558 - val_accuracy: 0.6333\n",
            "Epoch 84/150\n",
            "4/4 [==============================] - 0s 16ms/step - loss: 0.5739 - accuracy: 0.7417 - val_loss: 0.6495 - val_accuracy: 0.7667\n",
            "Epoch 85/150\n",
            "4/4 [==============================] - 0s 15ms/step - loss: 0.5681 - accuracy: 0.7417 - val_loss: 0.6437 - val_accuracy: 0.7667\n",
            "Epoch 86/150\n",
            "4/4 [==============================] - 0s 16ms/step - loss: 0.5625 - accuracy: 0.7583 - val_loss: 0.6377 - val_accuracy: 0.7667\n",
            "Epoch 87/150\n",
            "4/4 [==============================] - 0s 16ms/step - loss: 0.5571 - accuracy: 0.7750 - val_loss: 0.6317 - val_accuracy: 0.7667\n",
            "Epoch 88/150\n",
            "4/4 [==============================] - 0s 15ms/step - loss: 0.5518 - accuracy: 0.7750 - val_loss: 0.6266 - val_accuracy: 0.8000\n",
            "Epoch 89/150\n",
            "4/4 [==============================] - 0s 17ms/step - loss: 0.5468 - accuracy: 0.7833 - val_loss: 0.6213 - val_accuracy: 0.8333\n",
            "Epoch 90/150\n",
            "4/4 [==============================] - 0s 16ms/step - loss: 0.5416 - accuracy: 0.7833 - val_loss: 0.6169 - val_accuracy: 0.8333\n",
            "Epoch 91/150\n",
            "4/4 [==============================] - 0s 14ms/step - loss: 0.5367 - accuracy: 0.7833 - val_loss: 0.6124 - val_accuracy: 0.8667\n",
            "Epoch 92/150\n",
            "4/4 [==============================] - 0s 15ms/step - loss: 0.5321 - accuracy: 0.7917 - val_loss: 0.6081 - val_accuracy: 0.8667\n",
            "Epoch 93/150\n",
            "4/4 [==============================] - 0s 15ms/step - loss: 0.5274 - accuracy: 0.7917 - val_loss: 0.6037 - val_accuracy: 0.8667\n",
            "Epoch 94/150\n",
            "4/4 [==============================] - 0s 16ms/step - loss: 0.5231 - accuracy: 0.8000 - val_loss: 0.5987 - val_accuracy: 0.8667\n",
            "Epoch 95/150\n",
            "4/4 [==============================] - 0s 15ms/step - loss: 0.5187 - accuracy: 0.8083 - val_loss: 0.5947 - val_accuracy: 0.8667\n",
            "Epoch 96/150\n",
            "4/4 [==============================] - 0s 17ms/step - loss: 0.5143 - accuracy: 0.8083 - val_loss: 0.5907 - val_accuracy: 0.8667\n",
            "Epoch 97/150\n",
            "4/4 [==============================] - 0s 15ms/step - loss: 0.5103 - accuracy: 0.8083 - val_loss: 0.5865 - val_accuracy: 0.8667\n",
            "Epoch 98/150\n",
            "4/4 [==============================] - 0s 16ms/step - loss: 0.5063 - accuracy: 0.8083 - val_loss: 0.5826 - val_accuracy: 0.8667\n",
            "Epoch 99/150\n",
            "4/4 [==============================] - 0s 16ms/step - loss: 0.5023 - accuracy: 0.8083 - val_loss: 0.5787 - val_accuracy: 0.8667\n",
            "Epoch 100/150\n",
            "4/4 [==============================] - 0s 16ms/step - loss: 0.4985 - accuracy: 0.8083 - val_loss: 0.5747 - val_accuracy: 0.8667\n",
            "Epoch 101/150\n",
            "4/4 [==============================] - 0s 14ms/step - loss: 0.4949 - accuracy: 0.8333 - val_loss: 0.5702 - val_accuracy: 0.8667\n",
            "Epoch 102/150\n",
            "4/4 [==============================] - 0s 17ms/step - loss: 0.4913 - accuracy: 0.8500 - val_loss: 0.5668 - val_accuracy: 0.8667\n",
            "Epoch 103/150\n",
            "4/4 [==============================] - 0s 17ms/step - loss: 0.4876 - accuracy: 0.8500 - val_loss: 0.5628 - val_accuracy: 0.8667\n",
            "Epoch 104/150\n",
            "4/4 [==============================] - 0s 16ms/step - loss: 0.4842 - accuracy: 0.8583 - val_loss: 0.5586 - val_accuracy: 0.8667\n",
            "Epoch 105/150\n",
            "4/4 [==============================] - 0s 16ms/step - loss: 0.4806 - accuracy: 0.8667 - val_loss: 0.5548 - val_accuracy: 0.8667\n",
            "Epoch 106/150\n",
            "4/4 [==============================] - 0s 15ms/step - loss: 0.4775 - accuracy: 0.8667 - val_loss: 0.5508 - val_accuracy: 0.8667\n",
            "Epoch 107/150\n",
            "4/4 [==============================] - 0s 17ms/step - loss: 0.4739 - accuracy: 0.8833 - val_loss: 0.5477 - val_accuracy: 0.8667\n",
            "Epoch 108/150\n",
            "4/4 [==============================] - 0s 19ms/step - loss: 0.4708 - accuracy: 0.8750 - val_loss: 0.5444 - val_accuracy: 0.8667\n",
            "Epoch 109/150\n",
            "4/4 [==============================] - 0s 17ms/step - loss: 0.4677 - accuracy: 0.8833 - val_loss: 0.5409 - val_accuracy: 0.8667\n",
            "Epoch 110/150\n",
            "4/4 [==============================] - 0s 17ms/step - loss: 0.4645 - accuracy: 0.8833 - val_loss: 0.5378 - val_accuracy: 0.8667\n",
            "Epoch 111/150\n",
            "4/4 [==============================] - 0s 18ms/step - loss: 0.4616 - accuracy: 0.8750 - val_loss: 0.5352 - val_accuracy: 0.8667\n",
            "Epoch 112/150\n",
            "4/4 [==============================] - 0s 15ms/step - loss: 0.4586 - accuracy: 0.8833 - val_loss: 0.5316 - val_accuracy: 0.8667\n",
            "Epoch 113/150\n",
            "4/4 [==============================] - 0s 17ms/step - loss: 0.4555 - accuracy: 0.8833 - val_loss: 0.5281 - val_accuracy: 0.8667\n",
            "Epoch 114/150\n",
            "4/4 [==============================] - 0s 17ms/step - loss: 0.4527 - accuracy: 0.9000 - val_loss: 0.5250 - val_accuracy: 0.8667\n",
            "Epoch 115/150\n",
            "4/4 [==============================] - 0s 17ms/step - loss: 0.4496 - accuracy: 0.9083 - val_loss: 0.5213 - val_accuracy: 0.9000\n",
            "Epoch 116/150\n",
            "4/4 [==============================] - 0s 21ms/step - loss: 0.4468 - accuracy: 0.9417 - val_loss: 0.5176 - val_accuracy: 0.9000\n",
            "Epoch 117/150\n",
            "4/4 [==============================] - 0s 18ms/step - loss: 0.4443 - accuracy: 0.9500 - val_loss: 0.5138 - val_accuracy: 0.9333\n",
            "Epoch 118/150\n",
            "4/4 [==============================] - 0s 16ms/step - loss: 0.4412 - accuracy: 0.9500 - val_loss: 0.5109 - val_accuracy: 0.9333\n",
            "Epoch 119/150\n",
            "4/4 [==============================] - 0s 17ms/step - loss: 0.4385 - accuracy: 0.9500 - val_loss: 0.5079 - val_accuracy: 0.9333\n",
            "Epoch 120/150\n",
            "4/4 [==============================] - 0s 16ms/step - loss: 0.4360 - accuracy: 0.9500 - val_loss: 0.5053 - val_accuracy: 0.9333\n",
            "Epoch 121/150\n",
            "4/4 [==============================] - 0s 17ms/step - loss: 0.4331 - accuracy: 0.9500 - val_loss: 0.5024 - val_accuracy: 0.9333\n",
            "Epoch 122/150\n",
            "4/4 [==============================] - 0s 17ms/step - loss: 0.4303 - accuracy: 0.9500 - val_loss: 0.4995 - val_accuracy: 0.9333\n",
            "Epoch 123/150\n",
            "4/4 [==============================] - 0s 17ms/step - loss: 0.4279 - accuracy: 0.9583 - val_loss: 0.4962 - val_accuracy: 0.9333\n",
            "Epoch 124/150\n",
            "4/4 [==============================] - 0s 16ms/step - loss: 0.4255 - accuracy: 0.9500 - val_loss: 0.4940 - val_accuracy: 0.9333\n",
            "Epoch 125/150\n",
            "4/4 [==============================] - 0s 15ms/step - loss: 0.4226 - accuracy: 0.9500 - val_loss: 0.4909 - val_accuracy: 0.9333\n",
            "Epoch 126/150\n",
            "4/4 [==============================] - 0s 23ms/step - loss: 0.4199 - accuracy: 0.9500 - val_loss: 0.4879 - val_accuracy: 0.9333\n",
            "Epoch 127/150\n",
            "4/4 [==============================] - 0s 17ms/step - loss: 0.4177 - accuracy: 0.9583 - val_loss: 0.4840 - val_accuracy: 0.9333\n",
            "Epoch 128/150\n",
            "4/4 [==============================] - 0s 16ms/step - loss: 0.4147 - accuracy: 0.9667 - val_loss: 0.4811 - val_accuracy: 0.9333\n",
            "Epoch 129/150\n",
            "4/4 [==============================] - 0s 18ms/step - loss: 0.4124 - accuracy: 0.9667 - val_loss: 0.4780 - val_accuracy: 0.9333\n",
            "Epoch 130/150\n",
            "4/4 [==============================] - 0s 16ms/step - loss: 0.4096 - accuracy: 0.9667 - val_loss: 0.4751 - val_accuracy: 0.9333\n",
            "Epoch 131/150\n",
            "4/4 [==============================] - 0s 16ms/step - loss: 0.4072 - accuracy: 0.9667 - val_loss: 0.4725 - val_accuracy: 0.9333\n",
            "Epoch 132/150\n",
            "4/4 [==============================] - 0s 16ms/step - loss: 0.4046 - accuracy: 0.9667 - val_loss: 0.4696 - val_accuracy: 0.9333\n",
            "Epoch 133/150\n",
            "4/4 [==============================] - 0s 17ms/step - loss: 0.4024 - accuracy: 0.9667 - val_loss: 0.4663 - val_accuracy: 0.9333\n",
            "Epoch 134/150\n",
            "4/4 [==============================] - 0s 19ms/step - loss: 0.3997 - accuracy: 0.9667 - val_loss: 0.4632 - val_accuracy: 0.9333\n",
            "Epoch 135/150\n",
            "4/4 [==============================] - 0s 19ms/step - loss: 0.3971 - accuracy: 0.9667 - val_loss: 0.4605 - val_accuracy: 0.9333\n",
            "Epoch 136/150\n",
            "4/4 [==============================] - 0s 17ms/step - loss: 0.3949 - accuracy: 0.9750 - val_loss: 0.4574 - val_accuracy: 0.9333\n",
            "Epoch 137/150\n",
            "4/4 [==============================] - 0s 16ms/step - loss: 0.3921 - accuracy: 0.9750 - val_loss: 0.4549 - val_accuracy: 0.9333\n",
            "Epoch 138/150\n",
            "4/4 [==============================] - 0s 15ms/step - loss: 0.3897 - accuracy: 0.9750 - val_loss: 0.4522 - val_accuracy: 0.9333\n",
            "Epoch 139/150\n",
            "4/4 [==============================] - 0s 15ms/step - loss: 0.3873 - accuracy: 0.9667 - val_loss: 0.4496 - val_accuracy: 0.9333\n",
            "Epoch 140/150\n",
            "4/4 [==============================] - 0s 15ms/step - loss: 0.3849 - accuracy: 0.9750 - val_loss: 0.4466 - val_accuracy: 0.9333\n",
            "Epoch 141/150\n",
            "4/4 [==============================] - 0s 18ms/step - loss: 0.3824 - accuracy: 0.9750 - val_loss: 0.4444 - val_accuracy: 0.9333\n",
            "Epoch 142/150\n",
            "4/4 [==============================] - 0s 16ms/step - loss: 0.3799 - accuracy: 0.9667 - val_loss: 0.4416 - val_accuracy: 0.9333\n",
            "Epoch 143/150\n",
            "4/4 [==============================] - 0s 16ms/step - loss: 0.3775 - accuracy: 0.9667 - val_loss: 0.4390 - val_accuracy: 0.9333\n",
            "Epoch 144/150\n",
            "4/4 [==============================] - 0s 15ms/step - loss: 0.3753 - accuracy: 0.9750 - val_loss: 0.4358 - val_accuracy: 0.9333\n",
            "Epoch 145/150\n",
            "4/4 [==============================] - 0s 17ms/step - loss: 0.3727 - accuracy: 0.9750 - val_loss: 0.4332 - val_accuracy: 0.9333\n",
            "Epoch 146/150\n",
            "4/4 [==============================] - 0s 15ms/step - loss: 0.3701 - accuracy: 0.9750 - val_loss: 0.4304 - val_accuracy: 0.9333\n",
            "Epoch 147/150\n",
            "4/4 [==============================] - 0s 19ms/step - loss: 0.3679 - accuracy: 0.9750 - val_loss: 0.4273 - val_accuracy: 0.9333\n",
            "Epoch 148/150\n",
            "4/4 [==============================] - 0s 18ms/step - loss: 0.3654 - accuracy: 0.9750 - val_loss: 0.4248 - val_accuracy: 0.9333\n",
            "Epoch 149/150\n",
            "4/4 [==============================] - 0s 19ms/step - loss: 0.3629 - accuracy: 0.9750 - val_loss: 0.4221 - val_accuracy: 0.9333\n",
            "Epoch 150/150\n",
            "4/4 [==============================] - 0s 17ms/step - loss: 0.3607 - accuracy: 0.9750 - val_loss: 0.4199 - val_accuracy: 0.9333\n"
          ],
          "name": "stdout"
        }
      ]
    },
    {
      "cell_type": "code",
      "metadata": {
        "colab": {
          "base_uri": "https://localhost:8080/",
          "height": 282
        },
        "id": "mDYUADmQ6iz3",
        "outputId": "122f1aa9-c70a-47d7-f969-527a22e858c4"
      },
      "source": [
        "#Em cada linha eu consigo ver duas acurácias, uma de treino e uma de teste\n",
        "#Para visualizar a evolução, irei fazer dois gráficos, para isso vou utilizar uma biblioteca do python chamada 'matplotlib'\n",
        "#A linha azul mostra a evolução do treino e a laranja a do teste em cada uma das iterações\n",
        "import matplotlib.pyplot as plt\n",
        "plt.plot(r.history['loss'], label = 'loss')\n",
        "plt.plot(r.history['val_loss'], label = 'val_loss')\n",
        "plt.legend()"
      ],
      "execution_count": null,
      "outputs": [
        {
          "output_type": "execute_result",
          "data": {
            "text/plain": [
              "<matplotlib.legend.Legend at 0x7fa5be6c6710>"
            ]
          },
          "metadata": {
            "tags": []
          },
          "execution_count": 52
        },
        {
          "output_type": "display_data",
          "data": {
            "image/png": "[encoded data removed]",
            "text/plain": [
              "<Figure size 432x288 with 1 Axes>"
            ]
          },
          "metadata": {
            "tags": [],
            "needs_background": "light"
          }
        }
      ]
    },
    {
      "cell_type": "code",
      "metadata": {
        "colab": {
          "base_uri": "https://localhost:8080/",
          "height": 283
        },
        "id": "OqveHxxr-N1m",
        "outputId": "639be61d-314b-41e1-99e0-52514b9994cd"
      },
      "source": [
        "#No segundo gráfico eu posso visualizar a evolução da acurácia nos testes e nas provas\n",
        "plt.plot(r.history['accuracy'], label = 'accuracy')\n",
        "plt.plot(r.history['val_accuracy'], label = 'val_accuracy')\n",
        "plt.legend()"
      ],
      "execution_count": null,
      "outputs": [
        {
          "output_type": "execute_result",
          "data": {
            "text/plain": [
              "<matplotlib.legend.Legend at 0x7fa5be44cad0>"
            ]
          },
          "metadata": {
            "tags": []
          },
          "execution_count": 53
        },
        {
          "output_type": "display_data",
          "data": {
            "image/png": "[encoded data removed]",
            "text/plain": [
              "<Figure size 432x288 with 1 Axes>"
            ]
          },
          "metadata": {
            "tags": [],
            "needs_background": "light"
          }
        }
      ]
    },
    {
      "cell_type": "code",
      "metadata": {
        "colab": {
          "base_uri": "https://localhost:8080/"
        },
        "id": "_kZmEnYl_Ehe",
        "outputId": "e72a2278-097e-4dba-f36e-e72a43bfe6ba"
      },
      "source": [
        "#Imagina como se eu tivesse medido uma flor e colocado as medidas dela aqui\n",
        "import numpy as np\n",
        "rede.predict(np.array([[5.4,2.5,3.7,1.0]]))"
      ],
      "execution_count": null,
      "outputs": [
        {
          "output_type": "execute_result",
          "data": {
            "text/plain": [
              "array([[0.16427338, 0.5974211 , 0.23830552]], dtype=float32)"
            ]
          },
          "metadata": {
            "tags": []
          },
          "execution_count": 54
        }
      ]
    }
  ]
}