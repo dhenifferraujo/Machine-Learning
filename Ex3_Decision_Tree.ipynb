{
  "nbformat": 4,
  "nbformat_minor": 0,
  "metadata": {
    "colab": {
      "name": "Ex3_Decision_Tree.ipynb",
      "provenance": [],
      "collapsed_sections": [],
      "include_colab_link": true
    },
    "kernelspec": {
      "name": "python3",
      "display_name": "Python 3"
    }
  },
  "cells": [
    {
      "cell_type": "markdown",
      "metadata": {
        "id": "view-in-github",
        "colab_type": "text"
      },
      "source": [
        "<a href=\"https://colab.research.google.com/github/dhenifferraujo/Machine-Learning/blob/main/Ex3_Decision_Tree.ipynb\" target=\"_parent\"><img src=\"https://colab.research.google.com/assets/colab-badge.svg\" alt=\"Open In Colab\"/></a>"
      ]
    },
    {
      "cell_type": "markdown",
      "metadata": {
        "id": "mGKHv1rCvyRJ"
      },
      "source": [
        "# SCC-ICMC-USP - 1o. semestre de 2021\n",
        "# SCC5871/MAI5025 - APRENDIZADO DE MÁQUINA\n",
        "# **Exercício 3**\n",
        "\n",
        "### Profa. Roseli A. F. Romero\n",
        "\n",
        "### PAE: Guilherme V. Nardari\n"
      ]
    },
    {
      "cell_type": "markdown",
      "metadata": {
        "id": "XKFZ3Rve03zm"
      },
      "source": [
        "# Parte 1\n",
        "\n",
        "O dataset [\"Breast Cancer Wisconsin\"](https://archive.ics.uci.edu/ml/datasets/Breast+Cancer+Wisconsin+(Diagnostic) é um dataset que contém 699 instâncias, cada uma com 10 atributos númericos e 1 atributo correspondente a classe. A idéia do dataset é conseguir classificar um tumor como benigno ou maligno a partir de 10 variáveis descritivas. Foi adicionado um cabeçalho no arquivo original para facilitar seu manuseio. Valores ausentes são representados pelo caractere '?'\n",
        "\n",
        "---\n"
      ]
    },
    {
      "cell_type": "markdown",
      "metadata": {
        "id": "TIb5UmDK1bj6"
      },
      "source": [
        "### Questão 01.\n",
        "Carregue o dataset a partir do arquivo fornecido. Depois conte quantos valores ausentes existem para cada atributo."
      ]
    },
    {
      "cell_type": "code",
      "metadata": {
        "id": "mq0OlGIj2ner"
      },
      "source": [
        "#Libs\n",
        "import pandas as pd\n",
        "import numpy as np\n",
        "from math import sqrt\n",
        "from sklearn.model_selection import train_test_split\n",
        "from tensorflow import keras\n",
        "from sklearn.tree import DecisionTreeClassifier\n",
        "from sklearn.model_selection import cross_validate\n",
        "from sklearn.model_selection import cross_val_score\n",
        "from sklearn import tree\n",
        "from sklearn.metrics import mean_squared_error\n",
        "from sklearn.tree import DecisionTreeRegressor"
      ],
      "execution_count": null,
      "outputs": []
    },
    {
      "cell_type": "code",
      "metadata": {
        "id": "ehzRdhTAH5TG"
      },
      "source": [
        "\n",
        "dataset_data_path = keras.utils.get_file(\"breast-cancer-wisconsin.data\", \"https://archive.ics.uci.edu/ml/machine-learning-databases/breast-cancer-wisconsin/breast-cancer-wisconsin.data\")"
      ],
      "execution_count": null,
      "outputs": []
    },
    {
      "cell_type": "code",
      "metadata": {
        "colab": {
          "base_uri": "https://localhost:8080/",
          "height": 470
        },
        "id": "3V5pBSULKK95",
        "outputId": "29c311c6-45e4-43bf-8c33-2e1bbed23fcf"
      },
      "source": [
        "#Carregando o dataset com id sendo no index\n",
        "\n",
        "column_names = ['id','clump_thickness','u_cell_size','u_cell_shape',\n",
        "                'marg_adhesion','epi_cell_size','bare_nuclei',\n",
        "                'bland_chrom','norm_nucl','mitoses','class']\n",
        "raw_dataset = pd.read_csv(dataset_data_path, index_col=0, names=column_names,\n",
        "                      na_values = \"?\", comment='#', encoding='UTF-8',\n",
        "                      sep=\",\", skipinitialspace=True)\n",
        "#print(raw_dataset.head(5))\n",
        "dataset_bcw = raw_dataset.copy()\n",
        "dataset_bcw"
      ],
      "execution_count": null,
      "outputs": [
        {
          "output_type": "execute_result",
          "data": {
            "text/html": [
              "<div>\n",
              "<style scoped>\n",
              "    .dataframe tbody tr th:only-of-type {\n",
              "        vertical-align: middle;\n",
              "    }\n",
              "\n",
              "    .dataframe tbody tr th {\n",
              "        vertical-align: top;\n",
              "    }\n",
              "\n",
              "    .dataframe thead th {\n",
              "        text-align: right;\n",
              "    }\n",
              "</style>\n",
              "<table border=\"1\" class=\"dataframe\">\n",
              "  <thead>\n",
              "    <tr style=\"text-align: right;\">\n",
              "      <th></th>\n",
              "      <th>clump_thickness</th>\n",
              "      <th>u_cell_size</th>\n",
              "      <th>u_cell_shape</th>\n",
              "      <th>marg_adhesion</th>\n",
              "      <th>epi_cell_size</th>\n",
              "      <th>bare_nuclei</th>\n",
              "      <th>bland_chrom</th>\n",
              "      <th>norm_nucl</th>\n",
              "      <th>mitoses</th>\n",
              "      <th>class</th>\n",
              "    </tr>\n",
              "    <tr>\n",
              "      <th>id</th>\n",
              "      <th></th>\n",
              "      <th></th>\n",
              "      <th></th>\n",
              "      <th></th>\n",
              "      <th></th>\n",
              "      <th></th>\n",
              "      <th></th>\n",
              "      <th></th>\n",
              "      <th></th>\n",
              "      <th></th>\n",
              "    </tr>\n",
              "  </thead>\n",
              "  <tbody>\n",
              "    <tr>\n",
              "      <th>1000025</th>\n",
              "      <td>5</td>\n",
              "      <td>1</td>\n",
              "      <td>1</td>\n",
              "      <td>1</td>\n",
              "      <td>2</td>\n",
              "      <td>1.0</td>\n",
              "      <td>3</td>\n",
              "      <td>1</td>\n",
              "      <td>1</td>\n",
              "      <td>2</td>\n",
              "    </tr>\n",
              "    <tr>\n",
              "      <th>1002945</th>\n",
              "      <td>5</td>\n",
              "      <td>4</td>\n",
              "      <td>4</td>\n",
              "      <td>5</td>\n",
              "      <td>7</td>\n",
              "      <td>10.0</td>\n",
              "      <td>3</td>\n",
              "      <td>2</td>\n",
              "      <td>1</td>\n",
              "      <td>2</td>\n",
              "    </tr>\n",
              "    <tr>\n",
              "      <th>1015425</th>\n",
              "      <td>3</td>\n",
              "      <td>1</td>\n",
              "      <td>1</td>\n",
              "      <td>1</td>\n",
              "      <td>2</td>\n",
              "      <td>2.0</td>\n",
              "      <td>3</td>\n",
              "      <td>1</td>\n",
              "      <td>1</td>\n",
              "      <td>2</td>\n",
              "    </tr>\n",
              "    <tr>\n",
              "      <th>1016277</th>\n",
              "      <td>6</td>\n",
              "      <td>8</td>\n",
              "      <td>8</td>\n",
              "      <td>1</td>\n",
              "      <td>3</td>\n",
              "      <td>4.0</td>\n",
              "      <td>3</td>\n",
              "      <td>7</td>\n",
              "      <td>1</td>\n",
              "      <td>2</td>\n",
              "    </tr>\n",
              "    <tr>\n",
              "      <th>1017023</th>\n",
              "      <td>4</td>\n",
              "      <td>1</td>\n",
              "      <td>1</td>\n",
              "      <td>3</td>\n",
              "      <td>2</td>\n",
              "      <td>1.0</td>\n",
              "      <td>3</td>\n",
              "      <td>1</td>\n",
              "      <td>1</td>\n",
              "      <td>2</td>\n",
              "    </tr>\n",
              "    <tr>\n",
              "      <th>...</th>\n",
              "      <td>...</td>\n",
              "      <td>...</td>\n",
              "      <td>...</td>\n",
              "      <td>...</td>\n",
              "      <td>...</td>\n",
              "      <td>...</td>\n",
              "      <td>...</td>\n",
              "      <td>...</td>\n",
              "      <td>...</td>\n",
              "      <td>...</td>\n",
              "    </tr>\n",
              "    <tr>\n",
              "      <th>776715</th>\n",
              "      <td>3</td>\n",
              "      <td>1</td>\n",
              "      <td>1</td>\n",
              "      <td>1</td>\n",
              "      <td>3</td>\n",
              "      <td>2.0</td>\n",
              "      <td>1</td>\n",
              "      <td>1</td>\n",
              "      <td>1</td>\n",
              "      <td>2</td>\n",
              "    </tr>\n",
              "    <tr>\n",
              "      <th>841769</th>\n",
              "      <td>2</td>\n",
              "      <td>1</td>\n",
              "      <td>1</td>\n",
              "      <td>1</td>\n",
              "      <td>2</td>\n",
              "      <td>1.0</td>\n",
              "      <td>1</td>\n",
              "      <td>1</td>\n",
              "      <td>1</td>\n",
              "      <td>2</td>\n",
              "    </tr>\n",
              "    <tr>\n",
              "      <th>888820</th>\n",
              "      <td>5</td>\n",
              "      <td>10</td>\n",
              "      <td>10</td>\n",
              "      <td>3</td>\n",
              "      <td>7</td>\n",
              "      <td>3.0</td>\n",
              "      <td>8</td>\n",
              "      <td>10</td>\n",
              "      <td>2</td>\n",
              "      <td>4</td>\n",
              "    </tr>\n",
              "    <tr>\n",
              "      <th>897471</th>\n",
              "      <td>4</td>\n",
              "      <td>8</td>\n",
              "      <td>6</td>\n",
              "      <td>4</td>\n",
              "      <td>3</td>\n",
              "      <td>4.0</td>\n",
              "      <td>10</td>\n",
              "      <td>6</td>\n",
              "      <td>1</td>\n",
              "      <td>4</td>\n",
              "    </tr>\n",
              "    <tr>\n",
              "      <th>897471</th>\n",
              "      <td>4</td>\n",
              "      <td>8</td>\n",
              "      <td>8</td>\n",
              "      <td>5</td>\n",
              "      <td>4</td>\n",
              "      <td>5.0</td>\n",
              "      <td>10</td>\n",
              "      <td>4</td>\n",
              "      <td>1</td>\n",
              "      <td>4</td>\n",
              "    </tr>\n",
              "  </tbody>\n",
              "</table>\n",
              "<p>699 rows × 10 columns</p>\n",
              "</div>"
            ],
            "text/plain": [
              "         clump_thickness  u_cell_size  u_cell_shape  ...  norm_nucl  mitoses  class\n",
              "id                                                   ...                           \n",
              "1000025                5            1             1  ...          1        1      2\n",
              "1002945                5            4             4  ...          2        1      2\n",
              "1015425                3            1             1  ...          1        1      2\n",
              "1016277                6            8             8  ...          7        1      2\n",
              "1017023                4            1             1  ...          1        1      2\n",
              "...                  ...          ...           ...  ...        ...      ...    ...\n",
              "776715                 3            1             1  ...          1        1      2\n",
              "841769                 2            1             1  ...          1        1      2\n",
              "888820                 5           10            10  ...         10        2      4\n",
              "897471                 4            8             6  ...          6        1      4\n",
              "897471                 4            8             8  ...          4        1      4\n",
              "\n",
              "[699 rows x 10 columns]"
            ]
          },
          "metadata": {
            "tags": []
          },
          "execution_count": 73
        }
      ]
    },
    {
      "cell_type": "code",
      "metadata": {
        "colab": {
          "base_uri": "https://localhost:8080/",
          "height": 255
        },
        "id": "nBoiL532MVi5",
        "outputId": "dc96c0d8-a9cc-465f-daad-7a3a83bcf5e1"
      },
      "source": [
        "dataset_bcw.head()"
      ],
      "execution_count": null,
      "outputs": [
        {
          "output_type": "execute_result",
          "data": {
            "text/html": [
              "<div>\n",
              "<style scoped>\n",
              "    .dataframe tbody tr th:only-of-type {\n",
              "        vertical-align: middle;\n",
              "    }\n",
              "\n",
              "    .dataframe tbody tr th {\n",
              "        vertical-align: top;\n",
              "    }\n",
              "\n",
              "    .dataframe thead th {\n",
              "        text-align: right;\n",
              "    }\n",
              "</style>\n",
              "<table border=\"1\" class=\"dataframe\">\n",
              "  <thead>\n",
              "    <tr style=\"text-align: right;\">\n",
              "      <th></th>\n",
              "      <th>clump_thickness</th>\n",
              "      <th>u_cell_size</th>\n",
              "      <th>u_cell_shape</th>\n",
              "      <th>marg_adhesion</th>\n",
              "      <th>epi_cell_size</th>\n",
              "      <th>bare_nuclei</th>\n",
              "      <th>bland_chrom</th>\n",
              "      <th>norm_nucl</th>\n",
              "      <th>mitoses</th>\n",
              "      <th>class</th>\n",
              "    </tr>\n",
              "    <tr>\n",
              "      <th>id</th>\n",
              "      <th></th>\n",
              "      <th></th>\n",
              "      <th></th>\n",
              "      <th></th>\n",
              "      <th></th>\n",
              "      <th></th>\n",
              "      <th></th>\n",
              "      <th></th>\n",
              "      <th></th>\n",
              "      <th></th>\n",
              "    </tr>\n",
              "  </thead>\n",
              "  <tbody>\n",
              "    <tr>\n",
              "      <th>1000025</th>\n",
              "      <td>5</td>\n",
              "      <td>1</td>\n",
              "      <td>1</td>\n",
              "      <td>1</td>\n",
              "      <td>2</td>\n",
              "      <td>1.0</td>\n",
              "      <td>3</td>\n",
              "      <td>1</td>\n",
              "      <td>1</td>\n",
              "      <td>2</td>\n",
              "    </tr>\n",
              "    <tr>\n",
              "      <th>1002945</th>\n",
              "      <td>5</td>\n",
              "      <td>4</td>\n",
              "      <td>4</td>\n",
              "      <td>5</td>\n",
              "      <td>7</td>\n",
              "      <td>10.0</td>\n",
              "      <td>3</td>\n",
              "      <td>2</td>\n",
              "      <td>1</td>\n",
              "      <td>2</td>\n",
              "    </tr>\n",
              "    <tr>\n",
              "      <th>1015425</th>\n",
              "      <td>3</td>\n",
              "      <td>1</td>\n",
              "      <td>1</td>\n",
              "      <td>1</td>\n",
              "      <td>2</td>\n",
              "      <td>2.0</td>\n",
              "      <td>3</td>\n",
              "      <td>1</td>\n",
              "      <td>1</td>\n",
              "      <td>2</td>\n",
              "    </tr>\n",
              "    <tr>\n",
              "      <th>1016277</th>\n",
              "      <td>6</td>\n",
              "      <td>8</td>\n",
              "      <td>8</td>\n",
              "      <td>1</td>\n",
              "      <td>3</td>\n",
              "      <td>4.0</td>\n",
              "      <td>3</td>\n",
              "      <td>7</td>\n",
              "      <td>1</td>\n",
              "      <td>2</td>\n",
              "    </tr>\n",
              "    <tr>\n",
              "      <th>1017023</th>\n",
              "      <td>4</td>\n",
              "      <td>1</td>\n",
              "      <td>1</td>\n",
              "      <td>3</td>\n",
              "      <td>2</td>\n",
              "      <td>1.0</td>\n",
              "      <td>3</td>\n",
              "      <td>1</td>\n",
              "      <td>1</td>\n",
              "      <td>2</td>\n",
              "    </tr>\n",
              "  </tbody>\n",
              "</table>\n",
              "</div>"
            ],
            "text/plain": [
              "         clump_thickness  u_cell_size  u_cell_shape  ...  norm_nucl  mitoses  class\n",
              "id                                                   ...                           \n",
              "1000025                5            1             1  ...          1        1      2\n",
              "1002945                5            4             4  ...          2        1      2\n",
              "1015425                3            1             1  ...          1        1      2\n",
              "1016277                6            8             8  ...          7        1      2\n",
              "1017023                4            1             1  ...          1        1      2\n",
              "\n",
              "[5 rows x 10 columns]"
            ]
          },
          "metadata": {
            "tags": []
          },
          "execution_count": 74
        }
      ]
    },
    {
      "cell_type": "code",
      "metadata": {
        "colab": {
          "base_uri": "https://localhost:8080/"
        },
        "id": "U_ybjGQQMcjF",
        "outputId": "95b11caf-0058-4ac6-a28e-274fd65ab0e8"
      },
      "source": [
        "dataset_bcw.dtypes"
      ],
      "execution_count": null,
      "outputs": [
        {
          "output_type": "execute_result",
          "data": {
            "text/plain": [
              "clump_thickness      int64\n",
              "u_cell_size          int64\n",
              "u_cell_shape         int64\n",
              "marg_adhesion        int64\n",
              "epi_cell_size        int64\n",
              "bare_nuclei        float64\n",
              "bland_chrom          int64\n",
              "norm_nucl            int64\n",
              "mitoses              int64\n",
              "class                int64\n",
              "dtype: object"
            ]
          },
          "metadata": {
            "tags": []
          },
          "execution_count": 75
        }
      ]
    },
    {
      "cell_type": "code",
      "metadata": {
        "colab": {
          "base_uri": "https://localhost:8080/"
        },
        "id": "tiF9lXSsbtyd",
        "outputId": "f113470e-4fd2-4e9b-fd02-b884fedf2685"
      },
      "source": [
        "dataset_bcw.keys()"
      ],
      "execution_count": null,
      "outputs": [
        {
          "output_type": "execute_result",
          "data": {
            "text/plain": [
              "Index(['clump_thickness', 'u_cell_size', 'u_cell_shape', 'marg_adhesion',\n",
              "       'epi_cell_size', 'bare_nuclei', 'bland_chrom', 'norm_nucl', 'mitoses',\n",
              "       'class'],\n",
              "      dtype='object')"
            ]
          },
          "metadata": {
            "tags": []
          },
          "execution_count": 76
        }
      ]
    },
    {
      "cell_type": "code",
      "metadata": {
        "colab": {
          "base_uri": "https://localhost:8080/"
        },
        "id": "quxi43zGOS_2",
        "outputId": "0f4e7d09-cb73-4fd3-8b2b-6ae5a20f7680"
      },
      "source": [
        "#Detectando os valores ausentes\n",
        "dataset_bcw.info()"
      ],
      "execution_count": null,
      "outputs": [
        {
          "output_type": "stream",
          "text": [
            "<class 'pandas.core.frame.DataFrame'>\n",
            "Int64Index: 699 entries, 1000025 to 897471\n",
            "Data columns (total 10 columns):\n",
            " #   Column           Non-Null Count  Dtype  \n",
            "---  ------           --------------  -----  \n",
            " 0   clump_thickness  699 non-null    int64  \n",
            " 1   u_cell_size      699 non-null    int64  \n",
            " 2   u_cell_shape     699 non-null    int64  \n",
            " 3   marg_adhesion    699 non-null    int64  \n",
            " 4   epi_cell_size    699 non-null    int64  \n",
            " 5   bare_nuclei      683 non-null    float64\n",
            " 6   bland_chrom      699 non-null    int64  \n",
            " 7   norm_nucl        699 non-null    int64  \n",
            " 8   mitoses          699 non-null    int64  \n",
            " 9   class            699 non-null    int64  \n",
            "dtypes: float64(1), int64(9)\n",
            "memory usage: 60.1 KB\n"
          ],
          "name": "stdout"
        }
      ]
    },
    {
      "cell_type": "code",
      "metadata": {
        "colab": {
          "base_uri": "https://localhost:8080/"
        },
        "id": "VXpWOzvTPFmg",
        "outputId": "d0e4aa3c-fc3c-45bd-cf0d-b57136688a1c"
      },
      "source": [
        "#Aqui estamos retornando o número de valores ausentes para cada coluna\n",
        "dataset_bcw.isnull().sum()"
      ],
      "execution_count": null,
      "outputs": [
        {
          "output_type": "execute_result",
          "data": {
            "text/plain": [
              "clump_thickness     0\n",
              "u_cell_size         0\n",
              "u_cell_shape        0\n",
              "marg_adhesion       0\n",
              "epi_cell_size       0\n",
              "bare_nuclei        16\n",
              "bland_chrom         0\n",
              "norm_nucl           0\n",
              "mitoses             0\n",
              "class               0\n",
              "dtype: int64"
            ]
          },
          "metadata": {
            "tags": []
          },
          "execution_count": 78
        }
      ]
    },
    {
      "cell_type": "code",
      "metadata": {
        "colab": {
          "base_uri": "https://localhost:8080/"
        },
        "id": "C19w5ju1PZqD",
        "outputId": "cdefb69d-e8bd-4541-89f3-db8ed8ff6191"
      },
      "source": [
        "#Retornando o número total de valores ausentes\n",
        "dataset_bcw.isnull().sum().sum() "
      ],
      "execution_count": null,
      "outputs": [
        {
          "output_type": "execute_result",
          "data": {
            "text/plain": [
              "16"
            ]
          },
          "metadata": {
            "tags": []
          },
          "execution_count": 79
        }
      ]
    },
    {
      "cell_type": "code",
      "metadata": {
        "colab": {
          "base_uri": "https://localhost:8080/"
        },
        "id": "J4V6uqdZPxDE",
        "outputId": "0212eccb-91a5-4d6e-e3b0-d8c04baf56b5"
      },
      "source": [
        "#Porcentagem de valores ausentes\n",
        "\n",
        "dataset_bcw.isna().mean()"
      ],
      "execution_count": null,
      "outputs": [
        {
          "output_type": "execute_result",
          "data": {
            "text/plain": [
              "clump_thickness    0.00000\n",
              "u_cell_size        0.00000\n",
              "u_cell_shape       0.00000\n",
              "marg_adhesion      0.00000\n",
              "epi_cell_size      0.00000\n",
              "bare_nuclei        0.02289\n",
              "bland_chrom        0.00000\n",
              "norm_nucl          0.00000\n",
              "mitoses            0.00000\n",
              "class              0.00000\n",
              "dtype: float64"
            ]
          },
          "metadata": {
            "tags": []
          },
          "execution_count": 80
        }
      ]
    },
    {
      "cell_type": "markdown",
      "metadata": {
        "id": "eidrYpQ02oXE"
      },
      "source": [
        "---\n",
        "### Questão 02.\n",
        "Separe o conjunto em $80\\%$ treino e $20\\%$ teste."
      ]
    },
    {
      "cell_type": "code",
      "metadata": {
        "id": "ilOqSXexR8Bo"
      },
      "source": [
        "#separando o target de nosso dataset\n",
        "x = dataset_bcw.iloc[:,:-1]\n",
        "y = dataset_bcw.iloc[:,-1:]"
      ],
      "execution_count": null,
      "outputs": []
    },
    {
      "cell_type": "code",
      "metadata": {
        "id": "2WvZmlAs3cxw"
      },
      "source": [
        "x_train, x_test, y_train, y_test = train_test_split(x, y, train_size=0.8, random_state=0)"
      ],
      "execution_count": null,
      "outputs": []
    },
    {
      "cell_type": "markdown",
      "metadata": {
        "id": "FpfPsYvb1ahH"
      },
      "source": [
        "## Questão 03.\n",
        "\n",
        "Substitua os valores ausentes utilizando a estratégia de média. Utilize a média do conjunto de treinamento para substituir valores faltantes no teste. "
      ]
    },
    {
      "cell_type": "code",
      "metadata": {
        "id": "htz2GqUl1eQM",
        "colab": {
          "base_uri": "https://localhost:8080/"
        },
        "outputId": "5cad1c71-5746-4c0e-825f-823c4e57dd33"
      },
      "source": [
        "\n",
        "# #vamos extrair o valor medio do dataset\n",
        "\n",
        "mean_x_train = x_train['bare_nuclei'].mean()\n",
        "print(mean_x_train)\n",
        "\n",
        "x_train = x_train.replace(to_replace=np.NaN, value=mean_x_train, regex=True)\n",
        "x_test = x_test.replace(to_replace=np.NaN, value=mean_x_train, regex=True)\n"
      ],
      "execution_count": null,
      "outputs": [
        {
          "output_type": "stream",
          "text": [
            "3.4285714285714284\n"
          ],
          "name": "stdout"
        }
      ]
    },
    {
      "cell_type": "code",
      "metadata": {
        "colab": {
          "base_uri": "https://localhost:8080/"
        },
        "id": "Y5bplnc7u-s_",
        "outputId": "3c853c90-85c1-4bdb-e950-879c02b00eca"
      },
      "source": [
        "x_train.isnull().sum()"
      ],
      "execution_count": null,
      "outputs": [
        {
          "output_type": "execute_result",
          "data": {
            "text/plain": [
              "clump_thickness    0\n",
              "u_cell_size        0\n",
              "u_cell_shape       0\n",
              "marg_adhesion      0\n",
              "epi_cell_size      0\n",
              "bare_nuclei        0\n",
              "bland_chrom        0\n",
              "norm_nucl          0\n",
              "mitoses            0\n",
              "dtype: int64"
            ]
          },
          "metadata": {
            "tags": []
          },
          "execution_count": 84
        }
      ]
    },
    {
      "cell_type": "code",
      "metadata": {
        "colab": {
          "base_uri": "https://localhost:8080/"
        },
        "id": "r6EnBTbKULdE",
        "outputId": "8217a39a-d65a-4426-c6d8-f8ec91727b81"
      },
      "source": [
        "x_test.isnull().sum()"
      ],
      "execution_count": null,
      "outputs": [
        {
          "output_type": "execute_result",
          "data": {
            "text/plain": [
              "clump_thickness    0\n",
              "u_cell_size        0\n",
              "u_cell_shape       0\n",
              "marg_adhesion      0\n",
              "epi_cell_size      0\n",
              "bare_nuclei        0\n",
              "bland_chrom        0\n",
              "norm_nucl          0\n",
              "mitoses            0\n",
              "dtype: int64"
            ]
          },
          "metadata": {
            "tags": []
          },
          "execution_count": 85
        }
      ]
    },
    {
      "cell_type": "markdown",
      "metadata": {
        "id": "K_T2wx3Z3cU8"
      },
      "source": [
        "---\n",
        "### Questão 04.\n",
        "Treine um Classificador usando o método de Árvore de Decisão (`sklearn.tree.DecisionTreeClassifier`)  no conjunto de treino e extraia a acurácia, precisão e recall no conjunto de teste."
      ]
    },
    {
      "cell_type": "code",
      "metadata": {
        "id": "pkUFerwX4LMB",
        "colab": {
          "base_uri": "https://localhost:8080/"
        },
        "outputId": "5f7e786b-50d6-4cef-d750-c577f1ca8c6a"
      },
      "source": [
        "from sklearn import metrics\n",
        "\n",
        "model_tree = DecisionTreeClassifier(random_state=0)\n",
        "#cross_validate(model_tree, x_train, y_train, cv=10, scoring=('accuracy', 'f1_macro'))\n",
        "model_tree.fit(x_train, y_train)\n"
      ],
      "execution_count": null,
      "outputs": [
        {
          "output_type": "execute_result",
          "data": {
            "text/plain": [
              "DecisionTreeClassifier(ccp_alpha=0.0, class_weight=None, criterion='gini',\n",
              "                       max_depth=None, max_features=None, max_leaf_nodes=None,\n",
              "                       min_impurity_decrease=0.0, min_impurity_split=None,\n",
              "                       min_samples_leaf=1, min_samples_split=2,\n",
              "                       min_weight_fraction_leaf=0.0, presort='deprecated',\n",
              "                       random_state=0, splitter='best')"
            ]
          },
          "metadata": {
            "tags": []
          },
          "execution_count": 86
        }
      ]
    },
    {
      "cell_type": "code",
      "metadata": {
        "colab": {
          "base_uri": "https://localhost:8080/"
        },
        "id": "Wnqb1IoWsvEe",
        "outputId": "3f0783f7-1444-4f4b-b82e-afad4c695af9"
      },
      "source": [
        "result = model_tree.predict(x_test)\n",
        "\n",
        "print(metrics.classification_report(y_test,result))"
      ],
      "execution_count": null,
      "outputs": [
        {
          "output_type": "stream",
          "text": [
            "              precision    recall  f1-score   support\n",
            "\n",
            "           2       0.94      0.95      0.95        85\n",
            "           4       0.93      0.91      0.92        55\n",
            "\n",
            "    accuracy                           0.94       140\n",
            "   macro avg       0.93      0.93      0.93       140\n",
            "weighted avg       0.94      0.94      0.94       140\n",
            "\n"
          ],
          "name": "stdout"
        }
      ]
    },
    {
      "cell_type": "code",
      "metadata": {
        "colab": {
          "base_uri": "https://localhost:8080/"
        },
        "id": "i2ZwQ_g-g32A",
        "outputId": "2903bd7f-6490-4925-b9c5-37db1de0565a"
      },
      "source": [
        "y_test.shape\n",
        "x_test.shape"
      ],
      "execution_count": null,
      "outputs": [
        {
          "output_type": "execute_result",
          "data": {
            "text/plain": [
              "(140, 9)"
            ]
          },
          "metadata": {
            "tags": []
          },
          "execution_count": 88
        }
      ]
    },
    {
      "cell_type": "code",
      "metadata": {
        "colab": {
          "base_uri": "https://localhost:8080/"
        },
        "id": "LFyMHypahvZt",
        "outputId": "189db82e-bb0c-4984-aceb-abc701f1d786"
      },
      "source": [
        "model_tree.score(x_test, y_test)"
      ],
      "execution_count": null,
      "outputs": [
        {
          "output_type": "execute_result",
          "data": {
            "text/plain": [
              "0.9357142857142857"
            ]
          },
          "metadata": {
            "tags": []
          },
          "execution_count": 89
        }
      ]
    },
    {
      "cell_type": "markdown",
      "metadata": {
        "id": "GO7Nfd3IT23x"
      },
      "source": [
        "-----\n",
        "### Questão 05.\n",
        "\n",
        "Visualize a árvore de decisão resultante (`sklearn.tree.plot_tree`) do treinamento e diga quais são a feature mais informativa. Justifique. "
      ]
    },
    {
      "cell_type": "code",
      "metadata": {
        "id": "6zsRijruWCmQ",
        "colab": {
          "base_uri": "https://localhost:8080/",
          "height": 1000
        },
        "outputId": "aa8ed62d-0efe-42ba-8d9f-a2afbbfae529"
      },
      "source": [
        "from sklearn import tree\n",
        "from matplotlib import pyplot as plt\n",
        "\n",
        "plt.figure(figsize=(30,20))\n",
        "tree.plot_tree(model_tree, proportion=True, fontsize=10)\n",
        "#plt.show()"
      ],
      "execution_count": null,
      "outputs": [
        {
          "output_type": "execute_result",
          "data": {
            "text/plain": [
              "[Text(974.0948275862069, 1026.8, 'X[1] <= 3.5\\ngini = 0.444\\nsamples = 100.0%\\nvalue = [0.667, 0.333]'),\n",
              " Text(533.948275862069, 906.0, 'X[5] <= 5.5\\ngini = 0.137\\nsamples = 70.1%\\nvalue = [0.926, 0.074]'),\n",
              " Text(375.2068965517241, 785.2, 'X[7] <= 3.5\\ngini = 0.062\\nsamples = 66.7%\\nvalue = [0.968, 0.032]'),\n",
              " Text(230.89655172413794, 664.4, 'X[8] <= 2.5\\ngini = 0.022\\nsamples = 64.2%\\nvalue = [0.989, 0.011]'),\n",
              " Text(115.44827586206897, 543.6, 'X[5] <= 3.714\\ngini = 0.011\\nsamples = 63.5%\\nvalue = [0.994, 0.006]'),\n",
              " Text(57.724137931034484, 422.79999999999995, 'gini = 0.0\\nsamples = 61.2%\\nvalue = [1.0, 0.0]'),\n",
              " Text(173.17241379310346, 422.79999999999995, 'X[0] <= 5.5\\ngini = 0.26\\nsamples = 2.3%\\nvalue = [0.846, 0.154]'),\n",
              " Text(115.44827586206897, 302.0, 'gini = 0.0\\nsamples = 2.0%\\nvalue = [1.0, 0.0]'),\n",
              " Text(230.89655172413794, 302.0, 'gini = 0.0\\nsamples = 0.4%\\nvalue = [0.0, 1.0]'),\n",
              " Text(346.3448275862069, 543.6, 'X[0] <= 4.0\\ngini = 0.5\\nsamples = 0.7%\\nvalue = [0.5, 0.5]'),\n",
              " Text(288.62068965517244, 422.79999999999995, 'gini = 0.0\\nsamples = 0.4%\\nvalue = [1.0, 0.0]'),\n",
              " Text(404.0689655172414, 422.79999999999995, 'gini = 0.0\\nsamples = 0.4%\\nvalue = [0.0, 1.0]'),\n",
              " Text(519.5172413793103, 664.4, 'X[2] <= 2.5\\ngini = 0.49\\nsamples = 2.5%\\nvalue = [0.429, 0.571]'),\n",
              " Text(461.7931034482759, 543.6, 'gini = 0.0\\nsamples = 0.9%\\nvalue = [1.0, 0.0]'),\n",
              " Text(577.2413793103449, 543.6, 'X[5] <= 4.5\\ngini = 0.198\\nsamples = 1.6%\\nvalue = [0.111, 0.889]'),\n",
              " Text(519.5172413793103, 422.79999999999995, 'gini = 0.0\\nsamples = 0.9%\\nvalue = [0.0, 1.0]'),\n",
              " Text(634.9655172413793, 422.79999999999995, 'X[7] <= 8.5\\ngini = 0.375\\nsamples = 0.7%\\nvalue = [0.25, 0.75]'),\n",
              " Text(577.2413793103449, 302.0, 'X[3] <= 3.5\\ngini = 0.5\\nsamples = 0.4%\\nvalue = [0.5, 0.5]'),\n",
              " Text(519.5172413793103, 181.19999999999993, 'gini = 0.0\\nsamples = 0.2%\\nvalue = [1.0, 0.0]'),\n",
              " Text(634.9655172413793, 181.19999999999993, 'gini = 0.0\\nsamples = 0.2%\\nvalue = [0.0, 1.0]'),\n",
              " Text(692.6896551724138, 302.0, 'gini = 0.0\\nsamples = 0.4%\\nvalue = [0.0, 1.0]'),\n",
              " Text(692.6896551724138, 785.2, 'X[0] <= 2.0\\ngini = 0.188\\nsamples = 3.4%\\nvalue = [0.105, 0.895]'),\n",
              " Text(634.9655172413793, 664.4, 'gini = 0.0\\nsamples = 0.2%\\nvalue = [1.0, 0.0]'),\n",
              " Text(750.4137931034483, 664.4, 'X[8] <= 2.5\\ngini = 0.105\\nsamples = 3.2%\\nvalue = [0.056, 0.944]'),\n",
              " Text(692.6896551724138, 543.6, 'gini = 0.0\\nsamples = 2.3%\\nvalue = [0.0, 1.0]'),\n",
              " Text(808.1379310344828, 543.6, 'X[0] <= 6.5\\ngini = 0.32\\nsamples = 0.9%\\nvalue = [0.2, 0.8]'),\n",
              " Text(750.4137931034483, 422.79999999999995, 'gini = 0.0\\nsamples = 0.2%\\nvalue = [1.0, 0.0]'),\n",
              " Text(865.8620689655172, 422.79999999999995, 'gini = 0.0\\nsamples = 0.7%\\nvalue = [0.0, 1.0]'),\n",
              " Text(1414.2413793103449, 906.0, 'X[5] <= 8.5\\ngini = 0.113\\nsamples = 29.9%\\nvalue = [0.06, 0.94]'),\n",
              " Text(1356.5172413793105, 785.2, 'X[1] <= 4.5\\ngini = 0.236\\nsamples = 13.1%\\nvalue = [0.137, 0.863]'),\n",
              " Text(1154.4827586206898, 664.4, 'X[3] <= 6.0\\ngini = 0.469\\nsamples = 2.9%\\nvalue = [0.375, 0.625]'),\n",
              " Text(1096.7586206896551, 543.6, 'X[0] <= 6.0\\ngini = 0.497\\nsamples = 2.3%\\nvalue = [0.462, 0.538]'),\n",
              " Text(981.3103448275863, 422.79999999999995, 'X[7] <= 2.0\\ngini = 0.32\\nsamples = 0.9%\\nvalue = [0.8, 0.2]'),\n",
              " Text(923.5862068965517, 302.0, 'gini = 0.0\\nsamples = 0.2%\\nvalue = [0.0, 1.0]'),\n",
              " Text(1039.0344827586207, 302.0, 'gini = 0.0\\nsamples = 0.7%\\nvalue = [1.0, 0.0]'),\n",
              " Text(1212.2068965517242, 422.79999999999995, 'X[5] <= 6.0\\ngini = 0.375\\nsamples = 1.4%\\nvalue = [0.25, 0.75]'),\n",
              " Text(1154.4827586206898, 302.0, 'X[5] <= 1.5\\ngini = 0.245\\nsamples = 1.3%\\nvalue = [0.143, 0.857]'),\n",
              " Text(1096.7586206896551, 181.19999999999993, 'X[0] <= 7.5\\ngini = 0.5\\nsamples = 0.4%\\nvalue = [0.5, 0.5]'),\n",
              " Text(1039.0344827586207, 60.399999999999864, 'gini = 0.0\\nsamples = 0.2%\\nvalue = [0.0, 1.0]'),\n",
              " Text(1154.4827586206898, 60.399999999999864, 'gini = 0.0\\nsamples = 0.2%\\nvalue = [1.0, 0.0]'),\n",
              " Text(1212.2068965517242, 181.19999999999993, 'gini = 0.0\\nsamples = 0.9%\\nvalue = [0.0, 1.0]'),\n",
              " Text(1269.9310344827586, 302.0, 'gini = 0.0\\nsamples = 0.2%\\nvalue = [1.0, 0.0]'),\n",
              " Text(1212.2068965517242, 543.6, 'gini = 0.0\\nsamples = 0.5%\\nvalue = [0.0, 1.0]'),\n",
              " Text(1558.5517241379312, 664.4, 'X[6] <= 4.5\\ngini = 0.131\\nsamples = 10.2%\\nvalue = [0.07, 0.93]'),\n",
              " Text(1500.8275862068965, 543.6, 'X[0] <= 7.0\\ngini = 0.32\\nsamples = 3.6%\\nvalue = [0.2, 0.8]'),\n",
              " Text(1443.103448275862, 422.79999999999995, 'X[5] <= 3.214\\ngini = 0.49\\nsamples = 1.3%\\nvalue = [0.571, 0.429]'),\n",
              " Text(1385.3793103448277, 302.0, 'gini = 0.0\\nsamples = 0.4%\\nvalue = [0.0, 1.0]'),\n",
              " Text(1500.8275862068965, 302.0, 'X[1] <= 9.5\\ngini = 0.32\\nsamples = 0.9%\\nvalue = [0.8, 0.2]'),\n",
              " Text(1443.103448275862, 181.19999999999993, 'gini = 0.0\\nsamples = 0.7%\\nvalue = [1.0, 0.0]'),\n",
              " Text(1558.5517241379312, 181.19999999999993, 'gini = 0.0\\nsamples = 0.2%\\nvalue = [0.0, 1.0]'),\n",
              " Text(1558.5517241379312, 422.79999999999995, 'gini = 0.0\\nsamples = 2.3%\\nvalue = [0.0, 1.0]'),\n",
              " Text(1616.2758620689656, 543.6, 'gini = 0.0\\nsamples = 6.6%\\nvalue = [0.0, 1.0]'),\n",
              " Text(1471.9655172413793, 785.2, 'gini = 0.0\\nsamples = 16.8%\\nvalue = [0.0, 1.0]')]"
            ]
          },
          "metadata": {
            "tags": []
          },
          "execution_count": 90
        },
        {
          "output_type": "display_data",
          "data": {
            "image/png": "[encoded data removed]",
            "text/plain": [
              "<Figure size 2160x1440 with 1 Axes>"
            ]
          },
          "metadata": {
            "tags": [],
            "needs_background": "light"
          }
        }
      ]
    },
    {
      "cell_type": "code",
      "metadata": {
        "colab": {
          "base_uri": "https://localhost:8080/"
        },
        "id": "cZoRltb_ykro",
        "outputId": "75e51c07-07bf-45af-faef-52e7d9e5978f"
      },
      "source": [
        "#feature mais informativa\n",
        "#model_tree.feature_importances_\n",
        "\n",
        "for feature,importancia in zip(x.columns,model_tree.feature_importances_):\n",
        "    print(\"{}: {}\".format(feature, importancia))"
      ],
      "execution_count": null,
      "outputs": [
        {
          "output_type": "stream",
          "text": [
            "clump_thickness: 0.05844627447812742\n",
            "u_cell_size: 0.7236749770565839\n",
            "u_cell_shape: 0.020463007577078317\n",
            "marg_adhesion: 0.008212257487964484\n",
            "epi_cell_size: 0.0\n",
            "bare_nuclei: 0.1335244157388666\n",
            "bland_chrom: 0.004184146549313118\n",
            "norm_nucl: 0.04254209187270101\n",
            "mitoses: 0.008952829239365053\n"
          ],
          "name": "stdout"
        }
      ]
    },
    {
      "cell_type": "markdown",
      "metadata": {
        "id": "TKTYX69hpMFr"
      },
      "source": [
        "# Diga quais são a feature mais informativa. Justifique"
      ]
    },
    {
      "cell_type": "markdown",
      "metadata": {
        "id": "xSqnmGtvpOmW"
      },
      "source": [
        "A feature mais informativa é a u_cell_size: 0.7236749770565839 com 72% de relevância, pois, é nó raiz da árvore de decisão com o atributo que derivou a melhor divisão de conjunto de dados.\n",
        "\n"
      ]
    },
    {
      "cell_type": "markdown",
      "metadata": {
        "id": "5W60BKvfr2pq"
      },
      "source": [
        "-----\n",
        "# Parte 2\n",
        "\n",
        "Considere o arquivo `houses_to_rent_v2.csv`. Esta base tem dados de imóveis para 5 cidades do Brasil. Esta base pode ser usada tanto pelo proprietário quanto pelo locatário. Pretende-se que um proprietario\n",
        "tenha uma estimativa do preço que pode alugar seu imóvel, através de seus atributos. Por outro lado, pretende-se que um locatário possa estimar se o aluguel é condizente."
      ]
    },
    {
      "cell_type": "markdown",
      "metadata": {
        "id": "7D9C-F06urva"
      },
      "source": [
        "### Questão 1 \n",
        " \n",
        " - Separe o conjunto em treinamento (80%) e teste (20%).\n",
        " - Verifique se é necessário um preprocessamento nos dados. Justifique o(s) tipo (s) de preprocessamento que foram feitos.\n",
        " - Dica: O Sklearn não trabalha com atributos categoricos/nominais na árvore de decisão."
      ]
    },
    {
      "cell_type": "markdown",
      "metadata": {
        "id": "GqX0Y_vR0XgM"
      },
      "source": [
        ""
      ]
    },
    {
      "cell_type": "code",
      "metadata": {
        "id": "wT9Yj9lzsb8V",
        "colab": {
          "base_uri": "https://localhost:8080/"
        },
        "outputId": "76f094f5-f763-4555-e166-ab3814f6d550"
      },
      "source": [
        "from sklearn.metrics import mean_squared_error\n",
        "from sklearn.metrics import r2_score\n",
        "from sklearn.preprocessing import LabelEncoder\n",
        "import pandas as pd\n",
        "import numpy as np\n",
        "\n",
        "raw_dataset = pd.read_csv(dataset_data_path, index_col=0, names=column_names,\n",
        "                      na_values = \"?\", comment='#', encoding='UTF-8',\n",
        "                      sep=\",\", skipinitialspace=True)\n",
        "\n",
        "data = pd.read_csv('houses_to_rent_v2.csv', na_values='-')\n",
        "# Vamos ignorar algumas colunas para simplificar o problema\n",
        "data = data[['city', 'rooms', 'bathroom', 'parking spaces', 'furniture', 'fire insurance (R$)', 'rent amount (R$)']]\n",
        "data = data.reset_index(drop=True)\n",
        "print(data.shape[0])\n",
        "print(data.info())"
      ],
      "execution_count": null,
      "outputs": [
        {
          "output_type": "stream",
          "text": [
            "10692\n",
            "<class 'pandas.core.frame.DataFrame'>\n",
            "RangeIndex: 10692 entries, 0 to 10691\n",
            "Data columns (total 7 columns):\n",
            " #   Column               Non-Null Count  Dtype \n",
            "---  ------               --------------  ----- \n",
            " 0   city                 10692 non-null  object\n",
            " 1   rooms                10692 non-null  int64 \n",
            " 2   bathroom             10692 non-null  int64 \n",
            " 3   parking spaces       10692 non-null  int64 \n",
            " 4   furniture            10692 non-null  object\n",
            " 5   fire insurance (R$)  10692 non-null  int64 \n",
            " 6   rent amount (R$)     10692 non-null  int64 \n",
            "dtypes: int64(5), object(2)\n",
            "memory usage: 584.8+ KB\n",
            "None\n"
          ],
          "name": "stdout"
        }
      ]
    },
    {
      "cell_type": "code",
      "metadata": {
        "colab": {
          "base_uri": "https://localhost:8080/",
          "height": 204
        },
        "id": "rKttuM5BS6p-",
        "outputId": "dc62b0e0-e043-42c5-8c9b-d89d13ffc849"
      },
      "source": [
        "labels_city = set(data['city'])\n",
        "labels_furniture = set(data['furniture'].head())\n",
        "\n",
        "data.head()\n"
      ],
      "execution_count": null,
      "outputs": [
        {
          "output_type": "execute_result",
          "data": {
            "text/html": [
              "<div>\n",
              "<style scoped>\n",
              "    .dataframe tbody tr th:only-of-type {\n",
              "        vertical-align: middle;\n",
              "    }\n",
              "\n",
              "    .dataframe tbody tr th {\n",
              "        vertical-align: top;\n",
              "    }\n",
              "\n",
              "    .dataframe thead th {\n",
              "        text-align: right;\n",
              "    }\n",
              "</style>\n",
              "<table border=\"1\" class=\"dataframe\">\n",
              "  <thead>\n",
              "    <tr style=\"text-align: right;\">\n",
              "      <th></th>\n",
              "      <th>city</th>\n",
              "      <th>rooms</th>\n",
              "      <th>bathroom</th>\n",
              "      <th>parking spaces</th>\n",
              "      <th>furniture</th>\n",
              "      <th>fire insurance (R$)</th>\n",
              "      <th>rent amount (R$)</th>\n",
              "    </tr>\n",
              "  </thead>\n",
              "  <tbody>\n",
              "    <tr>\n",
              "      <th>0</th>\n",
              "      <td>São Paulo</td>\n",
              "      <td>2</td>\n",
              "      <td>1</td>\n",
              "      <td>1</td>\n",
              "      <td>furnished</td>\n",
              "      <td>42</td>\n",
              "      <td>3300</td>\n",
              "    </tr>\n",
              "    <tr>\n",
              "      <th>1</th>\n",
              "      <td>São Paulo</td>\n",
              "      <td>4</td>\n",
              "      <td>4</td>\n",
              "      <td>0</td>\n",
              "      <td>not furnished</td>\n",
              "      <td>63</td>\n",
              "      <td>4960</td>\n",
              "    </tr>\n",
              "    <tr>\n",
              "      <th>2</th>\n",
              "      <td>Porto Alegre</td>\n",
              "      <td>1</td>\n",
              "      <td>1</td>\n",
              "      <td>1</td>\n",
              "      <td>not furnished</td>\n",
              "      <td>41</td>\n",
              "      <td>2800</td>\n",
              "    </tr>\n",
              "    <tr>\n",
              "      <th>3</th>\n",
              "      <td>Porto Alegre</td>\n",
              "      <td>2</td>\n",
              "      <td>1</td>\n",
              "      <td>0</td>\n",
              "      <td>not furnished</td>\n",
              "      <td>17</td>\n",
              "      <td>1112</td>\n",
              "    </tr>\n",
              "    <tr>\n",
              "      <th>4</th>\n",
              "      <td>São Paulo</td>\n",
              "      <td>1</td>\n",
              "      <td>1</td>\n",
              "      <td>0</td>\n",
              "      <td>not furnished</td>\n",
              "      <td>11</td>\n",
              "      <td>800</td>\n",
              "    </tr>\n",
              "  </tbody>\n",
              "</table>\n",
              "</div>"
            ],
            "text/plain": [
              "           city  rooms  ...  fire insurance (R$)  rent amount (R$)\n",
              "0     São Paulo      2  ...                   42              3300\n",
              "1     São Paulo      4  ...                   63              4960\n",
              "2  Porto Alegre      1  ...                   41              2800\n",
              "3  Porto Alegre      2  ...                   17              1112\n",
              "4     São Paulo      1  ...                   11               800\n",
              "\n",
              "[5 rows x 7 columns]"
            ]
          },
          "metadata": {
            "tags": []
          },
          "execution_count": 93
        }
      ]
    },
    {
      "cell_type": "code",
      "metadata": {
        "id": "jHMOBNrDRnYC",
        "colab": {
          "base_uri": "https://localhost:8080/",
          "height": 204
        },
        "outputId": "c5e647e4-e239-479e-8cd7-ee2c53e1f7a3"
      },
      "source": [
        "# Seu código começa \n",
        "label_encoder1 = LabelEncoder()\n",
        "data['furniture'] = label_encoder1.fit_transform(data['furniture'])\n",
        "\n",
        "label_encoder2 = LabelEncoder()\n",
        "data['city'] = label_encoder2.fit_transform(data['city'])\n",
        "\n",
        "data.head()"
      ],
      "execution_count": null,
      "outputs": [
        {
          "output_type": "execute_result",
          "data": {
            "text/html": [
              "<div>\n",
              "<style scoped>\n",
              "    .dataframe tbody tr th:only-of-type {\n",
              "        vertical-align: middle;\n",
              "    }\n",
              "\n",
              "    .dataframe tbody tr th {\n",
              "        vertical-align: top;\n",
              "    }\n",
              "\n",
              "    .dataframe thead th {\n",
              "        text-align: right;\n",
              "    }\n",
              "</style>\n",
              "<table border=\"1\" class=\"dataframe\">\n",
              "  <thead>\n",
              "    <tr style=\"text-align: right;\">\n",
              "      <th></th>\n",
              "      <th>city</th>\n",
              "      <th>rooms</th>\n",
              "      <th>bathroom</th>\n",
              "      <th>parking spaces</th>\n",
              "      <th>furniture</th>\n",
              "      <th>fire insurance (R$)</th>\n",
              "      <th>rent amount (R$)</th>\n",
              "    </tr>\n",
              "  </thead>\n",
              "  <tbody>\n",
              "    <tr>\n",
              "      <th>0</th>\n",
              "      <td>4</td>\n",
              "      <td>2</td>\n",
              "      <td>1</td>\n",
              "      <td>1</td>\n",
              "      <td>0</td>\n",
              "      <td>42</td>\n",
              "      <td>3300</td>\n",
              "    </tr>\n",
              "    <tr>\n",
              "      <th>1</th>\n",
              "      <td>4</td>\n",
              "      <td>4</td>\n",
              "      <td>4</td>\n",
              "      <td>0</td>\n",
              "      <td>1</td>\n",
              "      <td>63</td>\n",
              "      <td>4960</td>\n",
              "    </tr>\n",
              "    <tr>\n",
              "      <th>2</th>\n",
              "      <td>2</td>\n",
              "      <td>1</td>\n",
              "      <td>1</td>\n",
              "      <td>1</td>\n",
              "      <td>1</td>\n",
              "      <td>41</td>\n",
              "      <td>2800</td>\n",
              "    </tr>\n",
              "    <tr>\n",
              "      <th>3</th>\n",
              "      <td>2</td>\n",
              "      <td>2</td>\n",
              "      <td>1</td>\n",
              "      <td>0</td>\n",
              "      <td>1</td>\n",
              "      <td>17</td>\n",
              "      <td>1112</td>\n",
              "    </tr>\n",
              "    <tr>\n",
              "      <th>4</th>\n",
              "      <td>4</td>\n",
              "      <td>1</td>\n",
              "      <td>1</td>\n",
              "      <td>0</td>\n",
              "      <td>1</td>\n",
              "      <td>11</td>\n",
              "      <td>800</td>\n",
              "    </tr>\n",
              "  </tbody>\n",
              "</table>\n",
              "</div>"
            ],
            "text/plain": [
              "   city  rooms  bathroom  ...  furniture  fire insurance (R$)  rent amount (R$)\n",
              "0     4      2         1  ...          0                   42              3300\n",
              "1     4      4         4  ...          1                   63              4960\n",
              "2     2      1         1  ...          1                   41              2800\n",
              "3     2      2         1  ...          1                   17              1112\n",
              "4     4      1         1  ...          1                   11               800\n",
              "\n",
              "[5 rows x 7 columns]"
            ]
          },
          "metadata": {
            "tags": []
          },
          "execution_count": 94
        }
      ]
    },
    {
      "cell_type": "code",
      "metadata": {
        "id": "aTbBQ8NWVkqy",
        "colab": {
          "base_uri": "https://localhost:8080/"
        },
        "outputId": "168e73a4-8993-4d33-fa5f-83d01317abcd"
      },
      "source": [
        "print(str(label_encoder1.classes_) + ' -> '  + str(set(data['furniture'].head())))\n",
        "print(str(label_encoder2.classes_) + ' -> '  + str(set(data['city'])))\n"
      ],
      "execution_count": null,
      "outputs": [
        {
          "output_type": "stream",
          "text": [
            "['furnished' 'not furnished'] -> {0, 1}\n",
            "['Belo Horizonte' 'Campinas' 'Porto Alegre' 'Rio de Janeiro' 'São Paulo'] -> {0, 1, 2, 3, 4}\n"
          ],
          "name": "stdout"
        }
      ]
    },
    {
      "cell_type": "code",
      "metadata": {
        "id": "l_HM6J5kZHmy"
      },
      "source": [
        "#separando o target de nosso dataset\n",
        "x = data.iloc[:,:-1]\n",
        "y = data.iloc[:,-1:]\n",
        "\n",
        "x_train, x_test, y_train, y_test = train_test_split(x, y, train_size=0.8, random_state=0)"
      ],
      "execution_count": null,
      "outputs": []
    },
    {
      "cell_type": "markdown",
      "metadata": {
        "id": "FTFk-GVUTOWu"
      },
      "source": [
        "### Questão 2\n",
        "\n",
        "Treine um modelo de regressão com o método de Árvore de Decisão (DT), no conjunto de treino e calcule o Mean Squared Error (MSE) e o R2 no conjunto de teste.\n",
        "\n",
        "- Dica: Utilize `sklearn.tree.DecisionTreeRegressor`"
      ]
    },
    {
      "cell_type": "code",
      "metadata": {
        "colab": {
          "base_uri": "https://localhost:8080/"
        },
        "id": "KVrAHcaTGcV1",
        "outputId": "853c2048-903f-4a0d-f89b-9fcac0bf3f1f"
      },
      "source": [
        "modeloDTR = tree.DecisionTreeRegressor(random_state=0)\n",
        "\n",
        "modeloDTR.fit(x_train, y_train)"
      ],
      "execution_count": null,
      "outputs": [
        {
          "output_type": "execute_result",
          "data": {
            "text/plain": [
              "DecisionTreeRegressor(ccp_alpha=0.0, criterion='mse', max_depth=None,\n",
              "                      max_features=None, max_leaf_nodes=None,\n",
              "                      min_impurity_decrease=0.0, min_impurity_split=None,\n",
              "                      min_samples_leaf=1, min_samples_split=2,\n",
              "                      min_weight_fraction_leaf=0.0, presort='deprecated',\n",
              "                      random_state=0, splitter='best')"
            ]
          },
          "metadata": {
            "tags": []
          },
          "execution_count": 97
        }
      ]
    },
    {
      "cell_type": "code",
      "metadata": {
        "id": "mdj5FrqrHN-i"
      },
      "source": [
        "\n",
        "y_regression = modeloDTR.predict(x_test)\n"
      ],
      "execution_count": null,
      "outputs": []
    },
    {
      "cell_type": "code",
      "metadata": {
        "colab": {
          "base_uri": "https://localhost:8080/"
        },
        "id": "VhSHkQt5MtSn",
        "outputId": "8fb2a316-6a3f-4960-b437-d06104a534cf"
      },
      "source": [
        "#A métrica usada para calcular o score é o R2\n",
        "r2_test = modeloDTR.score(x_test, y_test)\n",
        "print('R2 no set de teste: %.2f' % r2_test)"
      ],
      "execution_count": null,
      "outputs": [
        {
          "output_type": "stream",
          "text": [
            "R2 no set de teste: 0.97\n"
          ],
          "name": "stdout"
        }
      ]
    },
    {
      "cell_type": "code",
      "metadata": {
        "colab": {
          "base_uri": "https://localhost:8080/"
        },
        "id": "RcVFX4LGJv8d",
        "outputId": "0f98f603-d37a-463f-be99-2ac148139f29"
      },
      "source": [
        "#Calculando MSE\n",
        "mse = sqrt(mean_squared_error( y_test, y_regression))\n",
        "\n",
        "print(mse)"
      ],
      "execution_count": null,
      "outputs": [
        {
          "output_type": "stream",
          "text": [
            "568.2093323148532\n"
          ],
          "name": "stdout"
        }
      ]
    },
    {
      "cell_type": "markdown",
      "metadata": {
        "id": "JJ5PK5QYTR4B"
      },
      "source": [
        "### Questão 3\n",
        "\n",
        "Treine um modelo de regressão com o método Random Forest (RF), no conjunto de treino e calcule o Mean Squared Error (MSE) e o R2 no conjunto de teste.\n",
        "\n",
        "- Dica: Utilize `sklearn.ensemble.RandomForestRegressor`"
      ]
    },
    {
      "cell_type": "code",
      "metadata": {
        "id": "gGfDa5pfS9VY",
        "colab": {
          "base_uri": "https://localhost:8080/"
        },
        "outputId": "36b48923-f328-4959-bd72-1a859ff970ee"
      },
      "source": [
        "from sklearn.ensemble import RandomForestRegressor\n",
        "\n",
        "modelRF = RandomForestRegressor( random_state=0)\n",
        "\n",
        "modelRF.fit(x_train, y_train)\n",
        "\n",
        "#Calculando R2\n",
        "r2_test = modelRF.score(x_test, y_test)\n",
        "print('R2 no set de teste: %.2f' % r2_test)\n",
        "\n",
        "y_modelRFession = modelRF.predict(x_test)\n",
        "\n",
        "#Calculando MSE\n",
        "mse = sqrt(mean_squared_error( y_test, y_regression))\n",
        "\n",
        "print('MSE: %.2f' % mse)"
      ],
      "execution_count": null,
      "outputs": [
        {
          "output_type": "stream",
          "text": [
            "/usr/local/lib/python3.7/dist-packages/ipykernel_launcher.py:5: DataConversionWarning: A column-vector y was passed when a 1d array was expected. Please change the shape of y to (n_samples,), for example using ravel().\n",
            "  \"\"\"\n"
          ],
          "name": "stderr"
        },
        {
          "output_type": "stream",
          "text": [
            "R2 no set de teste: 0.98\n",
            "MSE: 568.21\n"
          ],
          "name": "stdout"
        }
      ]
    },
    {
      "cell_type": "code",
      "metadata": {
        "colab": {
          "base_uri": "https://localhost:8080/"
        },
        "id": "m27QfvsksfGj",
        "outputId": "0bcc3a76-0b98-44b8-db79-434b7461e5ed"
      },
      "source": [
        "print(str(label_encoder1.classes_) + ' -> '  + str(set(data['furniture'].head())))\n",
        "print(str(label_encoder2.classes_) + ' -> '  + str(set(data['city'])))"
      ],
      "execution_count": null,
      "outputs": [
        {
          "output_type": "stream",
          "text": [
            "['furnished' 'not furnished'] -> {0, 1}\n",
            "['Belo Horizonte' 'Campinas' 'Porto Alegre' 'Rio de Janeiro' 'São Paulo'] -> {0, 1, 2, 3, 4}\n"
          ],
          "name": "stdout"
        }
      ]
    },
    {
      "cell_type": "markdown",
      "metadata": {
        "id": "LXHOLsTOTKsn"
      },
      "source": [
        "### Questão 4\n",
        "\n",
        "Usando o melhor modelo, qual seria a estimativa do valor do aluguel para a cidade de Campinas de um apartamento com 2 dormitórios, 1 banheiro, 1 vaga de garagem, sem mobilia e com seguro de incêndio de 50 reais?"
      ]
    },
    {
      "cell_type": "code",
      "metadata": {
        "id": "5I3u9GH1TcPE",
        "colab": {
          "base_uri": "https://localhost:8080/"
        },
        "outputId": "98ec013f-0c2f-4639-8353-18d53bf2353e"
      },
      "source": [
        "# campinas, 2, 1, 1, not furnished, 50\n",
        "# 1, 2, 1, 1, 1, 50\n",
        "pred_test = np.array([[1, 2, 1, 1, 1, 50]])\n",
        "\n",
        "result = modelRF.predict(pred_test)\n",
        "result[0]"
      ],
      "execution_count": null,
      "outputs": [
        {
          "output_type": "execute_result",
          "data": {
            "text/plain": [
              "3469.1659999999997"
            ]
          },
          "metadata": {
            "tags": []
          },
          "execution_count": 103
        }
      ]
    },
    {
      "cell_type": "code",
      "metadata": {
        "colab": {
          "base_uri": "https://localhost:8080/",
          "height": 297
        },
        "id": "00XC_3wJ9Blk",
        "outputId": "17fe17e1-2e2b-4aad-eec6-57eee6b6097b"
      },
      "source": [
        "#data['city'] = label_encoder2.inverse_transform(data['city'])\n",
        "dataset_temp = data.loc[lambda data: data['city'] == 'Campinas']\n",
        "dataset_temp = dataset_temp.loc[lambda dataset_temp: dataset_temp['furniture'] == 1]\n",
        "dataset_temp = dataset_temp.loc[lambda dataset_temp: dataset_temp['rooms'] == 2]\n",
        "dataset_temp = dataset_temp.loc[lambda dataset_temp: dataset_temp['bathroom'] == 1]\n",
        "dataset_temp = dataset_temp.loc[lambda dataset_temp: dataset_temp['parking spaces'] == 1]\n",
        "#dataset_temp = dataset_temp.loc[lambda dataset_temp: dataset_temp['fire insurance (R$)'] > 40]\n",
        "dataset_temp.describe()\n",
        "#dataset_temp"
      ],
      "execution_count": null,
      "outputs": [
        {
          "output_type": "execute_result",
          "data": {
            "text/html": [
              "<div>\n",
              "<style scoped>\n",
              "    .dataframe tbody tr th:only-of-type {\n",
              "        vertical-align: middle;\n",
              "    }\n",
              "\n",
              "    .dataframe tbody tr th {\n",
              "        vertical-align: top;\n",
              "    }\n",
              "\n",
              "    .dataframe thead th {\n",
              "        text-align: right;\n",
              "    }\n",
              "</style>\n",
              "<table border=\"1\" class=\"dataframe\">\n",
              "  <thead>\n",
              "    <tr style=\"text-align: right;\">\n",
              "      <th></th>\n",
              "      <th>city</th>\n",
              "      <th>rooms</th>\n",
              "      <th>bathroom</th>\n",
              "      <th>parking spaces</th>\n",
              "      <th>furniture</th>\n",
              "      <th>fire insurance (R$)</th>\n",
              "      <th>rent amount (R$)</th>\n",
              "    </tr>\n",
              "  </thead>\n",
              "  <tbody>\n",
              "    <tr>\n",
              "      <th>count</th>\n",
              "      <td>0.0</td>\n",
              "      <td>0.0</td>\n",
              "      <td>0.0</td>\n",
              "      <td>0.0</td>\n",
              "      <td>0.0</td>\n",
              "      <td>0.0</td>\n",
              "      <td>0.0</td>\n",
              "    </tr>\n",
              "    <tr>\n",
              "      <th>mean</th>\n",
              "      <td>NaN</td>\n",
              "      <td>NaN</td>\n",
              "      <td>NaN</td>\n",
              "      <td>NaN</td>\n",
              "      <td>NaN</td>\n",
              "      <td>NaN</td>\n",
              "      <td>NaN</td>\n",
              "    </tr>\n",
              "    <tr>\n",
              "      <th>std</th>\n",
              "      <td>NaN</td>\n",
              "      <td>NaN</td>\n",
              "      <td>NaN</td>\n",
              "      <td>NaN</td>\n",
              "      <td>NaN</td>\n",
              "      <td>NaN</td>\n",
              "      <td>NaN</td>\n",
              "    </tr>\n",
              "    <tr>\n",
              "      <th>min</th>\n",
              "      <td>NaN</td>\n",
              "      <td>NaN</td>\n",
              "      <td>NaN</td>\n",
              "      <td>NaN</td>\n",
              "      <td>NaN</td>\n",
              "      <td>NaN</td>\n",
              "      <td>NaN</td>\n",
              "    </tr>\n",
              "    <tr>\n",
              "      <th>25%</th>\n",
              "      <td>NaN</td>\n",
              "      <td>NaN</td>\n",
              "      <td>NaN</td>\n",
              "      <td>NaN</td>\n",
              "      <td>NaN</td>\n",
              "      <td>NaN</td>\n",
              "      <td>NaN</td>\n",
              "    </tr>\n",
              "    <tr>\n",
              "      <th>50%</th>\n",
              "      <td>NaN</td>\n",
              "      <td>NaN</td>\n",
              "      <td>NaN</td>\n",
              "      <td>NaN</td>\n",
              "      <td>NaN</td>\n",
              "      <td>NaN</td>\n",
              "      <td>NaN</td>\n",
              "    </tr>\n",
              "    <tr>\n",
              "      <th>75%</th>\n",
              "      <td>NaN</td>\n",
              "      <td>NaN</td>\n",
              "      <td>NaN</td>\n",
              "      <td>NaN</td>\n",
              "      <td>NaN</td>\n",
              "      <td>NaN</td>\n",
              "      <td>NaN</td>\n",
              "    </tr>\n",
              "    <tr>\n",
              "      <th>max</th>\n",
              "      <td>NaN</td>\n",
              "      <td>NaN</td>\n",
              "      <td>NaN</td>\n",
              "      <td>NaN</td>\n",
              "      <td>NaN</td>\n",
              "      <td>NaN</td>\n",
              "      <td>NaN</td>\n",
              "    </tr>\n",
              "  </tbody>\n",
              "</table>\n",
              "</div>"
            ],
            "text/plain": [
              "       city  rooms  bathroom  ...  furniture  fire insurance (R$)  rent amount (R$)\n",
              "count   0.0    0.0       0.0  ...        0.0                  0.0               0.0\n",
              "mean    NaN    NaN       NaN  ...        NaN                  NaN               NaN\n",
              "std     NaN    NaN       NaN  ...        NaN                  NaN               NaN\n",
              "min     NaN    NaN       NaN  ...        NaN                  NaN               NaN\n",
              "25%     NaN    NaN       NaN  ...        NaN                  NaN               NaN\n",
              "50%     NaN    NaN       NaN  ...        NaN                  NaN               NaN\n",
              "75%     NaN    NaN       NaN  ...        NaN                  NaN               NaN\n",
              "max     NaN    NaN       NaN  ...        NaN                  NaN               NaN\n",
              "\n",
              "[8 rows x 7 columns]"
            ]
          },
          "metadata": {
            "tags": []
          },
          "execution_count": 104
        }
      ]
    },
    {
      "cell_type": "markdown",
      "metadata": {
        "id": "qiZqCQn8TZ5Q"
      },
      "source": [
        "### Questão 5\n",
        "\n",
        "Usando o melhor modelo, qual seria a estimativa do valor do aluguel para a cidade de Porto Alegre de um apartamento com 1 dormitório, 1 banheiro, com 1 vaga de garagem, sem mobilia e seguro de incêndio de 25 reais?\n",
        "\n"
      ]
    },
    {
      "cell_type": "code",
      "metadata": {
        "id": "tzQa5I1aTcoM",
        "colab": {
          "base_uri": "https://localhost:8080/"
        },
        "outputId": "389ae66f-7b74-4d8c-a085-dd6475cd5307"
      },
      "source": [
        "# Porto Alegre, 1, 1, 1, not furnished, 25\n",
        "# 2, 1, 1, 1, 1, 25\n",
        "pred_test = np.array([[2, 1, 1, 1, 1, 25]])\n",
        "\n",
        "result = modelRF.predict(pred_test)\n",
        "result[0]"
      ],
      "execution_count": null,
      "outputs": [
        {
          "output_type": "execute_result",
          "data": {
            "text/plain": [
              "1588.3785714285714"
            ]
          },
          "metadata": {
            "tags": []
          },
          "execution_count": 105
        }
      ]
    },
    {
      "cell_type": "code",
      "metadata": {
        "colab": {
          "base_uri": "https://localhost:8080/",
          "height": 425
        },
        "id": "oAzzmEbQj28F",
        "outputId": "068ba2c9-f85b-4a62-e038-f0bce06f72f7"
      },
      "source": [
        "import xgboost as xgb\n",
        "xgbr = xgb.XGBRegressor(verbosity=0)\n",
        "\n",
        "xgbr.fit(x_train, y_train)\n",
        "\n",
        "\n",
        "pred_test2 = np.array([[1, 2, 1, 1, 1, 25]])\n",
        "y_regression2 = xgbr.predict(pred_test2)\n",
        "\n",
        "mse = sqrt(mean_squared_error( y_test, y_regression2))\n",
        "\n",
        "print('MSE: '+mse)\n",
        "print('R2: '+str(xgbr.score(x_test, y_test)))"
      ],
      "execution_count": null,
      "outputs": [
        {
          "output_type": "error",
          "ename": "ValueError",
          "evalue": "ignored",
          "traceback": [
            "\u001b[0;31m---------------------------------------------------------------------------\u001b[0m",
            "\u001b[0;31mValueError\u001b[0m                                Traceback (most recent call last)",
            "\u001b[0;32m<ipython-input-112-b6b8e13e0d8d>\u001b[0m in \u001b[0;36m<module>\u001b[0;34m()\u001b[0m\n\u001b[1;32m      6\u001b[0m \u001b[0;34m\u001b[0m\u001b[0m\n\u001b[1;32m      7\u001b[0m \u001b[0mpred_test2\u001b[0m \u001b[0;34m=\u001b[0m \u001b[0mnp\u001b[0m\u001b[0;34m.\u001b[0m\u001b[0marray\u001b[0m\u001b[0;34m(\u001b[0m\u001b[0;34m[\u001b[0m\u001b[0;34m[\u001b[0m\u001b[0;36m1\u001b[0m\u001b[0;34m,\u001b[0m \u001b[0;36m2\u001b[0m\u001b[0;34m,\u001b[0m \u001b[0;36m1\u001b[0m\u001b[0;34m,\u001b[0m \u001b[0;36m1\u001b[0m\u001b[0;34m,\u001b[0m \u001b[0;36m1\u001b[0m\u001b[0;34m,\u001b[0m \u001b[0;36m25\u001b[0m\u001b[0;34m]\u001b[0m\u001b[0;34m]\u001b[0m\u001b[0;34m)\u001b[0m\u001b[0;34m\u001b[0m\u001b[0;34m\u001b[0m\u001b[0m\n\u001b[0;32m----> 8\u001b[0;31m \u001b[0my_regression2\u001b[0m \u001b[0;34m=\u001b[0m \u001b[0mxgbr\u001b[0m\u001b[0;34m.\u001b[0m\u001b[0mpredict\u001b[0m\u001b[0;34m(\u001b[0m\u001b[0mpred_test2\u001b[0m\u001b[0;34m)\u001b[0m\u001b[0;34m\u001b[0m\u001b[0;34m\u001b[0m\u001b[0m\n\u001b[0m\u001b[1;32m      9\u001b[0m \u001b[0;34m\u001b[0m\u001b[0m\n\u001b[1;32m     10\u001b[0m \u001b[0mmse\u001b[0m \u001b[0;34m=\u001b[0m \u001b[0msqrt\u001b[0m\u001b[0;34m(\u001b[0m\u001b[0mmean_squared_error\u001b[0m\u001b[0;34m(\u001b[0m \u001b[0my_test\u001b[0m\u001b[0;34m,\u001b[0m \u001b[0my_regression2\u001b[0m\u001b[0;34m)\u001b[0m\u001b[0;34m)\u001b[0m\u001b[0;34m\u001b[0m\u001b[0;34m\u001b[0m\u001b[0m\n",
            "\u001b[0;32m/usr/local/lib/python3.7/dist-packages/xgboost/sklearn.py\u001b[0m in \u001b[0;36mpredict\u001b[0;34m(self, data, output_margin, ntree_limit, validate_features)\u001b[0m\n\u001b[1;32m    454\u001b[0m                                           \u001b[0moutput_margin\u001b[0m\u001b[0;34m=\u001b[0m\u001b[0moutput_margin\u001b[0m\u001b[0;34m,\u001b[0m\u001b[0;34m\u001b[0m\u001b[0;34m\u001b[0m\u001b[0m\n\u001b[1;32m    455\u001b[0m                                           \u001b[0mntree_limit\u001b[0m\u001b[0;34m=\u001b[0m\u001b[0mntree_limit\u001b[0m\u001b[0;34m,\u001b[0m\u001b[0;34m\u001b[0m\u001b[0;34m\u001b[0m\u001b[0m\n\u001b[0;32m--> 456\u001b[0;31m                                           validate_features=validate_features)\n\u001b[0m\u001b[1;32m    457\u001b[0m \u001b[0;34m\u001b[0m\u001b[0m\n\u001b[1;32m    458\u001b[0m     \u001b[0;32mdef\u001b[0m \u001b[0mapply\u001b[0m\u001b[0;34m(\u001b[0m\u001b[0mself\u001b[0m\u001b[0;34m,\u001b[0m \u001b[0mX\u001b[0m\u001b[0;34m,\u001b[0m \u001b[0mntree_limit\u001b[0m\u001b[0;34m=\u001b[0m\u001b[0;36m0\u001b[0m\u001b[0;34m)\u001b[0m\u001b[0;34m:\u001b[0m\u001b[0;34m\u001b[0m\u001b[0;34m\u001b[0m\u001b[0m\n",
            "\u001b[0;32m/usr/local/lib/python3.7/dist-packages/xgboost/core.py\u001b[0m in \u001b[0;36mpredict\u001b[0;34m(self, data, output_margin, ntree_limit, pred_leaf, pred_contribs, approx_contribs, pred_interactions, validate_features)\u001b[0m\n\u001b[1;32m   1282\u001b[0m \u001b[0;34m\u001b[0m\u001b[0m\n\u001b[1;32m   1283\u001b[0m         \u001b[0;32mif\u001b[0m \u001b[0mvalidate_features\u001b[0m\u001b[0;34m:\u001b[0m\u001b[0;34m\u001b[0m\u001b[0;34m\u001b[0m\u001b[0m\n\u001b[0;32m-> 1284\u001b[0;31m             \u001b[0mself\u001b[0m\u001b[0;34m.\u001b[0m\u001b[0m_validate_features\u001b[0m\u001b[0;34m(\u001b[0m\u001b[0mdata\u001b[0m\u001b[0;34m)\u001b[0m\u001b[0;34m\u001b[0m\u001b[0;34m\u001b[0m\u001b[0m\n\u001b[0m\u001b[1;32m   1285\u001b[0m \u001b[0;34m\u001b[0m\u001b[0m\n\u001b[1;32m   1286\u001b[0m         \u001b[0mlength\u001b[0m \u001b[0;34m=\u001b[0m \u001b[0mc_bst_ulong\u001b[0m\u001b[0;34m(\u001b[0m\u001b[0;34m)\u001b[0m\u001b[0;34m\u001b[0m\u001b[0;34m\u001b[0m\u001b[0m\n",
            "\u001b[0;32m/usr/local/lib/python3.7/dist-packages/xgboost/core.py\u001b[0m in \u001b[0;36m_validate_features\u001b[0;34m(self, data)\u001b[0m\n\u001b[1;32m   1688\u001b[0m \u001b[0;34m\u001b[0m\u001b[0m\n\u001b[1;32m   1689\u001b[0m                 raise ValueError(msg.format(self.feature_names,\n\u001b[0;32m-> 1690\u001b[0;31m                                             data.feature_names))\n\u001b[0m\u001b[1;32m   1691\u001b[0m \u001b[0;34m\u001b[0m\u001b[0m\n\u001b[1;32m   1692\u001b[0m     \u001b[0;32mdef\u001b[0m \u001b[0mget_split_value_histogram\u001b[0m\u001b[0;34m(\u001b[0m\u001b[0mself\u001b[0m\u001b[0;34m,\u001b[0m \u001b[0mfeature\u001b[0m\u001b[0;34m,\u001b[0m \u001b[0mfmap\u001b[0m\u001b[0;34m=\u001b[0m\u001b[0;34m''\u001b[0m\u001b[0;34m,\u001b[0m \u001b[0mbins\u001b[0m\u001b[0;34m=\u001b[0m\u001b[0;32mNone\u001b[0m\u001b[0;34m,\u001b[0m \u001b[0mas_pandas\u001b[0m\u001b[0;34m=\u001b[0m\u001b[0;32mTrue\u001b[0m\u001b[0;34m)\u001b[0m\u001b[0;34m:\u001b[0m\u001b[0;34m\u001b[0m\u001b[0;34m\u001b[0m\u001b[0m\n",
            "\u001b[0;31mValueError\u001b[0m: feature_names mismatch: ['city', 'rooms', 'bathroom', 'parking spaces', 'furniture', 'fire insurance (R$)'] ['f0', 'f1', 'f2', 'f3', 'f4', 'f5']\nexpected furniture, fire insurance (R$), city, rooms, bathroom, parking spaces in input data\ntraining data did not have the following fields: f3, f0, f1, f2, f5, f4"
          ]
        }
      ]
    },
    {
      "cell_type": "code",
      "metadata": {
        "colab": {
          "base_uri": "https://localhost:8080/",
          "height": 297
        },
        "id": "4wekSwee0y62",
        "outputId": "e0d3cbf9-ce36-420a-fc8c-1a3b72db1e1f"
      },
      "source": [
        "\n",
        "dataset_temp = data.loc[lambda data: data['city'] == 'Porto Alegre']\n",
        "dataset_temp = dataset_temp.loc[lambda dataset_temp: dataset_temp['furniture'] == 1]\n",
        "dataset_temp = dataset_temp.loc[lambda dataset_temp: dataset_temp['rooms'] == 1]\n",
        "dataset_temp = dataset_temp.loc[lambda dataset_temp: dataset_temp['bathroom'] == 1]\n",
        "dataset_temp = dataset_temp.loc[lambda dataset_temp: dataset_temp['parking spaces'] == 1]\n",
        "dataset_temp = dataset_temp.loc[lambda dataset_temp: dataset_temp['fire insurance (R$)'] > 20]\n",
        "dataset_temp = dataset_temp.loc[lambda dataset_temp: dataset_temp['fire insurance (R$)'] < 30]\n",
        "dataset_temp.describe()\n",
        "#dataset_temp"
      ],
      "execution_count": null,
      "outputs": [
        {
          "output_type": "execute_result",
          "data": {
            "text/html": [
              "<div>\n",
              "<style scoped>\n",
              "    .dataframe tbody tr th:only-of-type {\n",
              "        vertical-align: middle;\n",
              "    }\n",
              "\n",
              "    .dataframe tbody tr th {\n",
              "        vertical-align: top;\n",
              "    }\n",
              "\n",
              "    .dataframe thead th {\n",
              "        text-align: right;\n",
              "    }\n",
              "</style>\n",
              "<table border=\"1\" class=\"dataframe\">\n",
              "  <thead>\n",
              "    <tr style=\"text-align: right;\">\n",
              "      <th></th>\n",
              "      <th>city</th>\n",
              "      <th>rooms</th>\n",
              "      <th>bathroom</th>\n",
              "      <th>parking spaces</th>\n",
              "      <th>furniture</th>\n",
              "      <th>fire insurance (R$)</th>\n",
              "      <th>rent amount (R$)</th>\n",
              "    </tr>\n",
              "  </thead>\n",
              "  <tbody>\n",
              "    <tr>\n",
              "      <th>count</th>\n",
              "      <td>0.0</td>\n",
              "      <td>0.0</td>\n",
              "      <td>0.0</td>\n",
              "      <td>0.0</td>\n",
              "      <td>0.0</td>\n",
              "      <td>0.0</td>\n",
              "      <td>0.0</td>\n",
              "    </tr>\n",
              "    <tr>\n",
              "      <th>mean</th>\n",
              "      <td>NaN</td>\n",
              "      <td>NaN</td>\n",
              "      <td>NaN</td>\n",
              "      <td>NaN</td>\n",
              "      <td>NaN</td>\n",
              "      <td>NaN</td>\n",
              "      <td>NaN</td>\n",
              "    </tr>\n",
              "    <tr>\n",
              "      <th>std</th>\n",
              "      <td>NaN</td>\n",
              "      <td>NaN</td>\n",
              "      <td>NaN</td>\n",
              "      <td>NaN</td>\n",
              "      <td>NaN</td>\n",
              "      <td>NaN</td>\n",
              "      <td>NaN</td>\n",
              "    </tr>\n",
              "    <tr>\n",
              "      <th>min</th>\n",
              "      <td>NaN</td>\n",
              "      <td>NaN</td>\n",
              "      <td>NaN</td>\n",
              "      <td>NaN</td>\n",
              "      <td>NaN</td>\n",
              "      <td>NaN</td>\n",
              "      <td>NaN</td>\n",
              "    </tr>\n",
              "    <tr>\n",
              "      <th>25%</th>\n",
              "      <td>NaN</td>\n",
              "      <td>NaN</td>\n",
              "      <td>NaN</td>\n",
              "      <td>NaN</td>\n",
              "      <td>NaN</td>\n",
              "      <td>NaN</td>\n",
              "      <td>NaN</td>\n",
              "    </tr>\n",
              "    <tr>\n",
              "      <th>50%</th>\n",
              "      <td>NaN</td>\n",
              "      <td>NaN</td>\n",
              "      <td>NaN</td>\n",
              "      <td>NaN</td>\n",
              "      <td>NaN</td>\n",
              "      <td>NaN</td>\n",
              "      <td>NaN</td>\n",
              "    </tr>\n",
              "    <tr>\n",
              "      <th>75%</th>\n",
              "      <td>NaN</td>\n",
              "      <td>NaN</td>\n",
              "      <td>NaN</td>\n",
              "      <td>NaN</td>\n",
              "      <td>NaN</td>\n",
              "      <td>NaN</td>\n",
              "      <td>NaN</td>\n",
              "    </tr>\n",
              "    <tr>\n",
              "      <th>max</th>\n",
              "      <td>NaN</td>\n",
              "      <td>NaN</td>\n",
              "      <td>NaN</td>\n",
              "      <td>NaN</td>\n",
              "      <td>NaN</td>\n",
              "      <td>NaN</td>\n",
              "      <td>NaN</td>\n",
              "    </tr>\n",
              "  </tbody>\n",
              "</table>\n",
              "</div>"
            ],
            "text/plain": [
              "       city  rooms  bathroom  ...  furniture  fire insurance (R$)  rent amount (R$)\n",
              "count   0.0    0.0       0.0  ...        0.0                  0.0               0.0\n",
              "mean    NaN    NaN       NaN  ...        NaN                  NaN               NaN\n",
              "std     NaN    NaN       NaN  ...        NaN                  NaN               NaN\n",
              "min     NaN    NaN       NaN  ...        NaN                  NaN               NaN\n",
              "25%     NaN    NaN       NaN  ...        NaN                  NaN               NaN\n",
              "50%     NaN    NaN       NaN  ...        NaN                  NaN               NaN\n",
              "75%     NaN    NaN       NaN  ...        NaN                  NaN               NaN\n",
              "max     NaN    NaN       NaN  ...        NaN                  NaN               NaN\n",
              "\n",
              "[8 rows x 7 columns]"
            ]
          },
          "metadata": {
            "tags": []
          },
          "execution_count": 106
        }
      ]
    },
    {
      "cell_type": "code",
      "metadata": {
        "colab": {
          "base_uri": "https://localhost:8080/",
          "height": 417
        },
        "id": "pUPTZZZotoXc",
        "outputId": "f5d8dce5-3041-492c-d8ad-928178306978"
      },
      "source": [
        "plt.figure(figsize=(9, 6))\n",
        "plt.bar(list(label_encoder2.classes_), data['city'].value_counts().values)\n",
        "plt.suptitle('Count of cities records')\n",
        "plt.show()"
      ],
      "execution_count": null,
      "outputs": [
        {
          "output_type": "display_data",
          "data": {
            "image/png": "[encoded data removed]",
            "text/plain": [
              "<Figure size 648x432 with 1 Axes>"
            ]
          },
          "metadata": {
            "tags": [],
            "needs_background": "light"
          }
        }
      ]
    }
  ]
}